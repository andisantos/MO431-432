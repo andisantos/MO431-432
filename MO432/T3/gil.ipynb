{
 "cells": [
  {
   "cell_type": "code",
   "execution_count": 2,
   "id": "49fa02a3",
   "metadata": {},
   "outputs": [],
   "source": [
    "import pandas as pd\n",
    "import numpy as np\n",
    "import matplotlib.pyplot as plt\n",
    "import seaborn as sns\n",
    "#from statsmodels.tsa.stattools import adfuller, kpss\n",
    "#from statsmodels.tsa.stattools import acf, pacf\n",
    "#from statsmodels.graphics.tsaplots import plot_acf, plot_pacf\n",
    "from sklearn.model_selection import train_test_split\n",
    "from sklearn.preprocessing import StandardScaler\n",
    "from sklearn.model_selection import KFold, cross_validate\n",
    "from sklearn.linear_model import LinearRegression, Ridge, Lasso\n",
    "from sklearn.ensemble import RandomForestClassifier, RandomForestRegressor, GradientBoostingRegressor\n",
    "from sklearn.metrics import mean_squared_error"
   ]
  },
  {
   "cell_type": "code",
   "execution_count": 3,
   "id": "f00b1d29",
   "metadata": {},
   "outputs": [
    {
     "name": "stdout",
     "output_type": "stream",
     "text": [
      "Número de linhas: 1069\n",
      "Número de colunas: 13\n"
     ]
    },
    {
     "data": {
      "text/html": [
       "<div>\n",
       "<style scoped>\n",
       "    .dataframe tbody tr th:only-of-type {\n",
       "        vertical-align: middle;\n",
       "    }\n",
       "\n",
       "    .dataframe tbody tr th {\n",
       "        vertical-align: top;\n",
       "    }\n",
       "\n",
       "    .dataframe thead th {\n",
       "        text-align: right;\n",
       "    }\n",
       "</style>\n",
       "<table border=\"1\" class=\"dataframe\">\n",
       "  <thead>\n",
       "    <tr style=\"text-align: right;\">\n",
       "      <th></th>\n",
       "      <th>data</th>\n",
       "      <th>today_price</th>\n",
       "      <th>next_week_price</th>\n",
       "      <th>delta</th>\n",
       "      <th>m3</th>\n",
       "      <th>m5</th>\n",
       "      <th>m7</th>\n",
       "      <th>m9</th>\n",
       "      <th>m12</th>\n",
       "      <th>m14</th>\n",
       "      <th>m17</th>\n",
       "      <th>m21</th>\n",
       "      <th>m28</th>\n",
       "    </tr>\n",
       "  </thead>\n",
       "  <tbody>\n",
       "    <tr>\n",
       "      <th>27</th>\n",
       "      <td>2020-06-12</td>\n",
       "      <td>1853.1</td>\n",
       "      <td>1898.2</td>\n",
       "      <td>45.1</td>\n",
       "      <td>1881.466667</td>\n",
       "      <td>1881.466667</td>\n",
       "      <td>1871.342857</td>\n",
       "      <td>1863.544444</td>\n",
       "      <td>1843.016667</td>\n",
       "      <td>1824.592857</td>\n",
       "      <td>1809.229412</td>\n",
       "      <td>1801.695238</td>\n",
       "      <td>1819.032143</td>\n",
       "    </tr>\n",
       "    <tr>\n",
       "      <th>28</th>\n",
       "      <td>2020-11-29</td>\n",
       "      <td>1849.0</td>\n",
       "      <td>1853.1</td>\n",
       "      <td>4.1</td>\n",
       "      <td>1866.766667</td>\n",
       "      <td>1866.766667</td>\n",
       "      <td>1869.085714</td>\n",
       "      <td>1867.011111</td>\n",
       "      <td>1852.600000</td>\n",
       "      <td>1833.500000</td>\n",
       "      <td>1816.211765</td>\n",
       "      <td>1805.466667</td>\n",
       "      <td>1818.353571</td>\n",
       "    </tr>\n",
       "    <tr>\n",
       "      <th>29</th>\n",
       "      <td>2020-11-22</td>\n",
       "      <td>1797.5</td>\n",
       "      <td>1849.0</td>\n",
       "      <td>51.5</td>\n",
       "      <td>1833.200000</td>\n",
       "      <td>1833.200000</td>\n",
       "      <td>1863.157143</td>\n",
       "      <td>1860.655556</td>\n",
       "      <td>1853.875000</td>\n",
       "      <td>1840.192857</td>\n",
       "      <td>1819.800000</td>\n",
       "      <td>1806.304762</td>\n",
       "      <td>1815.421429</td>\n",
       "    </tr>\n",
       "    <tr>\n",
       "      <th>30</th>\n",
       "      <td>2020-11-15</td>\n",
       "      <td>1888.2</td>\n",
       "      <td>1797.5</td>\n",
       "      <td>-90.7</td>\n",
       "      <td>1844.900000</td>\n",
       "      <td>1844.900000</td>\n",
       "      <td>1869.271429</td>\n",
       "      <td>1863.255556</td>\n",
       "      <td>1858.883333</td>\n",
       "      <td>1851.207143</td>\n",
       "      <td>1828.176471</td>\n",
       "      <td>1811.352381</td>\n",
       "      <td>1815.285714</td>\n",
       "    </tr>\n",
       "    <tr>\n",
       "      <th>31</th>\n",
       "      <td>2020-08-11</td>\n",
       "      <td>1906.3</td>\n",
       "      <td>1888.2</td>\n",
       "      <td>-18.1</td>\n",
       "      <td>1864.000000</td>\n",
       "      <td>1864.000000</td>\n",
       "      <td>1869.342857</td>\n",
       "      <td>1870.733333</td>\n",
       "      <td>1866.258333</td>\n",
       "      <td>1860.071429</td>\n",
       "      <td>1838.882353</td>\n",
       "      <td>1818.947619</td>\n",
       "      <td>1815.321429</td>\n",
       "    </tr>\n",
       "  </tbody>\n",
       "</table>\n",
       "</div>"
      ],
      "text/plain": [
       "         data  today_price  next_week_price  delta           m3           m5  \\\n",
       "27 2020-06-12       1853.1           1898.2   45.1  1881.466667  1881.466667   \n",
       "28 2020-11-29       1849.0           1853.1    4.1  1866.766667  1866.766667   \n",
       "29 2020-11-22       1797.5           1849.0   51.5  1833.200000  1833.200000   \n",
       "30 2020-11-15       1888.2           1797.5  -90.7  1844.900000  1844.900000   \n",
       "31 2020-08-11       1906.3           1888.2  -18.1  1864.000000  1864.000000   \n",
       "\n",
       "             m7           m9          m12          m14          m17  \\\n",
       "27  1871.342857  1863.544444  1843.016667  1824.592857  1809.229412   \n",
       "28  1869.085714  1867.011111  1852.600000  1833.500000  1816.211765   \n",
       "29  1863.157143  1860.655556  1853.875000  1840.192857  1819.800000   \n",
       "30  1869.271429  1863.255556  1858.883333  1851.207143  1828.176471   \n",
       "31  1869.342857  1870.733333  1866.258333  1860.071429  1838.882353   \n",
       "\n",
       "            m21          m28  \n",
       "27  1801.695238  1819.032143  \n",
       "28  1805.466667  1818.353571  \n",
       "29  1806.304762  1815.421429  \n",
       "30  1811.352381  1815.285714  \n",
       "31  1818.947619  1815.321429  "
      ]
     },
     "execution_count": 3,
     "metadata": {},
     "output_type": "execute_result"
    }
   ],
   "source": [
    "gold = pd.read_csv('ouro2.csv')\n",
    "gold.columns = ['data', 'today_price']\n",
    "gold['data']= pd.to_datetime(gold.data) #transform data into datetime\n",
    "#Variação do preço do ouro\n",
    "gold['next_week_price'] = gold.today_price.shift(1)\n",
    "gold['delta'] = gold.next_week_price - gold.today_price\n",
    "#gold['s3'] = gold.delta.rolling(window=3).mean()\n",
    "#gold['s10'] = gold.delta.rolling(window=10).mean()\n",
    "gold['m3'] = gold.today_price.rolling(window=3).mean()\n",
    "gold['m5'] = gold.today_price.rolling(window=3).mean()\n",
    "gold['m7'] = gold.today_price.rolling(window=7).mean()\n",
    "gold['m9'] = gold.today_price.rolling(window=9).mean()\n",
    "gold['m12'] = gold.today_price.rolling(window=12).mean()\n",
    "gold['m14'] = gold.today_price.rolling(window=14).mean()\n",
    "gold['m17'] = gold.today_price.rolling(window=17).mean()\n",
    "gold['m21'] = gold.today_price.rolling(window=21).mean()\n",
    "gold['m28'] = gold.today_price.rolling(window=28).mean()\n",
    "gold.dropna(inplace=True)\n",
    "print(\"Número de linhas: {}\\nNúmero de colunas: {}\".format(gold.shape[0], gold.shape[1]))\n",
    "gold.head()"
   ]
  },
  {
   "cell_type": "code",
   "execution_count": 4,
   "id": "8d13467d",
   "metadata": {},
   "outputs": [
    {
     "data": {
      "text/html": [
       "<div>\n",
       "<style scoped>\n",
       "    .dataframe tbody tr th:only-of-type {\n",
       "        vertical-align: middle;\n",
       "    }\n",
       "\n",
       "    .dataframe tbody tr th {\n",
       "        vertical-align: top;\n",
       "    }\n",
       "\n",
       "    .dataframe thead th {\n",
       "        text-align: right;\n",
       "    }\n",
       "</style>\n",
       "<table border=\"1\" class=\"dataframe\">\n",
       "  <thead>\n",
       "    <tr style=\"text-align: right;\">\n",
       "      <th></th>\n",
       "      <th>data</th>\n",
       "      <th>today_price</th>\n",
       "      <th>next_week_price</th>\n",
       "      <th>delta</th>\n",
       "      <th>m3</th>\n",
       "      <th>m5</th>\n",
       "      <th>m7</th>\n",
       "      <th>m9</th>\n",
       "      <th>m12</th>\n",
       "      <th>m14</th>\n",
       "      <th>m17</th>\n",
       "      <th>m21</th>\n",
       "      <th>m28</th>\n",
       "    </tr>\n",
       "  </thead>\n",
       "  <tbody>\n",
       "    <tr>\n",
       "      <th>1091</th>\n",
       "      <td>2000-07-16</td>\n",
       "      <td>280.1</td>\n",
       "      <td>277.7</td>\n",
       "      <td>-2.4</td>\n",
       "      <td>276.800000</td>\n",
       "      <td>276.800000</td>\n",
       "      <td>276.200000</td>\n",
       "      <td>275.444444</td>\n",
       "      <td>274.475000</td>\n",
       "      <td>274.092857</td>\n",
       "      <td>272.400000</td>\n",
       "      <td>271.604762</td>\n",
       "      <td>270.671429</td>\n",
       "    </tr>\n",
       "    <tr>\n",
       "      <th>1092</th>\n",
       "      <td>2000-09-07</td>\n",
       "      <td>281.1</td>\n",
       "      <td>280.1</td>\n",
       "      <td>-1.0</td>\n",
       "      <td>279.633333</td>\n",
       "      <td>279.633333</td>\n",
       "      <td>276.785714</td>\n",
       "      <td>276.422222</td>\n",
       "      <td>275.458333</td>\n",
       "      <td>274.800000</td>\n",
       "      <td>273.376471</td>\n",
       "      <td>272.028571</td>\n",
       "      <td>271.325000</td>\n",
       "    </tr>\n",
       "    <tr>\n",
       "      <th>1093</th>\n",
       "      <td>2000-02-07</td>\n",
       "      <td>283.2</td>\n",
       "      <td>281.1</td>\n",
       "      <td>-2.1</td>\n",
       "      <td>281.466667</td>\n",
       "      <td>281.466667</td>\n",
       "      <td>278.085714</td>\n",
       "      <td>277.522222</td>\n",
       "      <td>276.258333</td>\n",
       "      <td>275.571429</td>\n",
       "      <td>274.470588</td>\n",
       "      <td>272.719048</td>\n",
       "      <td>272.000000</td>\n",
       "    </tr>\n",
       "    <tr>\n",
       "      <th>1094</th>\n",
       "      <td>2000-06-25</td>\n",
       "      <td>290.1</td>\n",
       "      <td>283.2</td>\n",
       "      <td>-6.9</td>\n",
       "      <td>284.800000</td>\n",
       "      <td>284.800000</td>\n",
       "      <td>279.985714</td>\n",
       "      <td>278.977778</td>\n",
       "      <td>277.783333</td>\n",
       "      <td>277.057143</td>\n",
       "      <td>275.982353</td>\n",
       "      <td>273.852381</td>\n",
       "      <td>272.935714</td>\n",
       "    </tr>\n",
       "    <tr>\n",
       "      <th>1095</th>\n",
       "      <td>2000-06-18</td>\n",
       "      <td>282.7</td>\n",
       "      <td>290.1</td>\n",
       "      <td>7.4</td>\n",
       "      <td>285.333333</td>\n",
       "      <td>285.333333</td>\n",
       "      <td>281.071429</td>\n",
       "      <td>279.933333</td>\n",
       "      <td>278.650000</td>\n",
       "      <td>277.707143</td>\n",
       "      <td>276.658824</td>\n",
       "      <td>274.661905</td>\n",
       "      <td>273.460714</td>\n",
       "    </tr>\n",
       "  </tbody>\n",
       "</table>\n",
       "</div>"
      ],
      "text/plain": [
       "           data  today_price  next_week_price  delta          m3          m5  \\\n",
       "1091 2000-07-16        280.1            277.7   -2.4  276.800000  276.800000   \n",
       "1092 2000-09-07        281.1            280.1   -1.0  279.633333  279.633333   \n",
       "1093 2000-02-07        283.2            281.1   -2.1  281.466667  281.466667   \n",
       "1094 2000-06-25        290.1            283.2   -6.9  284.800000  284.800000   \n",
       "1095 2000-06-18        282.7            290.1    7.4  285.333333  285.333333   \n",
       "\n",
       "              m7          m9         m12         m14         m17         m21  \\\n",
       "1091  276.200000  275.444444  274.475000  274.092857  272.400000  271.604762   \n",
       "1092  276.785714  276.422222  275.458333  274.800000  273.376471  272.028571   \n",
       "1093  278.085714  277.522222  276.258333  275.571429  274.470588  272.719048   \n",
       "1094  279.985714  278.977778  277.783333  277.057143  275.982353  273.852381   \n",
       "1095  281.071429  279.933333  278.650000  277.707143  276.658824  274.661905   \n",
       "\n",
       "             m28  \n",
       "1091  270.671429  \n",
       "1092  271.325000  \n",
       "1093  272.000000  \n",
       "1094  272.935714  \n",
       "1095  273.460714  "
      ]
     },
     "execution_count": 4,
     "metadata": {},
     "output_type": "execute_result"
    }
   ],
   "source": [
    "gold.tail()"
   ]
  },
  {
   "cell_type": "markdown",
   "id": "5c29a6c1",
   "metadata": {},
   "source": [
    "### Normal series"
   ]
  },
  {
   "cell_type": "code",
   "execution_count": 5,
   "id": "5485ed61",
   "metadata": {},
   "outputs": [
    {
     "data": {
      "text/plain": [
       "<AxesSubplot:xlabel='today_price', ylabel='Count'>"
      ]
     },
     "execution_count": 5,
     "metadata": {},
     "output_type": "execute_result"
    },
    {
     "data": {
      "image/png": "[encoded data removed]",
      "text/plain": [
       "<Figure size 432x288 with 1 Axes>"
      ]
     },
     "metadata": {
      "needs_background": "light"
     },
     "output_type": "display_data"
    }
   ],
   "source": [
    "sns.histplot(gold.today_price)"
   ]
  },
  {
   "cell_type": "code",
   "execution_count": 6,
   "id": "0028e14e",
   "metadata": {},
   "outputs": [
    {
     "data": {
      "text/plain": [
       "<AxesSubplot:xlabel='data', ylabel='today_price'>"
      ]
     },
     "execution_count": 6,
     "metadata": {},
     "output_type": "execute_result"
    },
    {
     "data": {
      "image/png": "[encoded data removed]",
      "text/plain": [
       "<Figure size 432x288 with 1 Axes>"
      ]
     },
     "metadata": {
      "needs_background": "light"
     },
     "output_type": "display_data"
    }
   ],
   "source": [
    "#print timeline graph\n",
    "sns.lineplot(x=gold.data,y=gold.today_price)\n",
    "#sns.lineplot(x=gold.data,y=gold.m7)\n",
    "#sns.lineplot(x=gold.data,y=gold.m14)\n",
    "#sns.lineplot(x=gold.data,y=gold.m21)"
   ]
  },
  {
   "cell_type": "markdown",
   "id": "a18612ea",
   "metadata": {},
   "source": [
    "## Conjunto de treinamento"
   ]
  },
  {
   "cell_type": "code",
   "execution_count": 7,
   "id": "eb54edbf",
   "metadata": {},
   "outputs": [
    {
     "name": "stdout",
     "output_type": "stream",
     "text": [
      "Conjunto y de teste\n",
      "Número de linhas: 100\n"
     ]
    },
    {
     "data": {
      "text/plain": [
       "996     320.4\n",
       "997     310.6\n",
       "998     311.0\n",
       "999     312.2\n",
       "1000    311.6\n",
       "Name: next_week_price, dtype: float64"
      ]
     },
     "execution_count": 7,
     "metadata": {},
     "output_type": "execute_result"
    }
   ],
   "source": [
    "y_test = gold.next_week_price.tail(100) #Consideramos como treinamento os 100 ultimos dias\n",
    "#X_test = gold.tail(100).drop(['data','today_price','next_week_price'],axis=1)\n",
    "X_test = gold.filter(['delta','m3','m5','m7'],axis=1).tail(100)\n",
    "y_train = gold.next_week_price.head(-100)\n",
    "#X_train = gold.head(-100).drop(['data','today_price','next_week_price'],axis=1)\n",
    "X_train = gold.filter(['delta','m3','m5','m7'],axis=1).head(-100)\n",
    "print('Conjunto y de teste')\n",
    "print(\"Número de linhas: {}\".format(y_test.shape[0]))\n",
    "y_test.head()"
   ]
  },
  {
   "cell_type": "code",
   "execution_count": 8,
   "id": "c2ac5e94",
   "metadata": {},
   "outputs": [
    {
     "name": "stdout",
     "output_type": "stream",
     "text": [
      "Conjunto X de teste\n",
      "Número de linhas: 100\n",
      "Número de colunas: 4\n"
     ]
    },
    {
     "data": {
      "text/html": [
       "<div>\n",
       "<style scoped>\n",
       "    .dataframe tbody tr th:only-of-type {\n",
       "        vertical-align: middle;\n",
       "    }\n",
       "\n",
       "    .dataframe tbody tr th {\n",
       "        vertical-align: top;\n",
       "    }\n",
       "\n",
       "    .dataframe thead th {\n",
       "        text-align: right;\n",
       "    }\n",
       "</style>\n",
       "<table border=\"1\" class=\"dataframe\">\n",
       "  <thead>\n",
       "    <tr style=\"text-align: right;\">\n",
       "      <th></th>\n",
       "      <th>delta</th>\n",
       "      <th>m3</th>\n",
       "      <th>m5</th>\n",
       "      <th>m7</th>\n",
       "    </tr>\n",
       "  </thead>\n",
       "  <tbody>\n",
       "    <tr>\n",
       "      <th>996</th>\n",
       "      <td>9.8</td>\n",
       "      <td>319.166667</td>\n",
       "      <td>319.166667</td>\n",
       "      <td>319.900000</td>\n",
       "    </tr>\n",
       "    <tr>\n",
       "      <th>997</th>\n",
       "      <td>-0.4</td>\n",
       "      <td>314.000000</td>\n",
       "      <td>314.000000</td>\n",
       "      <td>319.542857</td>\n",
       "    </tr>\n",
       "    <tr>\n",
       "      <th>998</th>\n",
       "      <td>-1.2</td>\n",
       "      <td>311.266667</td>\n",
       "      <td>311.266667</td>\n",
       "      <td>317.771429</td>\n",
       "    </tr>\n",
       "    <tr>\n",
       "      <th>999</th>\n",
       "      <td>0.6</td>\n",
       "      <td>311.600000</td>\n",
       "      <td>311.600000</td>\n",
       "      <td>316.700000</td>\n",
       "    </tr>\n",
       "    <tr>\n",
       "      <th>1000</th>\n",
       "      <td>9.3</td>\n",
       "      <td>308.700000</td>\n",
       "      <td>308.700000</td>\n",
       "      <td>313.514286</td>\n",
       "    </tr>\n",
       "  </tbody>\n",
       "</table>\n",
       "</div>"
      ],
      "text/plain": [
       "      delta          m3          m5          m7\n",
       "996     9.8  319.166667  319.166667  319.900000\n",
       "997    -0.4  314.000000  314.000000  319.542857\n",
       "998    -1.2  311.266667  311.266667  317.771429\n",
       "999     0.6  311.600000  311.600000  316.700000\n",
       "1000    9.3  308.700000  308.700000  313.514286"
      ]
     },
     "execution_count": 8,
     "metadata": {},
     "output_type": "execute_result"
    }
   ],
   "source": [
    "print('Conjunto X de teste')\n",
    "print(\"Número de linhas: {}\\nNúmero de colunas: {}\".format(X_test.shape[0], X_test.shape[1]))\n",
    "X_test.head()"
   ]
  },
  {
   "cell_type": "code",
   "execution_count": 9,
   "id": "f473a054",
   "metadata": {},
   "outputs": [
    {
     "name": "stdout",
     "output_type": "stream",
     "text": [
      "Conjunto y de treino\n",
      "Número de linhas: 969\n"
     ]
    },
    {
     "data": {
      "text/plain": [
       "27    1898.2\n",
       "28    1853.1\n",
       "29    1849.0\n",
       "30    1797.5\n",
       "31    1888.2\n",
       "Name: next_week_price, dtype: float64"
      ]
     },
     "execution_count": 9,
     "metadata": {},
     "output_type": "execute_result"
    }
   ],
   "source": [
    "print('Conjunto y de treino')\n",
    "print(\"Número de linhas: {}\".format(y_train.shape[0]))\n",
    "y_train.head()"
   ]
  },
  {
   "cell_type": "code",
   "execution_count": 10,
   "id": "3abe52c5",
   "metadata": {},
   "outputs": [
    {
     "name": "stdout",
     "output_type": "stream",
     "text": [
      "Conjunto X de treino\n",
      "Número de linhas: 969\n",
      "Número de colunas: 4\n"
     ]
    },
    {
     "data": {
      "text/html": [
       "<div>\n",
       "<style scoped>\n",
       "    .dataframe tbody tr th:only-of-type {\n",
       "        vertical-align: middle;\n",
       "    }\n",
       "\n",
       "    .dataframe tbody tr th {\n",
       "        vertical-align: top;\n",
       "    }\n",
       "\n",
       "    .dataframe thead th {\n",
       "        text-align: right;\n",
       "    }\n",
       "</style>\n",
       "<table border=\"1\" class=\"dataframe\">\n",
       "  <thead>\n",
       "    <tr style=\"text-align: right;\">\n",
       "      <th></th>\n",
       "      <th>delta</th>\n",
       "      <th>m3</th>\n",
       "      <th>m5</th>\n",
       "      <th>m7</th>\n",
       "    </tr>\n",
       "  </thead>\n",
       "  <tbody>\n",
       "    <tr>\n",
       "      <th>27</th>\n",
       "      <td>45.1</td>\n",
       "      <td>1881.466667</td>\n",
       "      <td>1881.466667</td>\n",
       "      <td>1871.342857</td>\n",
       "    </tr>\n",
       "    <tr>\n",
       "      <th>28</th>\n",
       "      <td>4.1</td>\n",
       "      <td>1866.766667</td>\n",
       "      <td>1866.766667</td>\n",
       "      <td>1869.085714</td>\n",
       "    </tr>\n",
       "    <tr>\n",
       "      <th>29</th>\n",
       "      <td>51.5</td>\n",
       "      <td>1833.200000</td>\n",
       "      <td>1833.200000</td>\n",
       "      <td>1863.157143</td>\n",
       "    </tr>\n",
       "    <tr>\n",
       "      <th>30</th>\n",
       "      <td>-90.7</td>\n",
       "      <td>1844.900000</td>\n",
       "      <td>1844.900000</td>\n",
       "      <td>1869.271429</td>\n",
       "    </tr>\n",
       "    <tr>\n",
       "      <th>31</th>\n",
       "      <td>-18.1</td>\n",
       "      <td>1864.000000</td>\n",
       "      <td>1864.000000</td>\n",
       "      <td>1869.342857</td>\n",
       "    </tr>\n",
       "  </tbody>\n",
       "</table>\n",
       "</div>"
      ],
      "text/plain": [
       "    delta           m3           m5           m7\n",
       "27   45.1  1881.466667  1881.466667  1871.342857\n",
       "28    4.1  1866.766667  1866.766667  1869.085714\n",
       "29   51.5  1833.200000  1833.200000  1863.157143\n",
       "30  -90.7  1844.900000  1844.900000  1869.271429\n",
       "31  -18.1  1864.000000  1864.000000  1869.342857"
      ]
     },
     "execution_count": 10,
     "metadata": {},
     "output_type": "execute_result"
    }
   ],
   "source": [
    "print('Conjunto X de treino')\n",
    "print(\"Número de linhas: {}\\nNúmero de colunas: {}\".format(X_train.shape[0], X_train.shape[1]))\n",
    "X_train.head()"
   ]
  },
  {
   "cell_type": "markdown",
   "id": "6137920c",
   "metadata": {},
   "source": [
    "## Baseline"
   ]
  },
  {
   "cell_type": "code",
   "execution_count": 16,
   "id": "f89cb567",
   "metadata": {},
   "outputs": [
    {
     "name": "stdout",
     "output_type": "stream",
     "text": [
      "Acertos: 50\n"
     ]
    }
   ],
   "source": [
    "baseline = X_test.query('delta > 0')\n",
    "acertos_bl = baseline.shape[0]\n",
    "print(\"Acertos: {}\".format(acertos_bl))"
   ]
  },
  {
   "cell_type": "markdown",
   "id": "fc76e73c",
   "metadata": {},
   "source": [
    "## Random Forest Regressor"
   ]
  },
  {
   "cell_type": "code",
   "execution_count": 46,
   "id": "5c41ecd7",
   "metadata": {},
   "outputs": [
    {
     "name": "stdout",
     "output_type": "stream",
     "text": [
      "Melhor RMSE = 8.851626632352101\n",
      "Valor de estimadores = 50\n",
      "Valor máximo de atributos = 6\n"
     ]
    }
   ],
   "source": [
    "n_estimators_list = [50, 100, 1000]\n",
    "max_features_list = [2, 4, 6]\n",
    "final_rmse = np.inf\n",
    "for n_estimators_value in n_estimators_list:\n",
    "    for max_features_value in max_features_list:\n",
    "        cross_val = cross_validate(\n",
    "            RandomForestRegressor(n_estimators = n_estimators_value, max_features = max_features_value),\n",
    "            X_train,\n",
    "            np.ravel(y_train),\n",
    "            scoring=('neg_root_mean_squared_error')\n",
    "        )\n",
    "        rmse_medio = np.sqrt(np.mean(np.absolute(cross_val['test_score'])))\n",
    "        if rmse_medio < final_rmse:\n",
    "            final_rmse = rmse_medio\n",
    "            final_n_estimators = n_estimators_value\n",
    "            final_max_features = max_features_value\n",
    "print(\"Melhor RMSE = {}\".format(final_rmse))\n",
    "print(\"Valor de estimadores = {}\".format(final_n_estimators))\n",
    "print(\"Valor máximo de atributos = {}\".format(final_max_features))"
   ]
  },
  {
   "cell_type": "markdown",
   "id": "49350409",
   "metadata": {},
   "source": [
    "## Linear Regressor"
   ]
  },
  {
   "cell_type": "code",
   "execution_count": 17,
   "id": "9768921f",
   "metadata": {},
   "outputs": [
    {
     "name": "stdout",
     "output_type": "stream",
     "text": [
      "RMSE = 2.8644291830040696\n"
     ]
    }
   ],
   "source": [
    "cross_val = cross_validate(\n",
    "    LinearRegression(),\n",
    "    X_train,\n",
    "    y_train,\n",
    "    scoring=('neg_root_mean_squared_error')\n",
    ")\n",
    "rmse_medio =  np.sqrt(np.mean(np.absolute(cross_val['test_score'])))\n",
    "print(\"RMSE = {}\".format(rmse_medio))"
   ]
  },
  {
   "cell_type": "code",
   "execution_count": 18,
   "id": "bd1fcc04",
   "metadata": {},
   "outputs": [
    {
     "name": "stdout",
     "output_type": "stream",
     "text": [
      "Linear Regression model\n",
      "Gold Week Price (y) = 0.38 * Delta (x1) + 0.58 * 3 Days Moving Average (x2) + 0.58 * 5 Days Moving Average (x3) + -0.17 * 7 Days Moving Average (x4) + 0.26 (constant)\n"
     ]
    }
   ],
   "source": [
    "linear = LinearRegression().fit(X_train, y_train)\n",
    "print(\"Linear Regression model\")\n",
    "print(\"Gold Week Price (y) = %.2f * Delta (x1) \\\n",
    "+ %.2f * 3 Days Moving Average (x2) \\\n",
    "+ %.2f * 5 Days Moving Average (x3) \\\n",
    "+ %.2f * 7 Days Moving Average (x4) \\\n",
    "+ %.2f (constant)\" % (linear.coef_[0], linear.coef_[1], linear.coef_[2], linear.coef_[3], linear.intercept_))"
   ]
  },
  {
   "cell_type": "code",
   "execution_count": 19,
   "id": "65f19426",
   "metadata": {},
   "outputs": [
    {
     "data": {
      "image/png": "[encoded data removed]",
      "text/plain": [
       "<Figure size 720x504 with 1 Axes>"
      ]
     },
     "metadata": {
      "needs_background": "light"
     },
     "output_type": "display_data"
    }
   ],
   "source": [
    "predicted_price = linear.predict(X_test)\n",
    "d = {'actual_price': y_test,'predicted_price': predicted_price}\n",
    "df = pd.DataFrame(data=d)\n",
    "df['actual_var'] = df.actual_price.shift(1) - df.actual_price\n",
    "df['actual_var_sign'] = np.sign(df.actual_var)\n",
    "df['predicted_var'] = df.predicted_price.shift(1) - df.predicted_price\n",
    "df['predicted_var_sign'] = df.predicted_var/abs(df.predicted_var)\n",
    "df['correct_prediction'] = np.equal(df.actual_var_sign, df.predicted_var_sign)\n",
    "predicted_price = pd.DataFrame(\n",
    "    predicted_price, index=y_test.index, columns=['price'])\n",
    "predicted_price.plot(figsize=(10, 7))\n",
    "y_test.plot()\n",
    "plt.legend(['predicted_price', 'actual_price'])\n",
    "plt.ylabel(\"Gold Week Price\")\n",
    "plt.show()"
   ]
  },
  {
   "cell_type": "code",
   "execution_count": 20,
   "id": "35964edd",
   "metadata": {},
   "outputs": [
    {
     "name": "stdout",
     "output_type": "stream",
     "text": [
      "Número de linhas: 100\n"
     ]
    }
   ],
   "source": [
    "df.head(30)\n",
    "print(\"Número de linhas: {}\".format(df.shape[0]))"
   ]
  },
  {
   "cell_type": "code",
   "execution_count": 21,
   "id": "283c2d5c",
   "metadata": {},
   "outputs": [
    {
     "data": {
      "text/plain": [
       "98.57"
      ]
     },
     "execution_count": 21,
     "metadata": {},
     "output_type": "execute_result"
    }
   ],
   "source": [
    "r2_score = linear.score(X_test, y_test)*100\n",
    "float(\"{0:.2f}\".format(r2_score))"
   ]
  },
  {
   "cell_type": "code",
   "execution_count": 22,
   "id": "2d245aee",
   "metadata": {},
   "outputs": [
    {
     "name": "stdout",
     "output_type": "stream",
     "text": [
      "Acertos: 86\n"
     ]
    }
   ],
   "source": [
    "res = df.query('correct_prediction == True')\n",
    "acertos = res.shape[0]\n",
    "print(\"Acertos: {}\".format(acertos))"
   ]
  },
  {
   "cell_type": "code",
   "execution_count": null,
   "id": "e4ae3099",
   "metadata": {},
   "outputs": [],
   "source": []
  }
 ],
 "metadata": {
  "kernelspec": {
   "display_name": "Python 3",
   "language": "python",
   "name": "python3"
  },
  "language_info": {
   "codemirror_mode": {
    "name": "ipython",
    "version": 3
   },
   "file_extension": ".py",
   "mimetype": "text/x-python",
   "name": "python",
   "nbconvert_exporter": "python",
   "pygments_lexer": "ipython3",
   "version": "3.8.10"
  }
 },
 "nbformat": 4,
 "nbformat_minor": 5
}
