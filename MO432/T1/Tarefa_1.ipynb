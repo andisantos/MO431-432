{
 "cells": [
  {
   "cell_type": "code",
   "execution_count": 55,
   "metadata": {},
   "outputs": [],
   "source": [
    "import pandas as pd\n",
    "import sklearn\n",
    "from sklearn.preprocessing import OneHotEncoder"
   ]
  },
  {
   "cell_type": "markdown",
   "metadata": {},
   "source": [
    "# Leitura dos dados"
   ]
  },
  {
   "cell_type": "code",
   "execution_count": 54,
   "metadata": {},
   "outputs": [
    {
     "name": "stdout",
     "output_type": "stream",
     "text": [
      "Dados:\n",
      "Número de linhas: 1066\n",
      "Número de colunas: 1\n"
     ]
    }
   ],
   "source": [
    "df_original = pd.read_csv('solar-flare.csv', header = None, skiprows = 1)\n",
    "print(\"Dados:\")\n",
    "print(\"Número de linhas: {}\\nNúmero de colunas: {}\".format(data.shape[0], data.shape[1]))"
   ]
  },
  {
   "cell_type": "markdown",
   "metadata": {},
   "source": [
    "Impressão das primeiras e últimas 10 amostras do conjunto de dados"
   ]
  },
  {
   "cell_type": "code",
   "execution_count": 61,
   "metadata": {},
   "outputs": [
    {
     "data": {
      "text/html": [
       "<div>\n",
       "<style scoped>\n",
       "    .dataframe tbody tr th:only-of-type {\n",
       "        vertical-align: middle;\n",
       "    }\n",
       "\n",
       "    .dataframe tbody tr th {\n",
       "        vertical-align: top;\n",
       "    }\n",
       "\n",
       "    .dataframe thead th {\n",
       "        text-align: right;\n",
       "    }\n",
       "</style>\n",
       "<table border=\"1\" class=\"dataframe\">\n",
       "  <thead>\n",
       "    <tr style=\"text-align: right;\">\n",
       "      <th></th>\n",
       "      <th>0</th>\n",
       "    </tr>\n",
       "  </thead>\n",
       "  <tbody>\n",
       "    <tr>\n",
       "      <th>0</th>\n",
       "      <td>H A X 1 3 1 1 1 1 1 0 0 0</td>\n",
       "    </tr>\n",
       "    <tr>\n",
       "      <th>1</th>\n",
       "      <td>D R O 1 3 1 1 2 1 1 0 0 0</td>\n",
       "    </tr>\n",
       "    <tr>\n",
       "      <th>2</th>\n",
       "      <td>C S O 1 3 1 1 2 1 1 0 0 0</td>\n",
       "    </tr>\n",
       "    <tr>\n",
       "      <th>3</th>\n",
       "      <td>H R X 1 2 1 1 1 1 1 0 0 0</td>\n",
       "    </tr>\n",
       "    <tr>\n",
       "      <th>4</th>\n",
       "      <td>H S X 1 1 1 1 2 1 1 0 0 0</td>\n",
       "    </tr>\n",
       "    <tr>\n",
       "      <th>5</th>\n",
       "      <td>C A O 1 2 1 1 2 1 1 0 0 0</td>\n",
       "    </tr>\n",
       "    <tr>\n",
       "      <th>6</th>\n",
       "      <td>B X O 1 3 1 1 2 1 1 0 0 0</td>\n",
       "    </tr>\n",
       "    <tr>\n",
       "      <th>7</th>\n",
       "      <td>C A O 1 3 1 1 2 1 1 0 0 0</td>\n",
       "    </tr>\n",
       "    <tr>\n",
       "      <th>8</th>\n",
       "      <td>C A O 1 2 1 1 2 1 1 1 0 0</td>\n",
       "    </tr>\n",
       "    <tr>\n",
       "      <th>9</th>\n",
       "      <td>B X O 1 3 1 1 2 1 1 0 0 0</td>\n",
       "    </tr>\n",
       "  </tbody>\n",
       "</table>\n",
       "</div>"
      ],
      "text/plain": [
       "                           0\n",
       "0  H A X 1 3 1 1 1 1 1 0 0 0\n",
       "1  D R O 1 3 1 1 2 1 1 0 0 0\n",
       "2  C S O 1 3 1 1 2 1 1 0 0 0\n",
       "3  H R X 1 2 1 1 1 1 1 0 0 0\n",
       "4  H S X 1 1 1 1 2 1 1 0 0 0\n",
       "5  C A O 1 2 1 1 2 1 1 0 0 0\n",
       "6  B X O 1 3 1 1 2 1 1 0 0 0\n",
       "7  C A O 1 3 1 1 2 1 1 0 0 0\n",
       "8  C A O 1 2 1 1 2 1 1 1 0 0\n",
       "9  B X O 1 3 1 1 2 1 1 0 0 0"
      ]
     },
     "execution_count": 61,
     "metadata": {},
     "output_type": "execute_result"
    }
   ],
   "source": [
    "df_original.head(10)"
   ]
  },
  {
   "cell_type": "code",
   "execution_count": 57,
   "metadata": {},
   "outputs": [
    {
     "data": {
      "text/html": [
       "<div>\n",
       "<style scoped>\n",
       "    .dataframe tbody tr th:only-of-type {\n",
       "        vertical-align: middle;\n",
       "    }\n",
       "\n",
       "    .dataframe tbody tr th {\n",
       "        vertical-align: top;\n",
       "    }\n",
       "\n",
       "    .dataframe thead th {\n",
       "        text-align: right;\n",
       "    }\n",
       "</style>\n",
       "<table border=\"1\" class=\"dataframe\">\n",
       "  <thead>\n",
       "    <tr style=\"text-align: right;\">\n",
       "      <th></th>\n",
       "      <th>0</th>\n",
       "    </tr>\n",
       "  </thead>\n",
       "  <tbody>\n",
       "    <tr>\n",
       "      <th>1056</th>\n",
       "      <td>H S X 1 2 1 1 2 1 1 1 0 0</td>\n",
       "    </tr>\n",
       "    <tr>\n",
       "      <th>1057</th>\n",
       "      <td>D S O 1 2 1 2 2 1 1 0 0 0</td>\n",
       "    </tr>\n",
       "    <tr>\n",
       "      <th>1058</th>\n",
       "      <td>H S X 1 2 2 2 2 1 1 0 0 0</td>\n",
       "    </tr>\n",
       "    <tr>\n",
       "      <th>1059</th>\n",
       "      <td>H S X 2 2 1 1 2 1 1 0 0 0</td>\n",
       "    </tr>\n",
       "    <tr>\n",
       "      <th>1060</th>\n",
       "      <td>D R O 1 3 1 1 2 1 1 0 0 0</td>\n",
       "    </tr>\n",
       "    <tr>\n",
       "      <th>1061</th>\n",
       "      <td>H S X 1 2 1 1 1 1 1 0 0 0</td>\n",
       "    </tr>\n",
       "    <tr>\n",
       "      <th>1062</th>\n",
       "      <td>H S X 2 2 1 1 2 1 1 0 0 0</td>\n",
       "    </tr>\n",
       "    <tr>\n",
       "      <th>1063</th>\n",
       "      <td>C S O 1 2 1 2 2 1 1 0 0 0</td>\n",
       "    </tr>\n",
       "    <tr>\n",
       "      <th>1064</th>\n",
       "      <td>H R X 1 2 1 1 2 1 1 0 0 0</td>\n",
       "    </tr>\n",
       "    <tr>\n",
       "      <th>1065</th>\n",
       "      <td>B X O 1 1 1 1 2 1 1 0 0 0</td>\n",
       "    </tr>\n",
       "  </tbody>\n",
       "</table>\n",
       "</div>"
      ],
      "text/plain": [
       "                              0\n",
       "1056  H S X 1 2 1 1 2 1 1 1 0 0\n",
       "1057  D S O 1 2 1 2 2 1 1 0 0 0\n",
       "1058  H S X 1 2 2 2 2 1 1 0 0 0\n",
       "1059  H S X 2 2 1 1 2 1 1 0 0 0\n",
       "1060  D R O 1 3 1 1 2 1 1 0 0 0\n",
       "1061  H S X 1 2 1 1 1 1 1 0 0 0\n",
       "1062  H S X 2 2 1 1 2 1 1 0 0 0\n",
       "1063  C S O 1 2 1 2 2 1 1 0 0 0\n",
       "1064  H R X 1 2 1 1 2 1 1 0 0 0\n",
       "1065  B X O 1 1 1 1 2 1 1 0 0 0"
      ]
     },
     "execution_count": 57,
     "metadata": {},
     "output_type": "execute_result"
    }
   ],
   "source": [
    "df_original.tail(10)"
   ]
  },
  {
   "cell_type": "markdown",
   "metadata": {},
   "source": [
    "Para facilitar a manipulação dos dados, separamos a coluna composta por todos os dados em 13 colunas de nomes correspondentes a seus significados. O significado de cada valor foi retirado da fonte da base, disponível em https://archive.ics.uci.edu/ml/datasets/Solar+Flare\n",
    "\n"
   ]
  },
  {
   "cell_type": "code",
   "execution_count": 51,
   "metadata": {},
   "outputs": [],
   "source": [
    "df_original[['class_code', 'largest_spot_size', 'spot_distribution',\n",
    "         'activity', 'evolution', '24_flare_activity', \n",
    "         'historically_complex', 'region_become_hcomplex', 'area',\n",
    "         'largest_spot_area', 'c_class', 'm_class', 'x_class']] = df_original[0].str.split(' ', expand = True)\n",
    "df_data = df_original[['class_code','largest_spot_size', 'spot_distribution', 'activity',\n",
    "                       'evolution', '24_flare_activity', 'historically_complex',\n",
    "                       'region_become_hcomplex', 'area', 'largest_spot_area',\n",
    "                       'c_class', 'm_class', 'x_class']]"
   ]
  },
  {
   "cell_type": "markdown",
   "metadata": {},
   "source": [
    "Ao final da separação dos dados em colunas, temos o conjunto de dados organizados da seguinte forma:"
   ]
  },
  {
   "cell_type": "code",
   "execution_count": 53,
   "metadata": {},
   "outputs": [
    {
     "data": {
      "text/html": [
       "<div>\n",
       "<style scoped>\n",
       "    .dataframe tbody tr th:only-of-type {\n",
       "        vertical-align: middle;\n",
       "    }\n",
       "\n",
       "    .dataframe tbody tr th {\n",
       "        vertical-align: top;\n",
       "    }\n",
       "\n",
       "    .dataframe thead th {\n",
       "        text-align: right;\n",
       "    }\n",
       "</style>\n",
       "<table border=\"1\" class=\"dataframe\">\n",
       "  <thead>\n",
       "    <tr style=\"text-align: right;\">\n",
       "      <th></th>\n",
       "      <th>class_code</th>\n",
       "      <th>largest_spot_size</th>\n",
       "      <th>spot_distribution</th>\n",
       "      <th>activity</th>\n",
       "      <th>evolution</th>\n",
       "      <th>24_flare_activity</th>\n",
       "      <th>historically_complex</th>\n",
       "      <th>region_become_hcomplex</th>\n",
       "      <th>area</th>\n",
       "      <th>largest_spot_area</th>\n",
       "      <th>c_class</th>\n",
       "      <th>m_class</th>\n",
       "      <th>x_class</th>\n",
       "    </tr>\n",
       "  </thead>\n",
       "  <tbody>\n",
       "    <tr>\n",
       "      <th>0</th>\n",
       "      <td>H</td>\n",
       "      <td>A</td>\n",
       "      <td>X</td>\n",
       "      <td>1</td>\n",
       "      <td>3</td>\n",
       "      <td>1</td>\n",
       "      <td>1</td>\n",
       "      <td>1</td>\n",
       "      <td>1</td>\n",
       "      <td>1</td>\n",
       "      <td>0</td>\n",
       "      <td>0</td>\n",
       "      <td>0</td>\n",
       "    </tr>\n",
       "    <tr>\n",
       "      <th>1</th>\n",
       "      <td>D</td>\n",
       "      <td>R</td>\n",
       "      <td>O</td>\n",
       "      <td>1</td>\n",
       "      <td>3</td>\n",
       "      <td>1</td>\n",
       "      <td>1</td>\n",
       "      <td>2</td>\n",
       "      <td>1</td>\n",
       "      <td>1</td>\n",
       "      <td>0</td>\n",
       "      <td>0</td>\n",
       "      <td>0</td>\n",
       "    </tr>\n",
       "    <tr>\n",
       "      <th>2</th>\n",
       "      <td>C</td>\n",
       "      <td>S</td>\n",
       "      <td>O</td>\n",
       "      <td>1</td>\n",
       "      <td>3</td>\n",
       "      <td>1</td>\n",
       "      <td>1</td>\n",
       "      <td>2</td>\n",
       "      <td>1</td>\n",
       "      <td>1</td>\n",
       "      <td>0</td>\n",
       "      <td>0</td>\n",
       "      <td>0</td>\n",
       "    </tr>\n",
       "    <tr>\n",
       "      <th>3</th>\n",
       "      <td>H</td>\n",
       "      <td>R</td>\n",
       "      <td>X</td>\n",
       "      <td>1</td>\n",
       "      <td>2</td>\n",
       "      <td>1</td>\n",
       "      <td>1</td>\n",
       "      <td>1</td>\n",
       "      <td>1</td>\n",
       "      <td>1</td>\n",
       "      <td>0</td>\n",
       "      <td>0</td>\n",
       "      <td>0</td>\n",
       "    </tr>\n",
       "    <tr>\n",
       "      <th>4</th>\n",
       "      <td>H</td>\n",
       "      <td>S</td>\n",
       "      <td>X</td>\n",
       "      <td>1</td>\n",
       "      <td>1</td>\n",
       "      <td>1</td>\n",
       "      <td>1</td>\n",
       "      <td>2</td>\n",
       "      <td>1</td>\n",
       "      <td>1</td>\n",
       "      <td>0</td>\n",
       "      <td>0</td>\n",
       "      <td>0</td>\n",
       "    </tr>\n",
       "  </tbody>\n",
       "</table>\n",
       "</div>"
      ],
      "text/plain": [
       "  class_code largest_spot_size spot_distribution activity evolution  \\\n",
       "0          H                 A                 X        1         3   \n",
       "1          D                 R                 O        1         3   \n",
       "2          C                 S                 O        1         3   \n",
       "3          H                 R                 X        1         2   \n",
       "4          H                 S                 X        1         1   \n",
       "\n",
       "  24_flare_activity historically_complex region_become_hcomplex area  \\\n",
       "0                 1                    1                      1    1   \n",
       "1                 1                    1                      2    1   \n",
       "2                 1                    1                      2    1   \n",
       "3                 1                    1                      1    1   \n",
       "4                 1                    1                      2    1   \n",
       "\n",
       "  largest_spot_area c_class m_class x_class  \n",
       "0                 1       0       0       0  \n",
       "1                 1       0       0       0  \n",
       "2                 1       0       0       0  \n",
       "3                 1       0       0       0  \n",
       "4                 1       0       0       0  "
      ]
     },
     "execution_count": 53,
     "metadata": {},
     "output_type": "execute_result"
    }
   ],
   "source": [
    "df_data.head(5)"
   ]
  },
  {
   "cell_type": "markdown",
   "metadata": {},
   "source": [
    "# Conversão os atributos categóricos para numéricos"
   ]
  }
 ],
 "metadata": {
  "kernelspec": {
   "display_name": "Python 3",
   "language": "python",
   "name": "python3"
  },
  "language_info": {
   "codemirror_mode": {
    "name": "ipython",
    "version": 3
   },
   "file_extension": ".py",
   "mimetype": "text/x-python",
   "name": "python",
   "nbconvert_exporter": "python",
   "pygments_lexer": "ipython3",
   "version": "3.8.5"
  }
 },
 "nbformat": 4,
 "nbformat_minor": 4
}
