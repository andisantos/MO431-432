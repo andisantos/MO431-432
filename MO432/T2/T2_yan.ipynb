{
 "cells": [
  {
   "cell_type": "markdown",
   "metadata": {},
   "source": [
    "### Importando as bibliotecas"
   ]
  },
  {
   "cell_type": "code",
   "execution_count": 1,
   "metadata": {},
   "outputs": [],
   "source": [
    "import pandas as pd\n",
    "import matplotlib.pyplot as plt\n",
    "import numpy as np\n",
    "from scipy.stats import loguniform, uniform\n",
    "\n",
    "from sklearn.preprocessing import StandardScaler\n",
    "from sklearn.linear_model import LinearRegression, Ridge, RidgeCV, Lasso\n",
    "from sklearn.model_selection import cross_val_score,RandomizedSearchCV,KFold,train_test_split"
   ]
  },
  {
   "cell_type": "markdown",
   "metadata": {},
   "source": [
    "### Lendo DF\n",
    "\n",
    "As informações sobre o DF podem ser encontradas aqui: https://archive.ics.uci.edu/ml/datasets/Bias+correction+of+numerical+prediction+model+temperature+forecast"
   ]
  },
  {
   "cell_type": "code",
   "execution_count": 2,
   "metadata": {},
   "outputs": [
    {
     "name": "stdout",
     "output_type": "stream",
     "text": [
      "Infos do DataFrame:\n",
      "Linhas: 7752\n",
      "Colunas: 25\n"
     ]
    }
   ],
   "source": [
    "df=pd.read_csv('Bias_correction_ucl.csv')\n",
    "print('Infos do DataFrame:')\n",
    "print('Linhas:',df.shape[0])\n",
    "print('Colunas:',df.shape[1])"
   ]
  },
  {
   "cell_type": "markdown",
   "metadata": {},
   "source": [
    "### Removendo colunas Date e Next_Tmin\n",
    "Após retiras estas duas colunas, devemos ficar com 23 colunas"
   ]
  },
  {
   "cell_type": "code",
   "execution_count": 3,
   "metadata": {
    "scrolled": true
   },
   "outputs": [
    {
     "name": "stdout",
     "output_type": "stream",
     "text": [
      "Infos do DataFrame:\n",
      "Linhas: 7752\n",
      "Colunas: 23\n"
     ]
    }
   ],
   "source": [
    "df.drop(['Date','Next_Tmin'],axis=1,inplace=True)\n",
    "print('Infos do DataFrame:')\n",
    "print('Linhas:',df.shape[0])\n",
    "print('Colunas:',df.shape[1])"
   ]
  },
  {
   "cell_type": "markdown",
   "metadata": {},
   "source": [
    "### Removendo linhas com valores faltantes\n",
    "Após retirar os dados faltantes, devemos ficar com 7588 linhas"
   ]
  },
  {
   "cell_type": "code",
   "execution_count": 4,
   "metadata": {},
   "outputs": [
    {
     "name": "stdout",
     "output_type": "stream",
     "text": [
      "Infos do DataFrame:\n",
      "Linhas: 7588\n",
      "Colunas: 23\n"
     ]
    }
   ],
   "source": [
    "df.dropna(axis=0,inplace=True)\n",
    "print('Infos do DataFrame:')\n",
    "print('Linhas:',df.shape[0])\n",
    "print('Colunas:',df.shape[1])"
   ]
  },
  {
   "cell_type": "code",
   "execution_count": 5,
   "metadata": {},
   "outputs": [
    {
     "data": {
      "text/plain": [
       "Index(['station', 'Present_Tmax', 'Present_Tmin', 'LDAPS_RHmin', 'LDAPS_RHmax',\n",
       "       'LDAPS_Tmax_lapse', 'LDAPS_Tmin_lapse', 'LDAPS_WS', 'LDAPS_LH',\n",
       "       'LDAPS_CC1', 'LDAPS_CC2', 'LDAPS_CC3', 'LDAPS_CC4', 'LDAPS_PPT1',\n",
       "       'LDAPS_PPT2', 'LDAPS_PPT3', 'LDAPS_PPT4', 'lat', 'lon', 'DEM', 'Slope',\n",
       "       'Solar radiation', 'Next_Tmax'],\n",
       "      dtype='object')"
      ]
     },
     "execution_count": 5,
     "metadata": {},
     "output_type": "execute_result"
    }
   ],
   "source": [
    "df.columns"
   ]
  },
  {
   "cell_type": "markdown",
   "metadata": {},
   "source": [
    "### Separando valores de entrada (X) e de saída (y)"
   ]
  },
  {
   "cell_type": "code",
   "execution_count": 6,
   "metadata": {},
   "outputs": [],
   "source": [
    "y=df.iloc[:,-1]\n",
    "X=df.iloc[:,:-1]"
   ]
  },
  {
   "cell_type": "markdown",
   "metadata": {},
   "source": [
    "### Normalizando os dados de entrada (X)"
   ]
  },
  {
   "cell_type": "code",
   "execution_count": 7,
   "metadata": {},
   "outputs": [],
   "source": [
    "scaler=StandardScaler()\n",
    "X = scaler.fit_transform(X)"
   ]
  },
  {
   "cell_type": "markdown",
   "metadata": {},
   "source": [
    "### Dividindo dados de treino e teste"
   ]
  },
  {
   "cell_type": "code",
   "execution_count": 8,
   "metadata": {},
   "outputs": [],
   "source": [
    "X_train, X_test, y_train, y_test = train_test_split(X, y, test_size=0.3)"
   ]
  },
  {
   "cell_type": "markdown",
   "metadata": {},
   "source": [
    "### Regressão Linear"
   ]
  },
  {
   "cell_type": "code",
   "execution_count": 37,
   "metadata": {},
   "outputs": [
    {
     "name": "stdout",
     "output_type": "stream",
     "text": [
      "Regressão Linear Simples\n",
      "\n",
      "\tRMSE médio dos 5 folds: 1.460980799200306\n"
     ]
    }
   ],
   "source": [
    "lr=LinearRegression()\n",
    "cv=cross_val_score(lr,X_train,y_train,cv=5,scoring='neg_mean_squared_error')\n",
    "rmse_simples =  np.sqrt(np.mean(np.absolute(cv)))\n",
    "print('Regressão Linear Simples\\n')\n",
    "print('\\tRMSE médio dos 5 folds:', rmse_simples)"
   ]
  },
  {
   "cell_type": "markdown",
   "metadata": {},
   "source": [
    "### Regressão Linear com Regularização L2"
   ]
  },
  {
   "cell_type": "code",
   "execution_count": 38,
   "metadata": {},
   "outputs": [],
   "source": [
    "ridge=Ridge()\n",
    "kfold=KFold(n_splits=5)\n",
    "param_grid = {'alpha': loguniform(10**-3, 10**3)}\n",
    "random_search=RandomizedSearchCV(estimator=ridge,scoring='neg_mean_squared_error', param_distributions=param_grid,\n",
    "                           cv=kfold, return_train_score=True)\n",
    "result_ridge=random_search.fit(X_train,y_train)"
   ]
  },
  {
   "cell_type": "code",
   "execution_count": 39,
   "metadata": {},
   "outputs": [
    {
     "name": "stdout",
     "output_type": "stream",
     "text": [
      "Regressão Linear L2\n",
      "\tRMSE médio dos 5 folds: 1.4609668916912715\n"
     ]
    }
   ],
   "source": [
    "regressor=Ridge(alpha=result_ridge.best_params_['alpha'])\n",
    "cv=cross_val_score(regressor,X_train,y_train,cv=5,scoring='neg_mean_squared_error')\n",
    "rmse_l2 =  np.sqrt(np.mean(np.absolute(cv)))\n",
    "print('Regressão Linear L2')\n",
    "print('\\tRMSE médio dos 5 folds:',rmse_l2)"
   ]
  },
  {
   "cell_type": "markdown",
   "metadata": {},
   "source": [
    "### Regressão Linear com Regularização L1"
   ]
  },
  {
   "cell_type": "code",
   "execution_count": 40,
   "metadata": {},
   "outputs": [],
   "source": [
    "lasso=Lasso()\n",
    "kfold=KFold(n_splits=5)\n",
    "param_grid = {'alpha': loguniform(10**-3, 10**3)}\n",
    "random_search=RandomizedSearchCV(estimator=lasso,scoring='neg_mean_squared_error', param_distributions=param_grid,\n",
    "                           cv=kfold, return_train_score=True)\n",
    "result_lasso=random_search.fit(X_train,y_train)"
   ]
  },
  {
   "cell_type": "code",
   "execution_count": 41,
   "metadata": {},
   "outputs": [
    {
     "name": "stdout",
     "output_type": "stream",
     "text": [
      "Regressão Linear L1\n",
      "\n",
      "\tRMSE médio dos 5 folds: 1.4609807748148058\n"
     ]
    }
   ],
   "source": [
    "regressor=Ridge(alpha=result_lasso.best_params_['alpha'])\n",
    "cv=cross_val_score(regressor,X_train,y_train,cv=5,scoring='neg_mean_squared_error')\n",
    "rmse_l1 =  np.sqrt(np.mean(np.absolute(cv)))\n",
    "print('Regressão Linear L1\\n')\n",
    "print('\\tRMSE médio dos 5 folds:',rmse_l1)"
   ]
  },
  {
   "cell_type": "markdown",
   "metadata": {},
   "source": [
    "### SVM Linear"
   ]
  },
  {
   "cell_type": "code",
   "execution_count": null,
   "metadata": {},
   "outputs": [],
   "source": []
  },
  {
   "cell_type": "code",
   "execution_count": null,
   "metadata": {},
   "outputs": [],
   "source": []
  }
 ],
 "metadata": {
  "kernelspec": {
   "display_name": "Python 3",
   "language": "python",
   "name": "python3"
  },
  "language_info": {
   "codemirror_mode": {
    "name": "ipython",
    "version": 3
   },
   "file_extension": ".py",
   "mimetype": "text/x-python",
   "name": "python",
   "nbconvert_exporter": "python",
   "pygments_lexer": "ipython3",
   "version": "3.8.5"
  }
 },
 "nbformat": 4,
 "nbformat_minor": 4
}
