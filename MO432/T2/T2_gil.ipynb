{
 "cells": [
  {
   "cell_type": "markdown",
   "metadata": {},
   "source": [
    "# Tarefa 2 - MO432A"
   ]
  },
  {
   "cell_type": "markdown",
   "metadata": {},
   "source": [
    "Alunos:\n",
    "* Andreza - RA: 164213\n",
    "* Gil - RA: 225323\n",
    "* Yan - RA: 118982"
   ]
  },
  {
   "cell_type": "markdown",
   "metadata": {},
   "source": [
    "## Ler o arquivo"
   ]
  },
  {
   "cell_type": "markdown",
   "metadata": {},
   "source": [
    "Trata-se do arquivo Bias_correction_ucl.csv, devendo ser removida a coluna Next_Tmin, a coluna Date,e as linhas que tem valor faltante."
   ]
  },
  {
   "cell_type": "code",
   "execution_count": 1,
   "metadata": {},
   "outputs": [],
   "source": [
    "import sklearn\n",
    "import pandas as pd\n",
    "import numpy as np\n",
    "import random\n",
    "\n",
    "from sklearn.preprocessing import StandardScaler\n",
    "from sklearn.model_selection import KFold, cross_validate\n",
    "from sklearn.linear_model import LinearRegression, Ridge, Lasso\n",
    "from sklearn.svm import LinearSVR, SVR\n",
    "from sklearn.neighbors import KNeighborsRegressor\n",
    "from sklearn.neural_network import MLPRegressor\n",
    "from sklearn.tree import DecisionTreeRegressor\n",
    "from sklearn.ensemble import RandomForestRegressor, GradientBoostingRegressor\n",
    "from sklearn.metrics import mean_squared_error"
   ]
  },
  {
   "cell_type": "code",
   "execution_count": 2,
   "metadata": {},
   "outputs": [
    {
     "data": {
      "text/html": [
       "<div>\n",
       "<style scoped>\n",
       "    .dataframe tbody tr th:only-of-type {\n",
       "        vertical-align: middle;\n",
       "    }\n",
       "\n",
       "    .dataframe tbody tr th {\n",
       "        vertical-align: top;\n",
       "    }\n",
       "\n",
       "    .dataframe thead th {\n",
       "        text-align: right;\n",
       "    }\n",
       "</style>\n",
       "<table border=\"1\" class=\"dataframe\">\n",
       "  <thead>\n",
       "    <tr style=\"text-align: right;\">\n",
       "      <th></th>\n",
       "      <th>station</th>\n",
       "      <th>Date</th>\n",
       "      <th>Present_Tmax</th>\n",
       "      <th>Present_Tmin</th>\n",
       "      <th>LDAPS_RHmin</th>\n",
       "      <th>LDAPS_RHmax</th>\n",
       "      <th>LDAPS_Tmax_lapse</th>\n",
       "      <th>LDAPS_Tmin_lapse</th>\n",
       "      <th>LDAPS_WS</th>\n",
       "      <th>LDAPS_LH</th>\n",
       "      <th>...</th>\n",
       "      <th>LDAPS_PPT2</th>\n",
       "      <th>LDAPS_PPT3</th>\n",
       "      <th>LDAPS_PPT4</th>\n",
       "      <th>lat</th>\n",
       "      <th>lon</th>\n",
       "      <th>DEM</th>\n",
       "      <th>Slope</th>\n",
       "      <th>Solar radiation</th>\n",
       "      <th>Next_Tmax</th>\n",
       "      <th>Next_Tmin</th>\n",
       "    </tr>\n",
       "  </thead>\n",
       "  <tbody>\n",
       "    <tr>\n",
       "      <th>0</th>\n",
       "      <td>1.0</td>\n",
       "      <td>2013-06-30</td>\n",
       "      <td>28.7</td>\n",
       "      <td>21.4</td>\n",
       "      <td>58.255688</td>\n",
       "      <td>91.116364</td>\n",
       "      <td>28.074101</td>\n",
       "      <td>23.006936</td>\n",
       "      <td>6.818887</td>\n",
       "      <td>69.451805</td>\n",
       "      <td>...</td>\n",
       "      <td>0.0</td>\n",
       "      <td>0.0</td>\n",
       "      <td>0.0</td>\n",
       "      <td>37.6046</td>\n",
       "      <td>126.991</td>\n",
       "      <td>212.3350</td>\n",
       "      <td>2.7850</td>\n",
       "      <td>5992.895996</td>\n",
       "      <td>29.1</td>\n",
       "      <td>21.2</td>\n",
       "    </tr>\n",
       "    <tr>\n",
       "      <th>1</th>\n",
       "      <td>2.0</td>\n",
       "      <td>2013-06-30</td>\n",
       "      <td>31.9</td>\n",
       "      <td>21.6</td>\n",
       "      <td>52.263397</td>\n",
       "      <td>90.604721</td>\n",
       "      <td>29.850689</td>\n",
       "      <td>24.035009</td>\n",
       "      <td>5.691890</td>\n",
       "      <td>51.937448</td>\n",
       "      <td>...</td>\n",
       "      <td>0.0</td>\n",
       "      <td>0.0</td>\n",
       "      <td>0.0</td>\n",
       "      <td>37.6046</td>\n",
       "      <td>127.032</td>\n",
       "      <td>44.7624</td>\n",
       "      <td>0.5141</td>\n",
       "      <td>5869.312500</td>\n",
       "      <td>30.5</td>\n",
       "      <td>22.5</td>\n",
       "    </tr>\n",
       "    <tr>\n",
       "      <th>2</th>\n",
       "      <td>3.0</td>\n",
       "      <td>2013-06-30</td>\n",
       "      <td>31.6</td>\n",
       "      <td>23.3</td>\n",
       "      <td>48.690479</td>\n",
       "      <td>83.973587</td>\n",
       "      <td>30.091292</td>\n",
       "      <td>24.565633</td>\n",
       "      <td>6.138224</td>\n",
       "      <td>20.573050</td>\n",
       "      <td>...</td>\n",
       "      <td>0.0</td>\n",
       "      <td>0.0</td>\n",
       "      <td>0.0</td>\n",
       "      <td>37.5776</td>\n",
       "      <td>127.058</td>\n",
       "      <td>33.3068</td>\n",
       "      <td>0.2661</td>\n",
       "      <td>5863.555664</td>\n",
       "      <td>31.1</td>\n",
       "      <td>23.9</td>\n",
       "    </tr>\n",
       "    <tr>\n",
       "      <th>3</th>\n",
       "      <td>4.0</td>\n",
       "      <td>2013-06-30</td>\n",
       "      <td>32.0</td>\n",
       "      <td>23.4</td>\n",
       "      <td>58.239788</td>\n",
       "      <td>96.483688</td>\n",
       "      <td>29.704629</td>\n",
       "      <td>23.326177</td>\n",
       "      <td>5.650050</td>\n",
       "      <td>65.727144</td>\n",
       "      <td>...</td>\n",
       "      <td>0.0</td>\n",
       "      <td>0.0</td>\n",
       "      <td>0.0</td>\n",
       "      <td>37.6450</td>\n",
       "      <td>127.022</td>\n",
       "      <td>45.7160</td>\n",
       "      <td>2.5348</td>\n",
       "      <td>5856.964844</td>\n",
       "      <td>31.7</td>\n",
       "      <td>24.3</td>\n",
       "    </tr>\n",
       "    <tr>\n",
       "      <th>4</th>\n",
       "      <td>5.0</td>\n",
       "      <td>2013-06-30</td>\n",
       "      <td>31.4</td>\n",
       "      <td>21.9</td>\n",
       "      <td>56.174095</td>\n",
       "      <td>90.155128</td>\n",
       "      <td>29.113934</td>\n",
       "      <td>23.486480</td>\n",
       "      <td>5.735004</td>\n",
       "      <td>107.965535</td>\n",
       "      <td>...</td>\n",
       "      <td>0.0</td>\n",
       "      <td>0.0</td>\n",
       "      <td>0.0</td>\n",
       "      <td>37.5507</td>\n",
       "      <td>127.135</td>\n",
       "      <td>35.0380</td>\n",
       "      <td>0.5055</td>\n",
       "      <td>5859.552246</td>\n",
       "      <td>31.2</td>\n",
       "      <td>22.5</td>\n",
       "    </tr>\n",
       "  </tbody>\n",
       "</table>\n",
       "<p>5 rows × 25 columns</p>\n",
       "</div>"
      ],
      "text/plain": [
       "   station        Date  Present_Tmax  Present_Tmin  LDAPS_RHmin  LDAPS_RHmax  \\\n",
       "0      1.0  2013-06-30          28.7          21.4    58.255688    91.116364   \n",
       "1      2.0  2013-06-30          31.9          21.6    52.263397    90.604721   \n",
       "2      3.0  2013-06-30          31.6          23.3    48.690479    83.973587   \n",
       "3      4.0  2013-06-30          32.0          23.4    58.239788    96.483688   \n",
       "4      5.0  2013-06-30          31.4          21.9    56.174095    90.155128   \n",
       "\n",
       "   LDAPS_Tmax_lapse  LDAPS_Tmin_lapse  LDAPS_WS    LDAPS_LH  ...  LDAPS_PPT2  \\\n",
       "0         28.074101         23.006936  6.818887   69.451805  ...         0.0   \n",
       "1         29.850689         24.035009  5.691890   51.937448  ...         0.0   \n",
       "2         30.091292         24.565633  6.138224   20.573050  ...         0.0   \n",
       "3         29.704629         23.326177  5.650050   65.727144  ...         0.0   \n",
       "4         29.113934         23.486480  5.735004  107.965535  ...         0.0   \n",
       "\n",
       "   LDAPS_PPT3  LDAPS_PPT4      lat      lon       DEM   Slope  \\\n",
       "0         0.0         0.0  37.6046  126.991  212.3350  2.7850   \n",
       "1         0.0         0.0  37.6046  127.032   44.7624  0.5141   \n",
       "2         0.0         0.0  37.5776  127.058   33.3068  0.2661   \n",
       "3         0.0         0.0  37.6450  127.022   45.7160  2.5348   \n",
       "4         0.0         0.0  37.5507  127.135   35.0380  0.5055   \n",
       "\n",
       "   Solar radiation  Next_Tmax  Next_Tmin  \n",
       "0      5992.895996       29.1       21.2  \n",
       "1      5869.312500       30.5       22.5  \n",
       "2      5863.555664       31.1       23.9  \n",
       "3      5856.964844       31.7       24.3  \n",
       "4      5859.552246       31.2       22.5  \n",
       "\n",
       "[5 rows x 25 columns]"
      ]
     },
     "execution_count": 2,
     "metadata": {},
     "output_type": "execute_result"
    }
   ],
   "source": [
    "df_original = pd.read_csv('Bias_correction_ucl.csv')\n",
    "df_original.head()"
   ]
  },
  {
   "cell_type": "code",
   "execution_count": 3,
   "metadata": {
    "scrolled": true
   },
   "outputs": [
    {
     "name": "stdout",
     "output_type": "stream",
     "text": [
      "Número de linhas: 7752\n",
      "Número de colunas: 23\n"
     ]
    },
    {
     "data": {
      "text/html": [
       "<div>\n",
       "<style scoped>\n",
       "    .dataframe tbody tr th:only-of-type {\n",
       "        vertical-align: middle;\n",
       "    }\n",
       "\n",
       "    .dataframe tbody tr th {\n",
       "        vertical-align: top;\n",
       "    }\n",
       "\n",
       "    .dataframe thead th {\n",
       "        text-align: right;\n",
       "    }\n",
       "</style>\n",
       "<table border=\"1\" class=\"dataframe\">\n",
       "  <thead>\n",
       "    <tr style=\"text-align: right;\">\n",
       "      <th></th>\n",
       "      <th>station</th>\n",
       "      <th>Present_Tmax</th>\n",
       "      <th>Present_Tmin</th>\n",
       "      <th>LDAPS_RHmin</th>\n",
       "      <th>LDAPS_RHmax</th>\n",
       "      <th>LDAPS_Tmax_lapse</th>\n",
       "      <th>LDAPS_Tmin_lapse</th>\n",
       "      <th>LDAPS_WS</th>\n",
       "      <th>LDAPS_LH</th>\n",
       "      <th>LDAPS_CC1</th>\n",
       "      <th>...</th>\n",
       "      <th>LDAPS_PPT1</th>\n",
       "      <th>LDAPS_PPT2</th>\n",
       "      <th>LDAPS_PPT3</th>\n",
       "      <th>LDAPS_PPT4</th>\n",
       "      <th>lat</th>\n",
       "      <th>lon</th>\n",
       "      <th>DEM</th>\n",
       "      <th>Slope</th>\n",
       "      <th>Solar radiation</th>\n",
       "      <th>Next_Tmax</th>\n",
       "    </tr>\n",
       "  </thead>\n",
       "  <tbody>\n",
       "    <tr>\n",
       "      <th>0</th>\n",
       "      <td>1.0</td>\n",
       "      <td>28.7</td>\n",
       "      <td>21.4</td>\n",
       "      <td>58.255688</td>\n",
       "      <td>91.116364</td>\n",
       "      <td>28.074101</td>\n",
       "      <td>23.006936</td>\n",
       "      <td>6.818887</td>\n",
       "      <td>69.451805</td>\n",
       "      <td>0.233947</td>\n",
       "      <td>...</td>\n",
       "      <td>0.0</td>\n",
       "      <td>0.0</td>\n",
       "      <td>0.0</td>\n",
       "      <td>0.0</td>\n",
       "      <td>37.6046</td>\n",
       "      <td>126.991</td>\n",
       "      <td>212.3350</td>\n",
       "      <td>2.7850</td>\n",
       "      <td>5992.895996</td>\n",
       "      <td>29.1</td>\n",
       "    </tr>\n",
       "    <tr>\n",
       "      <th>1</th>\n",
       "      <td>2.0</td>\n",
       "      <td>31.9</td>\n",
       "      <td>21.6</td>\n",
       "      <td>52.263397</td>\n",
       "      <td>90.604721</td>\n",
       "      <td>29.850689</td>\n",
       "      <td>24.035009</td>\n",
       "      <td>5.691890</td>\n",
       "      <td>51.937448</td>\n",
       "      <td>0.225508</td>\n",
       "      <td>...</td>\n",
       "      <td>0.0</td>\n",
       "      <td>0.0</td>\n",
       "      <td>0.0</td>\n",
       "      <td>0.0</td>\n",
       "      <td>37.6046</td>\n",
       "      <td>127.032</td>\n",
       "      <td>44.7624</td>\n",
       "      <td>0.5141</td>\n",
       "      <td>5869.312500</td>\n",
       "      <td>30.5</td>\n",
       "    </tr>\n",
       "    <tr>\n",
       "      <th>2</th>\n",
       "      <td>3.0</td>\n",
       "      <td>31.6</td>\n",
       "      <td>23.3</td>\n",
       "      <td>48.690479</td>\n",
       "      <td>83.973587</td>\n",
       "      <td>30.091292</td>\n",
       "      <td>24.565633</td>\n",
       "      <td>6.138224</td>\n",
       "      <td>20.573050</td>\n",
       "      <td>0.209344</td>\n",
       "      <td>...</td>\n",
       "      <td>0.0</td>\n",
       "      <td>0.0</td>\n",
       "      <td>0.0</td>\n",
       "      <td>0.0</td>\n",
       "      <td>37.5776</td>\n",
       "      <td>127.058</td>\n",
       "      <td>33.3068</td>\n",
       "      <td>0.2661</td>\n",
       "      <td>5863.555664</td>\n",
       "      <td>31.1</td>\n",
       "    </tr>\n",
       "    <tr>\n",
       "      <th>3</th>\n",
       "      <td>4.0</td>\n",
       "      <td>32.0</td>\n",
       "      <td>23.4</td>\n",
       "      <td>58.239788</td>\n",
       "      <td>96.483688</td>\n",
       "      <td>29.704629</td>\n",
       "      <td>23.326177</td>\n",
       "      <td>5.650050</td>\n",
       "      <td>65.727144</td>\n",
       "      <td>0.216372</td>\n",
       "      <td>...</td>\n",
       "      <td>0.0</td>\n",
       "      <td>0.0</td>\n",
       "      <td>0.0</td>\n",
       "      <td>0.0</td>\n",
       "      <td>37.6450</td>\n",
       "      <td>127.022</td>\n",
       "      <td>45.7160</td>\n",
       "      <td>2.5348</td>\n",
       "      <td>5856.964844</td>\n",
       "      <td>31.7</td>\n",
       "    </tr>\n",
       "    <tr>\n",
       "      <th>4</th>\n",
       "      <td>5.0</td>\n",
       "      <td>31.4</td>\n",
       "      <td>21.9</td>\n",
       "      <td>56.174095</td>\n",
       "      <td>90.155128</td>\n",
       "      <td>29.113934</td>\n",
       "      <td>23.486480</td>\n",
       "      <td>5.735004</td>\n",
       "      <td>107.965535</td>\n",
       "      <td>0.151407</td>\n",
       "      <td>...</td>\n",
       "      <td>0.0</td>\n",
       "      <td>0.0</td>\n",
       "      <td>0.0</td>\n",
       "      <td>0.0</td>\n",
       "      <td>37.5507</td>\n",
       "      <td>127.135</td>\n",
       "      <td>35.0380</td>\n",
       "      <td>0.5055</td>\n",
       "      <td>5859.552246</td>\n",
       "      <td>31.2</td>\n",
       "    </tr>\n",
       "  </tbody>\n",
       "</table>\n",
       "<p>5 rows × 23 columns</p>\n",
       "</div>"
      ],
      "text/plain": [
       "   station  Present_Tmax  Present_Tmin  LDAPS_RHmin  LDAPS_RHmax  \\\n",
       "0      1.0          28.7          21.4    58.255688    91.116364   \n",
       "1      2.0          31.9          21.6    52.263397    90.604721   \n",
       "2      3.0          31.6          23.3    48.690479    83.973587   \n",
       "3      4.0          32.0          23.4    58.239788    96.483688   \n",
       "4      5.0          31.4          21.9    56.174095    90.155128   \n",
       "\n",
       "   LDAPS_Tmax_lapse  LDAPS_Tmin_lapse  LDAPS_WS    LDAPS_LH  LDAPS_CC1  ...  \\\n",
       "0         28.074101         23.006936  6.818887   69.451805   0.233947  ...   \n",
       "1         29.850689         24.035009  5.691890   51.937448   0.225508  ...   \n",
       "2         30.091292         24.565633  6.138224   20.573050   0.209344  ...   \n",
       "3         29.704629         23.326177  5.650050   65.727144   0.216372  ...   \n",
       "4         29.113934         23.486480  5.735004  107.965535   0.151407  ...   \n",
       "\n",
       "   LDAPS_PPT1  LDAPS_PPT2  LDAPS_PPT3  LDAPS_PPT4      lat      lon       DEM  \\\n",
       "0         0.0         0.0         0.0         0.0  37.6046  126.991  212.3350   \n",
       "1         0.0         0.0         0.0         0.0  37.6046  127.032   44.7624   \n",
       "2         0.0         0.0         0.0         0.0  37.5776  127.058   33.3068   \n",
       "3         0.0         0.0         0.0         0.0  37.6450  127.022   45.7160   \n",
       "4         0.0         0.0         0.0         0.0  37.5507  127.135   35.0380   \n",
       "\n",
       "    Slope  Solar radiation  Next_Tmax  \n",
       "0  2.7850      5992.895996       29.1  \n",
       "1  0.5141      5869.312500       30.5  \n",
       "2  0.2661      5863.555664       31.1  \n",
       "3  2.5348      5856.964844       31.7  \n",
       "4  0.5055      5859.552246       31.2  \n",
       "\n",
       "[5 rows x 23 columns]"
      ]
     },
     "execution_count": 3,
     "metadata": {},
     "output_type": "execute_result"
    }
   ],
   "source": [
    "df = df_original.drop(['Date', 'Next_Tmin'], axis=1)\n",
    "print(\"Número de linhas: {}\\nNúmero de colunas: {}\".format(df.shape[0], df.shape[1]))\n",
    "df.head()"
   ]
  },
  {
   "cell_type": "code",
   "execution_count": 4,
   "metadata": {
    "scrolled": true
   },
   "outputs": [
    {
     "name": "stdout",
     "output_type": "stream",
     "text": [
      "Número de linhas: 7588\n",
      "Número de colunas: 23\n"
     ]
    },
    {
     "data": {
      "text/html": [
       "<div>\n",
       "<style scoped>\n",
       "    .dataframe tbody tr th:only-of-type {\n",
       "        vertical-align: middle;\n",
       "    }\n",
       "\n",
       "    .dataframe tbody tr th {\n",
       "        vertical-align: top;\n",
       "    }\n",
       "\n",
       "    .dataframe thead th {\n",
       "        text-align: right;\n",
       "    }\n",
       "</style>\n",
       "<table border=\"1\" class=\"dataframe\">\n",
       "  <thead>\n",
       "    <tr style=\"text-align: right;\">\n",
       "      <th></th>\n",
       "      <th>station</th>\n",
       "      <th>Present_Tmax</th>\n",
       "      <th>Present_Tmin</th>\n",
       "      <th>LDAPS_RHmin</th>\n",
       "      <th>LDAPS_RHmax</th>\n",
       "      <th>LDAPS_Tmax_lapse</th>\n",
       "      <th>LDAPS_Tmin_lapse</th>\n",
       "      <th>LDAPS_WS</th>\n",
       "      <th>LDAPS_LH</th>\n",
       "      <th>LDAPS_CC1</th>\n",
       "      <th>...</th>\n",
       "      <th>LDAPS_PPT1</th>\n",
       "      <th>LDAPS_PPT2</th>\n",
       "      <th>LDAPS_PPT3</th>\n",
       "      <th>LDAPS_PPT4</th>\n",
       "      <th>lat</th>\n",
       "      <th>lon</th>\n",
       "      <th>DEM</th>\n",
       "      <th>Slope</th>\n",
       "      <th>Solar radiation</th>\n",
       "      <th>Next_Tmax</th>\n",
       "    </tr>\n",
       "  </thead>\n",
       "  <tbody>\n",
       "    <tr>\n",
       "      <th>0</th>\n",
       "      <td>1.0</td>\n",
       "      <td>28.7</td>\n",
       "      <td>21.4</td>\n",
       "      <td>58.255688</td>\n",
       "      <td>91.116364</td>\n",
       "      <td>28.074101</td>\n",
       "      <td>23.006936</td>\n",
       "      <td>6.818887</td>\n",
       "      <td>69.451805</td>\n",
       "      <td>0.233947</td>\n",
       "      <td>...</td>\n",
       "      <td>0.0</td>\n",
       "      <td>0.0</td>\n",
       "      <td>0.0</td>\n",
       "      <td>0.0</td>\n",
       "      <td>37.6046</td>\n",
       "      <td>126.991</td>\n",
       "      <td>212.3350</td>\n",
       "      <td>2.7850</td>\n",
       "      <td>5992.895996</td>\n",
       "      <td>29.1</td>\n",
       "    </tr>\n",
       "    <tr>\n",
       "      <th>1</th>\n",
       "      <td>2.0</td>\n",
       "      <td>31.9</td>\n",
       "      <td>21.6</td>\n",
       "      <td>52.263397</td>\n",
       "      <td>90.604721</td>\n",
       "      <td>29.850689</td>\n",
       "      <td>24.035009</td>\n",
       "      <td>5.691890</td>\n",
       "      <td>51.937448</td>\n",
       "      <td>0.225508</td>\n",
       "      <td>...</td>\n",
       "      <td>0.0</td>\n",
       "      <td>0.0</td>\n",
       "      <td>0.0</td>\n",
       "      <td>0.0</td>\n",
       "      <td>37.6046</td>\n",
       "      <td>127.032</td>\n",
       "      <td>44.7624</td>\n",
       "      <td>0.5141</td>\n",
       "      <td>5869.312500</td>\n",
       "      <td>30.5</td>\n",
       "    </tr>\n",
       "    <tr>\n",
       "      <th>2</th>\n",
       "      <td>3.0</td>\n",
       "      <td>31.6</td>\n",
       "      <td>23.3</td>\n",
       "      <td>48.690479</td>\n",
       "      <td>83.973587</td>\n",
       "      <td>30.091292</td>\n",
       "      <td>24.565633</td>\n",
       "      <td>6.138224</td>\n",
       "      <td>20.573050</td>\n",
       "      <td>0.209344</td>\n",
       "      <td>...</td>\n",
       "      <td>0.0</td>\n",
       "      <td>0.0</td>\n",
       "      <td>0.0</td>\n",
       "      <td>0.0</td>\n",
       "      <td>37.5776</td>\n",
       "      <td>127.058</td>\n",
       "      <td>33.3068</td>\n",
       "      <td>0.2661</td>\n",
       "      <td>5863.555664</td>\n",
       "      <td>31.1</td>\n",
       "    </tr>\n",
       "    <tr>\n",
       "      <th>3</th>\n",
       "      <td>4.0</td>\n",
       "      <td>32.0</td>\n",
       "      <td>23.4</td>\n",
       "      <td>58.239788</td>\n",
       "      <td>96.483688</td>\n",
       "      <td>29.704629</td>\n",
       "      <td>23.326177</td>\n",
       "      <td>5.650050</td>\n",
       "      <td>65.727144</td>\n",
       "      <td>0.216372</td>\n",
       "      <td>...</td>\n",
       "      <td>0.0</td>\n",
       "      <td>0.0</td>\n",
       "      <td>0.0</td>\n",
       "      <td>0.0</td>\n",
       "      <td>37.6450</td>\n",
       "      <td>127.022</td>\n",
       "      <td>45.7160</td>\n",
       "      <td>2.5348</td>\n",
       "      <td>5856.964844</td>\n",
       "      <td>31.7</td>\n",
       "    </tr>\n",
       "    <tr>\n",
       "      <th>4</th>\n",
       "      <td>5.0</td>\n",
       "      <td>31.4</td>\n",
       "      <td>21.9</td>\n",
       "      <td>56.174095</td>\n",
       "      <td>90.155128</td>\n",
       "      <td>29.113934</td>\n",
       "      <td>23.486480</td>\n",
       "      <td>5.735004</td>\n",
       "      <td>107.965535</td>\n",
       "      <td>0.151407</td>\n",
       "      <td>...</td>\n",
       "      <td>0.0</td>\n",
       "      <td>0.0</td>\n",
       "      <td>0.0</td>\n",
       "      <td>0.0</td>\n",
       "      <td>37.5507</td>\n",
       "      <td>127.135</td>\n",
       "      <td>35.0380</td>\n",
       "      <td>0.5055</td>\n",
       "      <td>5859.552246</td>\n",
       "      <td>31.2</td>\n",
       "    </tr>\n",
       "  </tbody>\n",
       "</table>\n",
       "<p>5 rows × 23 columns</p>\n",
       "</div>"
      ],
      "text/plain": [
       "   station  Present_Tmax  Present_Tmin  LDAPS_RHmin  LDAPS_RHmax  \\\n",
       "0      1.0          28.7          21.4    58.255688    91.116364   \n",
       "1      2.0          31.9          21.6    52.263397    90.604721   \n",
       "2      3.0          31.6          23.3    48.690479    83.973587   \n",
       "3      4.0          32.0          23.4    58.239788    96.483688   \n",
       "4      5.0          31.4          21.9    56.174095    90.155128   \n",
       "\n",
       "   LDAPS_Tmax_lapse  LDAPS_Tmin_lapse  LDAPS_WS    LDAPS_LH  LDAPS_CC1  ...  \\\n",
       "0         28.074101         23.006936  6.818887   69.451805   0.233947  ...   \n",
       "1         29.850689         24.035009  5.691890   51.937448   0.225508  ...   \n",
       "2         30.091292         24.565633  6.138224   20.573050   0.209344  ...   \n",
       "3         29.704629         23.326177  5.650050   65.727144   0.216372  ...   \n",
       "4         29.113934         23.486480  5.735004  107.965535   0.151407  ...   \n",
       "\n",
       "   LDAPS_PPT1  LDAPS_PPT2  LDAPS_PPT3  LDAPS_PPT4      lat      lon       DEM  \\\n",
       "0         0.0         0.0         0.0         0.0  37.6046  126.991  212.3350   \n",
       "1         0.0         0.0         0.0         0.0  37.6046  127.032   44.7624   \n",
       "2         0.0         0.0         0.0         0.0  37.5776  127.058   33.3068   \n",
       "3         0.0         0.0         0.0         0.0  37.6450  127.022   45.7160   \n",
       "4         0.0         0.0         0.0         0.0  37.5507  127.135   35.0380   \n",
       "\n",
       "    Slope  Solar radiation  Next_Tmax  \n",
       "0  2.7850      5992.895996       29.1  \n",
       "1  0.5141      5869.312500       30.5  \n",
       "2  0.2661      5863.555664       31.1  \n",
       "3  2.5348      5856.964844       31.7  \n",
       "4  0.5055      5859.552246       31.2  \n",
       "\n",
       "[5 rows x 23 columns]"
      ]
     },
     "execution_count": 4,
     "metadata": {},
     "output_type": "execute_result"
    }
   ],
   "source": [
    "df.dropna(inplace = True)\n",
    "print(\"Número de linhas: {}\\nNúmero de colunas: {}\".format(df.shape[0], df.shape[1]))\n",
    "df.head()"
   ]
  },
  {
   "cell_type": "code",
   "execution_count": 5,
   "metadata": {},
   "outputs": [
    {
     "name": "stdout",
     "output_type": "stream",
     "text": [
      "Número de linhas: 7588\n",
      "Número de colunas: 22\n"
     ]
    },
    {
     "data": {
      "text/html": [
       "<div>\n",
       "<style scoped>\n",
       "    .dataframe tbody tr th:only-of-type {\n",
       "        vertical-align: middle;\n",
       "    }\n",
       "\n",
       "    .dataframe tbody tr th {\n",
       "        vertical-align: top;\n",
       "    }\n",
       "\n",
       "    .dataframe thead th {\n",
       "        text-align: right;\n",
       "    }\n",
       "</style>\n",
       "<table border=\"1\" class=\"dataframe\">\n",
       "  <thead>\n",
       "    <tr style=\"text-align: right;\">\n",
       "      <th></th>\n",
       "      <th>0</th>\n",
       "      <th>1</th>\n",
       "      <th>2</th>\n",
       "      <th>3</th>\n",
       "      <th>4</th>\n",
       "      <th>5</th>\n",
       "      <th>6</th>\n",
       "      <th>7</th>\n",
       "      <th>8</th>\n",
       "      <th>9</th>\n",
       "      <th>...</th>\n",
       "      <th>12</th>\n",
       "      <th>13</th>\n",
       "      <th>14</th>\n",
       "      <th>15</th>\n",
       "      <th>16</th>\n",
       "      <th>17</th>\n",
       "      <th>18</th>\n",
       "      <th>19</th>\n",
       "      <th>20</th>\n",
       "      <th>21</th>\n",
       "    </tr>\n",
       "  </thead>\n",
       "  <tbody>\n",
       "    <tr>\n",
       "      <th>0</th>\n",
       "      <td>-1.664607</td>\n",
       "      <td>-0.353318</td>\n",
       "      <td>-0.748029</td>\n",
       "      <td>0.104660</td>\n",
       "      <td>0.382768</td>\n",
       "      <td>-0.525269</td>\n",
       "      <td>-0.215525</td>\n",
       "      <td>-0.126423</td>\n",
       "      <td>0.206603</td>\n",
       "      <td>-0.513123</td>\n",
       "      <td>...</td>\n",
       "      <td>-0.660441</td>\n",
       "      <td>-0.305589</td>\n",
       "      <td>-0.275777</td>\n",
       "      <td>-0.239969</td>\n",
       "      <td>-0.224971</td>\n",
       "      <td>1.186076</td>\n",
       "      <td>-0.005302</td>\n",
       "      <td>2.769091</td>\n",
       "      <td>1.111162</td>\n",
       "      <td>1.510565</td>\n",
       "    </tr>\n",
       "    <tr>\n",
       "      <th>1</th>\n",
       "      <td>-1.526052</td>\n",
       "      <td>0.725138</td>\n",
       "      <td>-0.664721</td>\n",
       "      <td>-0.305052</td>\n",
       "      <td>0.311697</td>\n",
       "      <td>0.078334</td>\n",
       "      <td>0.223368</td>\n",
       "      <td>-0.644133</td>\n",
       "      <td>-0.313359</td>\n",
       "      <td>-0.545304</td>\n",
       "      <td>...</td>\n",
       "      <td>-0.673074</td>\n",
       "      <td>-0.305589</td>\n",
       "      <td>-0.275777</td>\n",
       "      <td>-0.239969</td>\n",
       "      <td>-0.224971</td>\n",
       "      <td>1.186076</td>\n",
       "      <td>0.512280</td>\n",
       "      <td>-0.315828</td>\n",
       "      <td>-0.543220</td>\n",
       "      <td>1.222997</td>\n",
       "    </tr>\n",
       "    <tr>\n",
       "      <th>2</th>\n",
       "      <td>-1.387498</td>\n",
       "      <td>0.624033</td>\n",
       "      <td>0.043400</td>\n",
       "      <td>-0.549344</td>\n",
       "      <td>-0.609425</td>\n",
       "      <td>0.160080</td>\n",
       "      <td>0.449896</td>\n",
       "      <td>-0.439100</td>\n",
       "      <td>-1.244497</td>\n",
       "      <td>-0.606944</td>\n",
       "      <td>...</td>\n",
       "      <td>-0.616249</td>\n",
       "      <td>-0.305589</td>\n",
       "      <td>-0.275777</td>\n",
       "      <td>-0.239969</td>\n",
       "      <td>-0.224971</td>\n",
       "      <td>0.650626</td>\n",
       "      <td>0.840503</td>\n",
       "      <td>-0.526719</td>\n",
       "      <td>-0.723891</td>\n",
       "      <td>1.209602</td>\n",
       "    </tr>\n",
       "    <tr>\n",
       "      <th>3</th>\n",
       "      <td>-1.248943</td>\n",
       "      <td>0.758840</td>\n",
       "      <td>0.085054</td>\n",
       "      <td>0.103573</td>\n",
       "      <td>1.128335</td>\n",
       "      <td>0.028710</td>\n",
       "      <td>-0.079238</td>\n",
       "      <td>-0.663353</td>\n",
       "      <td>0.096026</td>\n",
       "      <td>-0.580143</td>\n",
       "      <td>...</td>\n",
       "      <td>-0.647336</td>\n",
       "      <td>-0.305589</td>\n",
       "      <td>-0.275777</td>\n",
       "      <td>-0.239969</td>\n",
       "      <td>-0.224971</td>\n",
       "      <td>1.987268</td>\n",
       "      <td>0.386040</td>\n",
       "      <td>-0.298272</td>\n",
       "      <td>0.928888</td>\n",
       "      <td>1.194265</td>\n",
       "    </tr>\n",
       "    <tr>\n",
       "      <th>4</th>\n",
       "      <td>-1.110389</td>\n",
       "      <td>0.556630</td>\n",
       "      <td>-0.539758</td>\n",
       "      <td>-0.037665</td>\n",
       "      <td>0.249244</td>\n",
       "      <td>-0.171981</td>\n",
       "      <td>-0.010803</td>\n",
       "      <td>-0.624327</td>\n",
       "      <td>1.349989</td>\n",
       "      <td>-0.827872</td>\n",
       "      <td>...</td>\n",
       "      <td>-0.506152</td>\n",
       "      <td>-0.305589</td>\n",
       "      <td>-0.275777</td>\n",
       "      <td>-0.239969</td>\n",
       "      <td>-0.224971</td>\n",
       "      <td>0.117159</td>\n",
       "      <td>1.812547</td>\n",
       "      <td>-0.494848</td>\n",
       "      <td>-0.549485</td>\n",
       "      <td>1.200286</td>\n",
       "    </tr>\n",
       "  </tbody>\n",
       "</table>\n",
       "<p>5 rows × 22 columns</p>\n",
       "</div>"
      ],
      "text/plain": [
       "         0         1         2         3         4         5         6   \\\n",
       "0 -1.664607 -0.353318 -0.748029  0.104660  0.382768 -0.525269 -0.215525   \n",
       "1 -1.526052  0.725138 -0.664721 -0.305052  0.311697  0.078334  0.223368   \n",
       "2 -1.387498  0.624033  0.043400 -0.549344 -0.609425  0.160080  0.449896   \n",
       "3 -1.248943  0.758840  0.085054  0.103573  1.128335  0.028710 -0.079238   \n",
       "4 -1.110389  0.556630 -0.539758 -0.037665  0.249244 -0.171981 -0.010803   \n",
       "\n",
       "         7         8         9   ...        12        13        14        15  \\\n",
       "0 -0.126423  0.206603 -0.513123  ... -0.660441 -0.305589 -0.275777 -0.239969   \n",
       "1 -0.644133 -0.313359 -0.545304  ... -0.673074 -0.305589 -0.275777 -0.239969   \n",
       "2 -0.439100 -1.244497 -0.606944  ... -0.616249 -0.305589 -0.275777 -0.239969   \n",
       "3 -0.663353  0.096026 -0.580143  ... -0.647336 -0.305589 -0.275777 -0.239969   \n",
       "4 -0.624327  1.349989 -0.827872  ... -0.506152 -0.305589 -0.275777 -0.239969   \n",
       "\n",
       "         16        17        18        19        20        21  \n",
       "0 -0.224971  1.186076 -0.005302  2.769091  1.111162  1.510565  \n",
       "1 -0.224971  1.186076  0.512280 -0.315828 -0.543220  1.222997  \n",
       "2 -0.224971  0.650626  0.840503 -0.526719 -0.723891  1.209602  \n",
       "3 -0.224971  1.987268  0.386040 -0.298272  0.928888  1.194265  \n",
       "4 -0.224971  0.117159  1.812547 -0.494848 -0.549485  1.200286  \n",
       "\n",
       "[5 rows x 22 columns]"
      ]
     },
     "execution_count": 5,
     "metadata": {},
     "output_type": "execute_result"
    }
   ],
   "source": [
    "x = df.drop(['Next_Tmax'], axis=1)\n",
    "x = StandardScaler().fit_transform(x)\n",
    "x = pd.DataFrame(x)\n",
    "print(\"Número de linhas: {}\\nNúmero de colunas: {}\".format(x.shape[0], x.shape[1]))\n",
    "x.head()"
   ]
  },
  {
   "cell_type": "code",
   "execution_count": 6,
   "metadata": {},
   "outputs": [
    {
     "name": "stdout",
     "output_type": "stream",
     "text": [
      "Número de linhas: 7588\n",
      "Número de colunas: 1\n"
     ]
    },
    {
     "data": {
      "text/html": [
       "<div>\n",
       "<style scoped>\n",
       "    .dataframe tbody tr th:only-of-type {\n",
       "        vertical-align: middle;\n",
       "    }\n",
       "\n",
       "    .dataframe tbody tr th {\n",
       "        vertical-align: top;\n",
       "    }\n",
       "\n",
       "    .dataframe thead th {\n",
       "        text-align: right;\n",
       "    }\n",
       "</style>\n",
       "<table border=\"1\" class=\"dataframe\">\n",
       "  <thead>\n",
       "    <tr style=\"text-align: right;\">\n",
       "      <th></th>\n",
       "      <th>Next_Tmax</th>\n",
       "    </tr>\n",
       "  </thead>\n",
       "  <tbody>\n",
       "    <tr>\n",
       "      <th>0</th>\n",
       "      <td>29.1</td>\n",
       "    </tr>\n",
       "    <tr>\n",
       "      <th>1</th>\n",
       "      <td>30.5</td>\n",
       "    </tr>\n",
       "    <tr>\n",
       "      <th>2</th>\n",
       "      <td>31.1</td>\n",
       "    </tr>\n",
       "    <tr>\n",
       "      <th>3</th>\n",
       "      <td>31.7</td>\n",
       "    </tr>\n",
       "    <tr>\n",
       "      <th>4</th>\n",
       "      <td>31.2</td>\n",
       "    </tr>\n",
       "  </tbody>\n",
       "</table>\n",
       "</div>"
      ],
      "text/plain": [
       "   Next_Tmax\n",
       "0       29.1\n",
       "1       30.5\n",
       "2       31.1\n",
       "3       31.7\n",
       "4       31.2"
      ]
     },
     "execution_count": 6,
     "metadata": {},
     "output_type": "execute_result"
    }
   ],
   "source": [
    "y = df.get(['Next_Tmax'])\n",
    "print(\"Número de linhas: {}\\nNúmero de colunas: {}\".format(y.shape[0], y.shape[1]))\n",
    "y.head()"
   ]
  },
  {
   "cell_type": "markdown",
   "metadata": {},
   "source": [
    "## Cross validation, medida de erro e busca de hiperparametros"
   ]
  },
  {
   "cell_type": "markdown",
   "metadata": {},
   "source": [
    "* Usar 5-fold cross validation\n",
    "* Usar RMSE como medida de erro\n",
    "* Criar distribuição uniforme para a busca aleatório de hiperparametro, dnetro do intervalo especificado em cada problema/regressor"
   ]
  },
  {
   "cell_type": "markdown",
   "metadata": {},
   "source": [
    "## Para cada um dos regressores abaixo"
   ]
  },
  {
   "cell_type": "markdown",
   "metadata": {},
   "source": [
    "* Reportar o RMSE da melhor combinação de hiperparametros e o valor dos hiperparametros encontrados\n",
    "* Reportar o RMSE do uso dos valores default do SKLearn para os hiperparametros que buscamos"
   ]
  },
  {
   "cell_type": "markdown",
   "metadata": {},
   "source": [
    "### Linear"
   ]
  },
  {
   "cell_type": "code",
   "execution_count": 7,
   "metadata": {},
   "outputs": [
    {
     "name": "stdout",
     "output_type": "stream",
     "text": [
      "RMSE = 1.2560040654482534\n"
     ]
    }
   ],
   "source": [
    "cross_val = cross_validate(\n",
    "    LinearRegression(),\n",
    "    x,\n",
    "    y,\n",
    "    scoring=('neg_root_mean_squared_error')\n",
    ")\n",
    "rmse_medio =  np.sqrt(np.mean(np.absolute(cross_val['test_score'])))\n",
    "print(\"RMSE = {}\".format(rmse_medio))"
   ]
  },
  {
   "cell_type": "markdown",
   "metadata": {},
   "source": [
    "### Regularização L2"
   ]
  },
  {
   "cell_type": "code",
   "execution_count": 8,
   "metadata": {},
   "outputs": [
    {
     "name": "stdout",
     "output_type": "stream",
     "text": [
      "Resultado da busca por hiperparâmetros:\n",
      "Melhor RMSE = 1.2538136417832648\n",
      "Melhor alpha = 260.8932240691377\n"
     ]
    }
   ],
   "source": [
    "alpha_list = 10**(np.random.uniform(-3, 3, 10))\n",
    "final_rmse = np.inf\n",
    "for alpha_value in alpha_list:\n",
    "    cross_val = cross_validate(\n",
    "        Ridge(alpha_value), \n",
    "        x, y,\n",
    "        scoring=('neg_root_mean_squared_error')\n",
    "    )\n",
    "    rmse_medio = np.sqrt(np.mean(np.absolute(cross_val['test_score'])))\n",
    "    if rmse_medio < final_rmse:\n",
    "        final_rmse = rmse_medio\n",
    "        final_alpha = alpha_value\n",
    "print(\"Resultado da busca por hiperparâmetros:\")\n",
    "print(\"Melhor RMSE = {}\".format(final_rmse))\n",
    "print(\"Melhor alpha = {}\".format(final_alpha))"
   ]
  },
  {
   "cell_type": "code",
   "execution_count": 9,
   "metadata": {},
   "outputs": [
    {
     "name": "stdout",
     "output_type": "stream",
     "text": [
      "Resultado usando valores default:\n",
      "RMSE = 1.2559766342954395\n"
     ]
    }
   ],
   "source": [
    "cross_val = cross_validate(\n",
    "            Ridge(), \n",
    "            x, y,\n",
    "            scoring=('neg_root_mean_squared_error'))\n",
    "rmse_medio = np.sqrt(np.mean(np.absolute(cross_val['test_score'])))\n",
    "print(\"Resultado usando valores default:\")\n",
    "print(\"RMSE = {}\".format(rmse_medio))"
   ]
  },
  {
   "cell_type": "markdown",
   "metadata": {},
   "source": [
    "### Regularização L1"
   ]
  },
  {
   "cell_type": "code",
   "execution_count": 10,
   "metadata": {},
   "outputs": [
    {
     "name": "stdout",
     "output_type": "stream",
     "text": [
      "Melhor RMSE = 1.2520955810371297\n",
      "Valor do alpha = 0.033787779100535036\n"
     ]
    }
   ],
   "source": [
    "alpha_list = 10**(np.random.uniform(-3, 3, 10))\n",
    "final_rmse = np.inf\n",
    "for alpha_value in alpha_list:\n",
    "    cross_val = cross_validate(\n",
    "        Lasso(alpha_value),\n",
    "        x,\n",
    "        y,\n",
    "        scoring=('neg_root_mean_squared_error')\n",
    "    )\n",
    "    rmse_medio = np.sqrt(np.mean(np.absolute(cross_val['test_score'])))\n",
    "    if rmse_medio < final_rmse:\n",
    "        final_rmse = rmse_medio\n",
    "        final_alpha = alpha_value\n",
    "print(\"Melhor RMSE = {}\".format(final_rmse))\n",
    "print(\"Valor do alpha = {}\".format(final_alpha))"
   ]
  },
  {
   "cell_type": "code",
   "execution_count": 11,
   "metadata": {},
   "outputs": [
    {
     "name": "stdout",
     "output_type": "stream",
     "text": [
      "Resultado usando valores default:\n",
      "RMSE = 1.4227986510522177\n"
     ]
    }
   ],
   "source": [
    "cross_val = cross_validate(\n",
    "            Lasso(), \n",
    "            x, y,\n",
    "            scoring=('neg_root_mean_squared_error'))\n",
    "rmse_medio = np.sqrt(np.mean(np.absolute(cross_val['test_score'])))\n",
    "print(\"Resultado usando valores default:\")\n",
    "print(\"RMSE = {}\".format(rmse_medio))"
   ]
  },
  {
   "cell_type": "markdown",
   "metadata": {},
   "source": [
    "### SVM Linear"
   ]
  },
  {
   "cell_type": "code",
   "execution_count": 12,
   "metadata": {},
   "outputs": [
    {
     "name": "stderr",
     "output_type": "stream",
     "text": [
      "/home/andrezasa/.local/lib/python3.8/site-packages/sklearn/svm/_base.py:985: ConvergenceWarning: Liblinear failed to converge, increase the number of iterations.\n",
      "  warnings.warn(\"Liblinear failed to converge, increase \"\n",
      "/home/andrezasa/.local/lib/python3.8/site-packages/sklearn/svm/_base.py:985: ConvergenceWarning: Liblinear failed to converge, increase the number of iterations.\n",
      "  warnings.warn(\"Liblinear failed to converge, increase \"\n",
      "/home/andrezasa/.local/lib/python3.8/site-packages/sklearn/svm/_base.py:985: ConvergenceWarning: Liblinear failed to converge, increase the number of iterations.\n",
      "  warnings.warn(\"Liblinear failed to converge, increase \"\n",
      "/home/andrezasa/.local/lib/python3.8/site-packages/sklearn/svm/_base.py:985: ConvergenceWarning: Liblinear failed to converge, increase the number of iterations.\n",
      "  warnings.warn(\"Liblinear failed to converge, increase \"\n",
      "/home/andrezasa/.local/lib/python3.8/site-packages/sklearn/svm/_base.py:985: ConvergenceWarning: Liblinear failed to converge, increase the number of iterations.\n",
      "  warnings.warn(\"Liblinear failed to converge, increase \"\n",
      "/home/andrezasa/.local/lib/python3.8/site-packages/sklearn/svm/_base.py:985: ConvergenceWarning: Liblinear failed to converge, increase the number of iterations.\n",
      "  warnings.warn(\"Liblinear failed to converge, increase \"\n",
      "/home/andrezasa/.local/lib/python3.8/site-packages/sklearn/svm/_base.py:985: ConvergenceWarning: Liblinear failed to converge, increase the number of iterations.\n",
      "  warnings.warn(\"Liblinear failed to converge, increase \"\n",
      "/home/andrezasa/.local/lib/python3.8/site-packages/sklearn/svm/_base.py:985: ConvergenceWarning: Liblinear failed to converge, increase the number of iterations.\n",
      "  warnings.warn(\"Liblinear failed to converge, increase \"\n",
      "/home/andrezasa/.local/lib/python3.8/site-packages/sklearn/svm/_base.py:985: ConvergenceWarning: Liblinear failed to converge, increase the number of iterations.\n",
      "  warnings.warn(\"Liblinear failed to converge, increase \"\n",
      "/home/andrezasa/.local/lib/python3.8/site-packages/sklearn/svm/_base.py:985: ConvergenceWarning: Liblinear failed to converge, increase the number of iterations.\n",
      "  warnings.warn(\"Liblinear failed to converge, increase \"\n",
      "/home/andrezasa/.local/lib/python3.8/site-packages/sklearn/svm/_base.py:985: ConvergenceWarning: Liblinear failed to converge, increase the number of iterations.\n",
      "  warnings.warn(\"Liblinear failed to converge, increase \"\n",
      "/home/andrezasa/.local/lib/python3.8/site-packages/sklearn/svm/_base.py:985: ConvergenceWarning: Liblinear failed to converge, increase the number of iterations.\n",
      "  warnings.warn(\"Liblinear failed to converge, increase \"\n",
      "/home/andrezasa/.local/lib/python3.8/site-packages/sklearn/svm/_base.py:985: ConvergenceWarning: Liblinear failed to converge, increase the number of iterations.\n",
      "  warnings.warn(\"Liblinear failed to converge, increase \"\n",
      "/home/andrezasa/.local/lib/python3.8/site-packages/sklearn/svm/_base.py:985: ConvergenceWarning: Liblinear failed to converge, increase the number of iterations.\n",
      "  warnings.warn(\"Liblinear failed to converge, increase \"\n",
      "/home/andrezasa/.local/lib/python3.8/site-packages/sklearn/svm/_base.py:985: ConvergenceWarning: Liblinear failed to converge, increase the number of iterations.\n",
      "  warnings.warn(\"Liblinear failed to converge, increase \"\n",
      "/home/andrezasa/.local/lib/python3.8/site-packages/sklearn/svm/_base.py:985: ConvergenceWarning: Liblinear failed to converge, increase the number of iterations.\n",
      "  warnings.warn(\"Liblinear failed to converge, increase \"\n",
      "/home/andrezasa/.local/lib/python3.8/site-packages/sklearn/svm/_base.py:985: ConvergenceWarning: Liblinear failed to converge, increase the number of iterations.\n",
      "  warnings.warn(\"Liblinear failed to converge, increase \"\n",
      "/home/andrezasa/.local/lib/python3.8/site-packages/sklearn/svm/_base.py:985: ConvergenceWarning: Liblinear failed to converge, increase the number of iterations.\n",
      "  warnings.warn(\"Liblinear failed to converge, increase \"\n",
      "/home/andrezasa/.local/lib/python3.8/site-packages/sklearn/svm/_base.py:985: ConvergenceWarning: Liblinear failed to converge, increase the number of iterations.\n",
      "  warnings.warn(\"Liblinear failed to converge, increase \"\n",
      "/home/andrezasa/.local/lib/python3.8/site-packages/sklearn/svm/_base.py:985: ConvergenceWarning: Liblinear failed to converge, increase the number of iterations.\n",
      "  warnings.warn(\"Liblinear failed to converge, increase \"\n",
      "/home/andrezasa/.local/lib/python3.8/site-packages/sklearn/svm/_base.py:985: ConvergenceWarning: Liblinear failed to converge, increase the number of iterations.\n",
      "  warnings.warn(\"Liblinear failed to converge, increase \"\n",
      "/home/andrezasa/.local/lib/python3.8/site-packages/sklearn/svm/_base.py:985: ConvergenceWarning: Liblinear failed to converge, increase the number of iterations.\n",
      "  warnings.warn(\"Liblinear failed to converge, increase \"\n",
      "/home/andrezasa/.local/lib/python3.8/site-packages/sklearn/svm/_base.py:985: ConvergenceWarning: Liblinear failed to converge, increase the number of iterations.\n",
      "  warnings.warn(\"Liblinear failed to converge, increase \"\n",
      "/home/andrezasa/.local/lib/python3.8/site-packages/sklearn/svm/_base.py:985: ConvergenceWarning: Liblinear failed to converge, increase the number of iterations.\n",
      "  warnings.warn(\"Liblinear failed to converge, increase \"\n",
      "/home/andrezasa/.local/lib/python3.8/site-packages/sklearn/svm/_base.py:985: ConvergenceWarning: Liblinear failed to converge, increase the number of iterations.\n",
      "  warnings.warn(\"Liblinear failed to converge, increase \"\n",
      "/home/andrezasa/.local/lib/python3.8/site-packages/sklearn/svm/_base.py:985: ConvergenceWarning: Liblinear failed to converge, increase the number of iterations.\n",
      "  warnings.warn(\"Liblinear failed to converge, increase \"\n",
      "/home/andrezasa/.local/lib/python3.8/site-packages/sklearn/svm/_base.py:985: ConvergenceWarning: Liblinear failed to converge, increase the number of iterations.\n",
      "  warnings.warn(\"Liblinear failed to converge, increase \"\n",
      "/home/andrezasa/.local/lib/python3.8/site-packages/sklearn/svm/_base.py:985: ConvergenceWarning: Liblinear failed to converge, increase the number of iterations.\n",
      "  warnings.warn(\"Liblinear failed to converge, increase \"\n",
      "/home/andrezasa/.local/lib/python3.8/site-packages/sklearn/svm/_base.py:985: ConvergenceWarning: Liblinear failed to converge, increase the number of iterations.\n",
      "  warnings.warn(\"Liblinear failed to converge, increase \"\n",
      "/home/andrezasa/.local/lib/python3.8/site-packages/sklearn/svm/_base.py:985: ConvergenceWarning: Liblinear failed to converge, increase the number of iterations.\n",
      "  warnings.warn(\"Liblinear failed to converge, increase \"\n",
      "/home/andrezasa/.local/lib/python3.8/site-packages/sklearn/svm/_base.py:985: ConvergenceWarning: Liblinear failed to converge, increase the number of iterations.\n",
      "  warnings.warn(\"Liblinear failed to converge, increase \"\n",
      "/home/andrezasa/.local/lib/python3.8/site-packages/sklearn/svm/_base.py:985: ConvergenceWarning: Liblinear failed to converge, increase the number of iterations.\n",
      "  warnings.warn(\"Liblinear failed to converge, increase \"\n",
      "/home/andrezasa/.local/lib/python3.8/site-packages/sklearn/svm/_base.py:985: ConvergenceWarning: Liblinear failed to converge, increase the number of iterations.\n",
      "  warnings.warn(\"Liblinear failed to converge, increase \"\n",
      "/home/andrezasa/.local/lib/python3.8/site-packages/sklearn/svm/_base.py:985: ConvergenceWarning: Liblinear failed to converge, increase the number of iterations.\n",
      "  warnings.warn(\"Liblinear failed to converge, increase \"\n",
      "/home/andrezasa/.local/lib/python3.8/site-packages/sklearn/svm/_base.py:985: ConvergenceWarning: Liblinear failed to converge, increase the number of iterations.\n",
      "  warnings.warn(\"Liblinear failed to converge, increase \"\n",
      "/home/andrezasa/.local/lib/python3.8/site-packages/sklearn/svm/_base.py:985: ConvergenceWarning: Liblinear failed to converge, increase the number of iterations.\n",
      "  warnings.warn(\"Liblinear failed to converge, increase \"\n",
      "/home/andrezasa/.local/lib/python3.8/site-packages/sklearn/svm/_base.py:985: ConvergenceWarning: Liblinear failed to converge, increase the number of iterations.\n",
      "  warnings.warn(\"Liblinear failed to converge, increase \"\n",
      "/home/andrezasa/.local/lib/python3.8/site-packages/sklearn/svm/_base.py:985: ConvergenceWarning: Liblinear failed to converge, increase the number of iterations.\n",
      "  warnings.warn(\"Liblinear failed to converge, increase \"\n"
     ]
    },
    {
     "name": "stderr",
     "output_type": "stream",
     "text": [
      "/home/andrezasa/.local/lib/python3.8/site-packages/sklearn/svm/_base.py:985: ConvergenceWarning: Liblinear failed to converge, increase the number of iterations.\n",
      "  warnings.warn(\"Liblinear failed to converge, increase \"\n"
     ]
    },
    {
     "name": "stdout",
     "output_type": "stream",
     "text": [
      "Melhor RMSE = 1.2486185826470806\n",
      "Valor do epsilon = 0.1\n",
      "Valor do C = 0.126679923000806\n"
     ]
    },
    {
     "name": "stderr",
     "output_type": "stream",
     "text": [
      "/home/andrezasa/.local/lib/python3.8/site-packages/sklearn/svm/_base.py:985: ConvergenceWarning: Liblinear failed to converge, increase the number of iterations.\n",
      "  warnings.warn(\"Liblinear failed to converge, increase \"\n"
     ]
    }
   ],
   "source": [
    "epsilon_list = [0.1, 0.3]\n",
    "C_list = 2**(np.random.uniform(-5, 15, 10))\n",
    "final_rmse = np.inf\n",
    "for C_value in C_list:\n",
    "    epsilon_value = random.choice(epsilon_list)\n",
    "    cross_val = cross_validate(\n",
    "        LinearSVR(epsilon = epsilon_value, C = C_value, max_iter = 3000),\n",
    "        x,\n",
    "        np.ravel(y),\n",
    "        scoring=('neg_root_mean_squared_error')\n",
    "    )\n",
    "    rmse_medio = np.sqrt(np.mean(np.absolute(cross_val['test_score'])))\n",
    "    if rmse_medio < final_rmse:\n",
    "        final_rmse = rmse_medio\n",
    "        final_epsilon = epsilon_value\n",
    "        final_C = C_value\n",
    "print(\"Melhor RMSE = {}\".format(final_rmse))\n",
    "print(\"Valor do epsilon = {}\".format(final_epsilon))\n",
    "print(\"Valor do C = {}\".format(final_C))"
   ]
  },
  {
   "cell_type": "code",
   "execution_count": 14,
   "metadata": {},
   "outputs": [
    {
     "name": "stderr",
     "output_type": "stream",
     "text": [
      "/home/andrezasa/.local/lib/python3.8/site-packages/sklearn/svm/_base.py:985: ConvergenceWarning: Liblinear failed to converge, increase the number of iterations.\n",
      "  warnings.warn(\"Liblinear failed to converge, increase \"\n",
      "/home/andrezasa/.local/lib/python3.8/site-packages/sklearn/svm/_base.py:985: ConvergenceWarning: Liblinear failed to converge, increase the number of iterations.\n",
      "  warnings.warn(\"Liblinear failed to converge, increase \"\n",
      "/home/andrezasa/.local/lib/python3.8/site-packages/sklearn/svm/_base.py:985: ConvergenceWarning: Liblinear failed to converge, increase the number of iterations.\n",
      "  warnings.warn(\"Liblinear failed to converge, increase \"\n",
      "/home/andrezasa/.local/lib/python3.8/site-packages/sklearn/svm/_base.py:985: ConvergenceWarning: Liblinear failed to converge, increase the number of iterations.\n",
      "  warnings.warn(\"Liblinear failed to converge, increase \"\n"
     ]
    },
    {
     "name": "stdout",
     "output_type": "stream",
     "text": [
      "Resultado usando valores default:\n",
      "RMSE = 1.250411881995019\n"
     ]
    },
    {
     "name": "stderr",
     "output_type": "stream",
     "text": [
      "/home/andrezasa/.local/lib/python3.8/site-packages/sklearn/svm/_base.py:985: ConvergenceWarning: Liblinear failed to converge, increase the number of iterations.\n",
      "  warnings.warn(\"Liblinear failed to converge, increase \"\n"
     ]
    }
   ],
   "source": [
    "cross_val = cross_validate(\n",
    "        LinearSVR(),\n",
    "        x,\n",
    "        np.ravel(y),\n",
    "        scoring=('neg_root_mean_squared_error')\n",
    "    )\n",
    "rmse_medio = np.sqrt(np.mean(np.absolute(cross_val['test_score'])))\n",
    "print(\"Resultado usando valores default:\")\n",
    "print(\"RMSE = {}\".format(rmse_medio))"
   ]
  },
  {
   "cell_type": "markdown",
   "metadata": {},
   "source": [
    "### SVM com kernel RBF"
   ]
  },
  {
   "cell_type": "code",
   "execution_count": 15,
   "metadata": {},
   "outputs": [
    {
     "name": "stdout",
     "output_type": "stream",
     "text": [
      "Melhor RMSE = 1.253754334249183\n",
      "Valor do epsilon = 0.3\n",
      "Valor do C = 0.6684217705929327\n",
      "Valor do gamma = 0.007474445215789686\n"
     ]
    }
   ],
   "source": [
    "epsilon_list = [0.1, 0.3]\n",
    "C_list = 2**(np.random.uniform(-5, 15, 10))\n",
    "gamma_list = 2**(np.random.uniform(-9, 3, 10))\n",
    "final_rmse = np.inf\n",
    "                \n",
    "for C_value in C_list:\n",
    "    epsilon_value = random.choice(epsilon_list)\n",
    "    gamma_value = random.choice(gamma_list)\n",
    "    cross_val = cross_validate(\n",
    "        SVR(gamma = gamma_value,\n",
    "            C = C_value,\n",
    "            epsilon = epsilon_value,\n",
    "            kernel='rbf'),\n",
    "        x,\n",
    "        np.ravel(y),\n",
    "        scoring=('neg_root_mean_squared_error')\n",
    "    )\n",
    "    rmse_medio = np.sqrt(np.mean(np.absolute(cross_val['test_score'])))\n",
    "    if rmse_medio < final_rmse:\n",
    "        final_rmse = rmse_medio\n",
    "        final_epsilon = epsilon_value\n",
    "        final_C = C_value\n",
    "        final_gamma = gamma_value\n",
    "\n",
    "print(\"Melhor RMSE = {}\".format(final_rmse))\n",
    "print(\"Valor do epsilon = {}\".format(final_epsilon))\n",
    "print(\"Valor do C = {}\".format(final_C))\n",
    "print(\"Valor do gamma = {}\".format(final_gamma))"
   ]
  },
  {
   "cell_type": "code",
   "execution_count": 16,
   "metadata": {},
   "outputs": [
    {
     "name": "stdout",
     "output_type": "stream",
     "text": [
      "Resultado usando valores default:\n",
      "RMSE = 1.299228674531788\n"
     ]
    }
   ],
   "source": [
    "cross_val = cross_validate(\n",
    "        SVR(),\n",
    "        x,\n",
    "        np.ravel(y),\n",
    "        scoring=('neg_root_mean_squared_error')\n",
    "    )\n",
    "rmse_medio = np.sqrt(np.mean(np.absolute(cross_val['test_score'])))\n",
    "print(\"Resultado usando valores default:\")\n",
    "print(\"RMSE = {}\".format(rmse_medio))"
   ]
  },
  {
   "cell_type": "markdown",
   "metadata": {},
   "source": [
    "### KNN"
   ]
  },
  {
   "cell_type": "code",
   "execution_count": 17,
   "metadata": {},
   "outputs": [
    {
     "name": "stdout",
     "output_type": "stream",
     "text": [
      "Melhor RMSE = 1.3757670659831496\n",
      "Valor do K = 157\n"
     ]
    }
   ],
   "source": [
    "K_list = random.sample(range(1, 1001), 10)\n",
    "final_rmse = np.inf\n",
    "for K_value in K_list:\n",
    "    cross_val = cross_validate(\n",
    "        KNeighborsRegressor(K_value),\n",
    "        x,\n",
    "        y,\n",
    "        scoring=('neg_root_mean_squared_error')\n",
    "    )\n",
    "    rmse_medio = np.sqrt(np.mean(np.absolute(cross_val['test_score'])))\n",
    "    if rmse_medio < final_rmse:\n",
    "        final_rmse = rmse_medio\n",
    "        final_K = K_value\n",
    "print(\"Melhor RMSE = {}\".format(final_rmse))\n",
    "print(\"Valor do K = {}\".format(final_K))"
   ]
  },
  {
   "cell_type": "code",
   "execution_count": 18,
   "metadata": {},
   "outputs": [
    {
     "name": "stdout",
     "output_type": "stream",
     "text": [
      "Resultado usando valores default:\n",
      "RMSE = 1.3881824886378122\n"
     ]
    }
   ],
   "source": [
    "cross_val = cross_validate(\n",
    "        KNeighborsRegressor(),\n",
    "        x,\n",
    "        y,\n",
    "        scoring=('neg_root_mean_squared_error')\n",
    "    )\n",
    "rmse_medio = np.sqrt(np.mean(np.absolute(cross_val['test_score'])))\n",
    "print(\"Resultado usando valores default:\")\n",
    "print(\"RMSE = {}\".format(rmse_medio))"
   ]
  },
  {
   "cell_type": "markdown",
   "metadata": {},
   "source": [
    "### MLP"
   ]
  },
  {
   "cell_type": "code",
   "execution_count": 27,
   "metadata": {
    "scrolled": true
   },
   "outputs": [
    {
     "name": "stderr",
     "output_type": "stream",
     "text": [
      "/home/andrezasa/.local/lib/python3.8/site-packages/sklearn/neural_network/_multilayer_perceptron.py:614: ConvergenceWarning: Stochastic Optimizer: Maximum iterations (400) reached and the optimization hasn't converged yet.\n",
      "  warnings.warn(\n",
      "/home/andrezasa/.local/lib/python3.8/site-packages/sklearn/neural_network/_multilayer_perceptron.py:614: ConvergenceWarning: Stochastic Optimizer: Maximum iterations (400) reached and the optimization hasn't converged yet.\n",
      "  warnings.warn(\n",
      "/home/andrezasa/.local/lib/python3.8/site-packages/sklearn/neural_network/_multilayer_perceptron.py:614: ConvergenceWarning: Stochastic Optimizer: Maximum iterations (400) reached and the optimization hasn't converged yet.\n",
      "  warnings.warn(\n",
      "/home/andrezasa/.local/lib/python3.8/site-packages/sklearn/neural_network/_multilayer_perceptron.py:614: ConvergenceWarning: Stochastic Optimizer: Maximum iterations (400) reached and the optimization hasn't converged yet.\n",
      "  warnings.warn(\n",
      "/home/andrezasa/.local/lib/python3.8/site-packages/sklearn/neural_network/_multilayer_perceptron.py:614: ConvergenceWarning: Stochastic Optimizer: Maximum iterations (400) reached and the optimization hasn't converged yet.\n",
      "  warnings.warn(\n",
      "/home/andrezasa/.local/lib/python3.8/site-packages/sklearn/neural_network/_multilayer_perceptron.py:614: ConvergenceWarning: Stochastic Optimizer: Maximum iterations (400) reached and the optimization hasn't converged yet.\n",
      "  warnings.warn(\n",
      "/home/andrezasa/.local/lib/python3.8/site-packages/sklearn/neural_network/_multilayer_perceptron.py:614: ConvergenceWarning: Stochastic Optimizer: Maximum iterations (400) reached and the optimization hasn't converged yet.\n",
      "  warnings.warn(\n",
      "/home/andrezasa/.local/lib/python3.8/site-packages/sklearn/neural_network/_multilayer_perceptron.py:614: ConvergenceWarning: Stochastic Optimizer: Maximum iterations (400) reached and the optimization hasn't converged yet.\n",
      "  warnings.warn(\n",
      "/home/andrezasa/.local/lib/python3.8/site-packages/sklearn/neural_network/_multilayer_perceptron.py:614: ConvergenceWarning: Stochastic Optimizer: Maximum iterations (400) reached and the optimization hasn't converged yet.\n",
      "  warnings.warn(\n",
      "/home/andrezasa/.local/lib/python3.8/site-packages/sklearn/neural_network/_multilayer_perceptron.py:614: ConvergenceWarning: Stochastic Optimizer: Maximum iterations (400) reached and the optimization hasn't converged yet.\n",
      "  warnings.warn(\n",
      "/home/andrezasa/.local/lib/python3.8/site-packages/sklearn/neural_network/_multilayer_perceptron.py:614: ConvergenceWarning: Stochastic Optimizer: Maximum iterations (400) reached and the optimization hasn't converged yet.\n",
      "  warnings.warn(\n",
      "/home/andrezasa/.local/lib/python3.8/site-packages/sklearn/neural_network/_multilayer_perceptron.py:614: ConvergenceWarning: Stochastic Optimizer: Maximum iterations (400) reached and the optimization hasn't converged yet.\n",
      "  warnings.warn(\n",
      "/home/andrezasa/.local/lib/python3.8/site-packages/sklearn/neural_network/_multilayer_perceptron.py:614: ConvergenceWarning: Stochastic Optimizer: Maximum iterations (400) reached and the optimization hasn't converged yet.\n",
      "  warnings.warn(\n",
      "/home/andrezasa/.local/lib/python3.8/site-packages/sklearn/neural_network/_multilayer_perceptron.py:614: ConvergenceWarning: Stochastic Optimizer: Maximum iterations (400) reached and the optimization hasn't converged yet.\n",
      "  warnings.warn(\n",
      "/home/andrezasa/.local/lib/python3.8/site-packages/sklearn/neural_network/_multilayer_perceptron.py:614: ConvergenceWarning: Stochastic Optimizer: Maximum iterations (400) reached and the optimization hasn't converged yet.\n",
      "  warnings.warn(\n",
      "/home/andrezasa/.local/lib/python3.8/site-packages/sklearn/neural_network/_multilayer_perceptron.py:614: ConvergenceWarning: Stochastic Optimizer: Maximum iterations (400) reached and the optimization hasn't converged yet.\n",
      "  warnings.warn(\n",
      "/home/andrezasa/.local/lib/python3.8/site-packages/sklearn/neural_network/_multilayer_perceptron.py:614: ConvergenceWarning: Stochastic Optimizer: Maximum iterations (400) reached and the optimization hasn't converged yet.\n",
      "  warnings.warn(\n",
      "/home/andrezasa/.local/lib/python3.8/site-packages/sklearn/neural_network/_multilayer_perceptron.py:614: ConvergenceWarning: Stochastic Optimizer: Maximum iterations (400) reached and the optimization hasn't converged yet.\n",
      "  warnings.warn(\n",
      "/home/andrezasa/.local/lib/python3.8/site-packages/sklearn/neural_network/_multilayer_perceptron.py:614: ConvergenceWarning: Stochastic Optimizer: Maximum iterations (400) reached and the optimization hasn't converged yet.\n",
      "  warnings.warn(\n",
      "/home/andrezasa/.local/lib/python3.8/site-packages/sklearn/neural_network/_multilayer_perceptron.py:614: ConvergenceWarning: Stochastic Optimizer: Maximum iterations (400) reached and the optimization hasn't converged yet.\n",
      "  warnings.warn(\n",
      "/home/andrezasa/.local/lib/python3.8/site-packages/sklearn/neural_network/_multilayer_perceptron.py:614: ConvergenceWarning: Stochastic Optimizer: Maximum iterations (400) reached and the optimization hasn't converged yet.\n",
      "  warnings.warn(\n",
      "/home/andrezasa/.local/lib/python3.8/site-packages/sklearn/neural_network/_multilayer_perceptron.py:614: ConvergenceWarning: Stochastic Optimizer: Maximum iterations (400) reached and the optimization hasn't converged yet.\n",
      "  warnings.warn(\n",
      "/home/andrezasa/.local/lib/python3.8/site-packages/sklearn/neural_network/_multilayer_perceptron.py:614: ConvergenceWarning: Stochastic Optimizer: Maximum iterations (400) reached and the optimization hasn't converged yet.\n",
      "  warnings.warn(\n",
      "/home/andrezasa/.local/lib/python3.8/site-packages/sklearn/neural_network/_multilayer_perceptron.py:614: ConvergenceWarning: Stochastic Optimizer: Maximum iterations (400) reached and the optimization hasn't converged yet.\n",
      "  warnings.warn(\n",
      "/home/andrezasa/.local/lib/python3.8/site-packages/sklearn/neural_network/_multilayer_perceptron.py:614: ConvergenceWarning: Stochastic Optimizer: Maximum iterations (400) reached and the optimization hasn't converged yet.\n",
      "  warnings.warn(\n",
      "/home/andrezasa/.local/lib/python3.8/site-packages/sklearn/neural_network/_multilayer_perceptron.py:614: ConvergenceWarning: Stochastic Optimizer: Maximum iterations (400) reached and the optimization hasn't converged yet.\n",
      "  warnings.warn(\n",
      "/home/andrezasa/.local/lib/python3.8/site-packages/sklearn/neural_network/_multilayer_perceptron.py:614: ConvergenceWarning: Stochastic Optimizer: Maximum iterations (400) reached and the optimization hasn't converged yet.\n",
      "  warnings.warn(\n",
      "/home/andrezasa/.local/lib/python3.8/site-packages/sklearn/neural_network/_multilayer_perceptron.py:614: ConvergenceWarning: Stochastic Optimizer: Maximum iterations (400) reached and the optimization hasn't converged yet.\n",
      "  warnings.warn(\n"
     ]
    },
    {
     "name": "stdout",
     "output_type": "stream",
     "text": [
      "Melhor RMSE = 1.3342414445487016\n",
      "Camadas escondidas = 8\n"
     ]
    },
    {
     "name": "stderr",
     "output_type": "stream",
     "text": [
      "/home/andrezasa/.local/lib/python3.8/site-packages/sklearn/neural_network/_multilayer_perceptron.py:614: ConvergenceWarning: Stochastic Optimizer: Maximum iterations (400) reached and the optimization hasn't converged yet.\n",
      "  warnings.warn(\n"
     ]
    }
   ],
   "source": [
    "final_rmse = np.inf\n",
    "for Hlayers_value in range(5, 21, 3):\n",
    "    cross_val = cross_validate(\n",
    "        MLPRegressor(Hlayers_value),\n",
    "        x,\n",
    "        np.ravel(y),\n",
    "        scoring=('neg_root_mean_squared_error')\n",
    "    )\n",
    "    rmse_medio = np.sqrt(np.mean(np.absolute(cross_val['test_score'])))\n",
    "    if rmse_medio < final_rmse:\n",
    "        final_rmse = rmse_medio\n",
    "        final_Hlayers = Hlayers_value\n",
    "print(\"Melhor RMSE = {}\".format(final_rmse))\n",
    "print(\"Camadas escondidas = {}\".format(final_Hlayers))"
   ]
  },
  {
   "cell_type": "code",
   "execution_count": 20,
   "metadata": {},
   "outputs": [
    {
     "name": "stderr",
     "output_type": "stream",
     "text": [
      "/home/andrezasa/.local/lib/python3.8/site-packages/sklearn/neural_network/_multilayer_perceptron.py:614: ConvergenceWarning: Stochastic Optimizer: Maximum iterations (200) reached and the optimization hasn't converged yet.\n",
      "  warnings.warn(\n",
      "/home/andrezasa/.local/lib/python3.8/site-packages/sklearn/neural_network/_multilayer_perceptron.py:614: ConvergenceWarning: Stochastic Optimizer: Maximum iterations (200) reached and the optimization hasn't converged yet.\n",
      "  warnings.warn(\n",
      "/home/andrezasa/.local/lib/python3.8/site-packages/sklearn/neural_network/_multilayer_perceptron.py:614: ConvergenceWarning: Stochastic Optimizer: Maximum iterations (200) reached and the optimization hasn't converged yet.\n",
      "  warnings.warn(\n",
      "/home/andrezasa/.local/lib/python3.8/site-packages/sklearn/neural_network/_multilayer_perceptron.py:614: ConvergenceWarning: Stochastic Optimizer: Maximum iterations (200) reached and the optimization hasn't converged yet.\n",
      "  warnings.warn(\n"
     ]
    },
    {
     "name": "stdout",
     "output_type": "stream",
     "text": [
      "Resultado usando valores default:\n",
      "RMSE = 1.4146059679908776\n"
     ]
    },
    {
     "name": "stderr",
     "output_type": "stream",
     "text": [
      "/home/andrezasa/.local/lib/python3.8/site-packages/sklearn/neural_network/_multilayer_perceptron.py:614: ConvergenceWarning: Stochastic Optimizer: Maximum iterations (200) reached and the optimization hasn't converged yet.\n",
      "  warnings.warn(\n"
     ]
    }
   ],
   "source": [
    "cross_val = cross_validate(\n",
    "        MLPRegressor(),\n",
    "        x,\n",
    "        np.ravel(y),\n",
    "        scoring=('neg_root_mean_squared_error')\n",
    ")\n",
    "rmse_medio = np.sqrt(np.mean(np.absolute(cross_val['test_score'])))\n",
    "print(\"Resultado usando valores default:\")\n",
    "print(\"RMSE = {}\".format(rmse_medio))"
   ]
  },
  {
   "cell_type": "markdown",
   "metadata": {},
   "source": [
    "### Árvore de decisão"
   ]
  },
  {
   "cell_type": "code",
   "execution_count": 21,
   "metadata": {},
   "outputs": [
    {
     "name": "stdout",
     "output_type": "stream",
     "text": [
      "Melhor RMSE = 1.3588060137522582\n",
      "Valor do ccp_alpha = 0.03723309384171922\n"
     ]
    }
   ],
   "source": [
    "ccp_alpha_list = np.random.uniform(0, 0.04, 10)\n",
    "final_rmse = np.inf\n",
    "for ccp_alpha_value in ccp_alpha_list:\n",
    "    cross_val = cross_validate(\n",
    "        DecisionTreeRegressor(ccp_alpha = ccp_alpha_value),\n",
    "        x,\n",
    "        y,\n",
    "        scoring=('neg_root_mean_squared_error')\n",
    "    )\n",
    "    rmse_medio = np.sqrt(np.mean(np.absolute(cross_val['test_score'])))\n",
    "    if rmse_medio < final_rmse:\n",
    "        final_rmse = rmse_medio\n",
    "        final_ccp_alpha = ccp_alpha_value\n",
    "print(\"Melhor RMSE = {}\".format(final_rmse))\n",
    "print(\"Valor do ccp_alpha = {}\".format(final_ccp_alpha))"
   ]
  },
  {
   "cell_type": "code",
   "execution_count": 22,
   "metadata": {},
   "outputs": [
    {
     "name": "stdout",
     "output_type": "stream",
     "text": [
      "Resultado usando valores default:\n",
      "RMSE = 1.3977159845546736\n"
     ]
    }
   ],
   "source": [
    "cross_val = cross_validate(\n",
    "        DecisionTreeRegressor(),\n",
    "        x,\n",
    "        y,\n",
    "        scoring=('neg_root_mean_squared_error')\n",
    "    )\n",
    "print(\"Resultado usando valores default:\")\n",
    "print(\"RMSE = {}\".format(rmse_medio))"
   ]
  },
  {
   "cell_type": "markdown",
   "metadata": {},
   "source": [
    "### Random Forest"
   ]
  },
  {
   "cell_type": "code",
   "execution_count": 23,
   "metadata": {},
   "outputs": [
    {
     "name": "stdout",
     "output_type": "stream",
     "text": [
      "Melhor RMSE = 1.2748278545285967\n",
      "Valor de estimadores = 1000\n",
      "Valor máximo de atributos = 10\n"
     ]
    }
   ],
   "source": [
    "n_estimators_list = [10, 100, 1000]\n",
    "max_features_list = [5, 10, 22]\n",
    "final_rmse = np.inf\n",
    "for n_estimators_value in n_estimators_list:\n",
    "    for max_features_value in max_features_list:\n",
    "        cross_val = cross_validate(\n",
    "            RandomForestRegressor(n_estimators = n_estimators_value, max_features = max_features_value),\n",
    "            x,\n",
    "            np.ravel(y),\n",
    "            scoring=('neg_root_mean_squared_error')\n",
    "        )\n",
    "        rmse_medio = np.sqrt(np.mean(np.absolute(cross_val['test_score'])))\n",
    "        if rmse_medio < final_rmse:\n",
    "            final_rmse = rmse_medio\n",
    "            final_n_estimators = n_estimators_value\n",
    "            final_max_features = max_features_value\n",
    "print(\"Melhor RMSE = {}\".format(final_rmse))\n",
    "print(\"Valor de estimadores = {}\".format(final_n_estimators))\n",
    "print(\"Valor máximo de atributos = {}\".format(final_max_features))"
   ]
  },
  {
   "cell_type": "code",
   "execution_count": 24,
   "metadata": {},
   "outputs": [
    {
     "name": "stdout",
     "output_type": "stream",
     "text": [
      "Resultado usando valores default:\n",
      "RMSE = 1.2855642897501085\n"
     ]
    }
   ],
   "source": [
    "cross_val = cross_validate(\n",
    "    RandomForestRegressor(),\n",
    "    x,\n",
    "    np.ravel(y),\n",
    "    scoring=('neg_root_mean_squared_error')\n",
    ")\n",
    "rmse_medio = np.sqrt(np.mean(np.absolute(cross_val['test_score'])))\n",
    "print(\"Resultado usando valores default:\")\n",
    "print(\"RMSE = {}\".format(rmse_medio))"
   ]
  },
  {
   "cell_type": "markdown",
   "metadata": {},
   "source": [
    "### GBM"
   ]
  },
  {
   "cell_type": "code",
   "execution_count": 25,
   "metadata": {},
   "outputs": [
    {
     "name": "stdout",
     "output_type": "stream",
     "text": [
      "Melhor RMSE = 1.2678967447966512\n",
      "Valor de estimadores = 50\n",
      "Valor da taxa de aprendizado = 0.09988174079350304\n",
      "Valor da profundidade máxima = 2\n"
     ]
    }
   ],
   "source": [
    "n_estimators_list = random.sample(range(5, 101), 10)\n",
    "learning_rate_list = np.random.uniform(0.01, 0.3, 10)\n",
    "max_depth_list = [2, 3]\n",
    "final_rmse = np.inf\n",
    "\n",
    "for n_estimators_value in n_estimators_list:\n",
    "    learning_rate_value = random.choice(learning_rate_list)\n",
    "    max_depth_value = random.choice(max_depth_list)\n",
    "    cross_val = cross_validate(\n",
    "        GradientBoostingRegressor(\n",
    "            learning_rate = learning_rate_value,\n",
    "            n_estimators = n_estimators_value,\n",
    "            max_features = max_features_value\n",
    "        ),\n",
    "        x,\n",
    "        np.ravel(y),\n",
    "        scoring=('neg_root_mean_squared_error')\n",
    "    )\n",
    "    rmse_medio = np.sqrt(np.mean(np.absolute(cross_val['test_score'])))\n",
    "    if rmse_medio < final_rmse:\n",
    "        final_rmse = rmse_medio\n",
    "        final_n_estimators = n_estimators_value\n",
    "        final_learning_rate = learning_rate_value\n",
    "        final_max_depth = max_depth_value\n",
    "\n",
    "print(\"Melhor RMSE = {}\".format(final_rmse))\n",
    "print(\"Valor de estimadores = {}\".format(final_n_estimators))\n",
    "print(\"Valor da taxa de aprendizado = {}\".format(final_learning_rate))\n",
    "print(\"Valor da profundidade máxima = {}\".format(final_max_depth))"
   ]
  },
  {
   "cell_type": "code",
   "execution_count": 26,
   "metadata": {},
   "outputs": [
    {
     "name": "stdout",
     "output_type": "stream",
     "text": [
      "Resultado usando valores default:\n",
      "RMSE = 1.263458065868345\n"
     ]
    }
   ],
   "source": [
    "cross_val = cross_validate(\n",
    "    GradientBoostingRegressor(),\n",
    "    x,\n",
    "    np.ravel(y),\n",
    "    scoring=('neg_root_mean_squared_error')\n",
    ")\n",
    "rmse_medio = np.sqrt(np.mean(np.absolute(cross_val['test_score'])))\n",
    "rmse_medio = np.sqrt(np.mean(np.absolute(cross_val['test_score'])))\n",
    "print(\"Resultado usando valores default:\")\n",
    "print(\"RMSE = {}\".format(rmse_medio))"
   ]
  }
 ],
 "metadata": {
  "kernelspec": {
   "display_name": "Python 3",
   "language": "python",
   "name": "python3"
  },
  "language_info": {
   "codemirror_mode": {
    "name": "ipython",
    "version": 3
   },
   "file_extension": ".py",
   "mimetype": "text/x-python",
   "name": "python",
   "nbconvert_exporter": "python",
   "pygments_lexer": "ipython3",
   "version": "3.8.5"
  }
 },
 "nbformat": 4,
 "nbformat_minor": 5
}
