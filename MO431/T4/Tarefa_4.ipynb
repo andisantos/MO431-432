{
 "cells": [
  {
   "cell_type": "markdown",
   "metadata": {},
   "source": [
    "# Tarefa 4\n",
    "\n",
    "<b>Alunos:</b> Andreza (164213), Gil (225323) e Yan (118982)"
   ]
  },
  {
   "cell_type": "code",
   "execution_count": 5,
   "metadata": {},
   "outputs": [],
   "source": [
    "import time\n",
    "import numpy as np\n",
    "from scipy.stats import loguniform, uniform\n",
    "\n",
    "from sklearn.svm import SVR\n",
    "from sklearn.metrics import mean_squared_error, make_scorer\n",
    "from sklearn.model_selection import RandomizedSearchCV, GridSearchCV, cross_val_score\n",
    "\n",
    "from hyperopt import tpe, fmin, hp, STATUS_OK\n",
    "from pyswarm import pso\n",
    "from simanneal import Annealer\n",
    "import optuna\n",
    "\n",
    "from IPython.display import display, clear_output"
   ]
  },
  {
   "cell_type": "markdown",
   "metadata": {},
   "source": [
    "## Hiperparâmetros:\n",
    "* C: 2^{-5} a 2^{15} (uniforme nos expoentes)\n",
    "* gamma: 2^{-15} a 2^{3} (uniforme nos expoentes)\n",
    "* epsilon: 0.05 a 1.0 (uniforme no intervalo)"
   ]
  },
  {
   "cell_type": "code",
   "execution_count": 2,
   "metadata": {},
   "outputs": [],
   "source": [
    "# Defines\n",
    "exp_min_C = -5\n",
    "exp_max_C = 15\n",
    "exp_min_gamma = -15\n",
    "exp_max_gamma = 3\n",
    "min_epsilon = 0.05\n",
    "max_epsilon = 1.0"
   ]
  },
  {
   "cell_type": "markdown",
   "metadata": {},
   "source": [
    "## Carregamento dos dados"
   ]
  },
  {
   "cell_type": "code",
   "execution_count": 3,
   "metadata": {},
   "outputs": [],
   "source": [
    "X = np.load(\"X.npy\")\n",
    "y = np.load(\"y.npy\")"
   ]
  },
  {
   "cell_type": "markdown",
   "metadata": {},
   "source": [
    "## Medida de erro:\n",
    "Utilizamos como medida do erro a <b>raiz quadrada do erro-médio </b>, do inglês <b>RSME</b>."
   ]
  },
  {
   "cell_type": "markdown",
   "metadata": {},
   "source": [
    "## Random Search\n",
    "<ul>\n",
    "    <li>Escolha os valores para cada dimensão aleatoriamente, segundo uma distribuição</li>\n",
    "    <li>No nosso caso, teremos um grid exponencial equivale a uma distribuição uniforme no expoente.</li>\n",
    "    \n",
    "</ul>"
   ]
  },
  {
   "cell_type": "code",
   "execution_count": null,
   "metadata": {},
   "outputs": [],
   "source": [
    "param_distributions = {'C': loguniform(2**exp_min_C, 2**exp_max_C), \n",
    "                       'gamma': loguniform(2**exp_min_gamma, 2**exp_max_gamma) ,\n",
    "                       'epsilon': uniform(min_epsilon, max_epsilon)}\n",
    "\n",
    "start = time.time()\n",
    "# Realiza a busca aleatória\n",
    "# Se cv = None, utiliza 5 fold cross validation\n",
    "random_search = RandomizedSearchCV(\n",
    "    SVR(),\n",
    "    param_distributions,\n",
    "    random_state = 0,\n",
    "    n_iter=125,\n",
    "    scoring = 'neg_mean_squared_error',\n",
    "    cv = None,\n",
    "    refit = True,\n",
    "    verbose=2)\n",
    "random_search.fit(X, y)\n",
    "time_elapsed = time.time() - start"
   ]
  },
  {
   "cell_type": "code",
   "execution_count": 5,
   "metadata": {},
   "outputs": [
    {
     "name": "stdout",
     "output_type": "stream",
     "text": [
      "Tempo de execução Random Search: 33.768 s\n",
      "Melhores parâmetros:  {'C': 12090.831718005036, 'epsilon': 0.7544144019235328, 'gamma': 4.540153912140535e-05}\n",
      "RMSE: 4.100037405923898\n"
     ]
    }
   ],
   "source": [
    "print(\"Tempo de execução Random Search: {:.3f} s\".format(time_elapsed))\n",
    "print(\"Melhores parâmetros: \", random_search.best_params_)\n",
    "regressor = SVR(kernel = 'rbf', C = random_search.best_params_['C'],\n",
    "                gamma = random_search.best_params_['gamma'],\n",
    "                epsilon = random_search.best_params_['epsilon'])\n",
    "\n",
    "scores = cross_val_score(regressor, X, y, scoring = 'neg_mean_squared_error', cv=5)\n",
    "rmse =  np.sqrt(np.mean(np.absolute(scores)))\n",
    "print(\"RMSE:\", rmse)"
   ]
  },
  {
   "cell_type": "markdown",
   "metadata": {},
   "source": [
    "## Grid Search"
   ]
  },
  {
   "cell_type": "markdown",
   "metadata": {},
   "source": [
    "Fazemos um grid search com grid de 5x5x5 selecionando uniformemente 5 expoentes de C e gamma e 5 valores de epsilon, com um grid exponensial linear nos expoentes."
   ]
  },
  {
   "cell_type": "code",
   "execution_count": null,
   "metadata": {},
   "outputs": [],
   "source": [
    "param_grid = {'C': loguniform.rvs(2**exp_min_C, 2**exp_max_C, size = 5), \n",
    "              'gamma': loguniform.rvs(2**exp_min_gamma, 2**exp_max_gamma,  size = 5) ,\n",
    "              'epsilon': uniform.rvs(min_epsilon, max_epsilon, size= 5)}\n",
    "print(param_grid)\n",
    "strt = time.time()\n",
    "# Realiza o Grid Search utilizando os parametros definidos em param_grid\n",
    "grid_search = GridSearchCV(SVR(),\n",
    "                           param_grid,\n",
    "                           cv = None,\n",
    "                           scoring = 'neg_mean_squared_error',\n",
    "                           refit = True,\n",
    "                           verbose = 2)\n",
    "grid_search.fit(X, y)\n",
    "time_elapsed = time.time() - start"
   ]
  },
  {
   "cell_type": "code",
   "execution_count": 7,
   "metadata": {},
   "outputs": [
    {
     "name": "stdout",
     "output_type": "stream",
     "text": [
      "Tempo de execução Grid Search: 83.842 s\n",
      "Melhores parâmetros:  {'C': 1602.7190592494144, 'epsilon': 0.8354722980853039, 'gamma': 0.00028875853933915967}\n",
      "RMSE: 4.834165296326991\n"
     ]
    }
   ],
   "source": [
    "print(\"Tempo de execução Grid Search: {:.3f} s\".format(time_elapsed))\n",
    "print(\"Melhores parâmetros: \", grid_search.best_params_)\n",
    "regressor = SVR(kernel = 'rbf', C = grid_search.best_params_['C'],\n",
    "                gamma = grid_search.best_params_['gamma'],\n",
    "                epsilon = grid_search.best_params_['epsilon'])\n",
    "\n",
    "scores = cross_val_score(regressor, X, y, scoring = 'neg_mean_squared_error', cv=5)\n",
    "rmse =  np.sqrt(np.mean(np.absolute(scores)))\n",
    "print(\"RMSE:\", rmse)"
   ]
  },
  {
   "cell_type": "markdown",
   "metadata": {},
   "source": [
    "## Bayesian Search"
   ]
  },
  {
   "cell_type": "markdown",
   "metadata": {},
   "source": [
    "A otimização bayesiana utilizando a bibliotec hyperopt requer a definição de uma função objetivo \n",
    "a ser minimizada. Como queremos maximizar a accuracia, utilizamos loss = -acc para ser minimizada. "
   ]
  },
  {
   "cell_type": "code",
   "execution_count": 8,
   "metadata": {},
   "outputs": [
    {
     "name": "stdout",
     "output_type": "stream",
     "text": [
      "100%|██████████| 125/125 [01:52<00:00,  1.11trial/s, best loss: 15.153091976316869]\n"
     ]
    }
   ],
   "source": [
    "def objective_func(search_space):\n",
    "    C =  search_space['C']\n",
    "    gamma = search_space['gamma']\n",
    "    epsilon = search_space['epsilon']\n",
    "    regressor = SVR(**{'C': 2**C, 'gamma': 2**gamma, 'epsilon': epsilon})\n",
    "    \n",
    "    acc = cross_val_score(regressor, X, y, scoring='neg_mean_squared_error', cv=None).mean()\n",
    "    return {'loss': -acc, 'status': STATUS_OK}\n",
    "\n",
    "bayesian_search_space = {\n",
    "    'C': hp.uniform('C', exp_min_C, exp_max_C),\n",
    "    'gamma': hp.uniform('gamma', exp_min_gamma, exp_max_gamma),\n",
    "    'epsilon': hp.uniform('epsilon', min_epsilon, max_epsilon)   \n",
    "}\n",
    "start = time.time()\n",
    "best_params = fmin(objective_func, bayesian_search_space, algo=tpe.suggest, max_evals=125)\n",
    "time_elapsed = time.time() - start\n",
    "best_parameters = {\n",
    "    'C': 2**best_params['C'],\n",
    "    'gamma': 2**best_params['gamma'],\n",
    "    'epsilon': best_params['epsilon']\n",
    "}"
   ]
  },
  {
   "cell_type": "code",
   "execution_count": 9,
   "metadata": {},
   "outputs": [
    {
     "name": "stdout",
     "output_type": "stream",
     "text": [
      "Tempo de execução Bayesian Search: 112.572 s\n",
      "Melhores parâmetros: {'C': 25339.857447098122, 'gamma': 3.1320582855738275e-05, 'epsilon': 0.5825810101914355}\n",
      "RMSE: 3.892697262351244\n"
     ]
    }
   ],
   "source": [
    "print(\"Tempo de execução Bayesian Search: {:.3f} s\".format(time_elapsed))\n",
    "print(\"Melhores parâmetros:\", best_parameters)\n",
    "regressor = SVR(C=best_parameters['C'], gamma=best_parameters['gamma'], epsilon=best_parameters['epsilon'])\n",
    "scores = cross_val_score(regressor, X, y, scoring = 'neg_mean_squared_error', cv=5)\n",
    "rmse =  np.sqrt(np.mean(np.absolute(scores)))\n",
    "print(\"RMSE:\", rmse)"
   ]
  },
  {
   "cell_type": "markdown",
   "metadata": {},
   "source": [
    "## PSO\n",
    "<ul>\n",
    "<li>há N partículas explorando o espaço das variáveis</li>\n",
    "<li>cada partícula i inicia numa posição aleatória x_i e com uma “velocidade” (modulo e direção) aleatória V_i</li>\n",
    "<li>o grupo se lembra da melhor posição explorada até agora (g)</li>\n",
    "<li>cada partícula tem um grupo de “amigos” ou vizinhos</li>\n",
    "<li>o novo ponto da partícula é x_{i+1} = x_i + V_i</li>\n",
    "<li>a nova velocidade é atualizada para cada dimensão V_{i+1,d} e leva em consideração a velocidade anterior do ponto (“momento”), a posição do melhor ponto encontrado até agora (“componente cognitivo”) e o melhor ponto encontrado pelos seus vizinhos p_i(“componente social”)</li>\n",
    "</ul>"
   ]
  },
  {
   "cell_type": "code",
   "execution_count": 10,
   "metadata": {
    "scrolled": false
   },
   "outputs": [
    {
     "name": "stdout",
     "output_type": "stream",
     "text": [
      "Stopping search: maximum iterations reached --> 11\n",
      "Tempo de execução PSO: 402.050 s\n",
      "Melhores parâmetros: 'C': 21817.631831468443, 'gamma': 3.0517578125e-05, 'epsilon': 0.05\n",
      "RMSE:  3.716425672535194\n"
     ]
    }
   ],
   "source": [
    "def funcao(param):  \n",
    "    svr = SVR(kernel='rbf', C=param[0], gamma=param[1], epsilon=param[2])\n",
    "    rmse = make_scorer(mean_squared_error, squared=False, greater_is_better=False)\n",
    "    scores = cross_val_score(svr, X, y, cv=5, scoring=rmse)#'neg_root_mean_squared_error')\n",
    "    rmse_mean = -np.mean(scores)\n",
    "    return rmse_mean\n",
    "\n",
    "lb = np.array([2**exp_min_C, 2**exp_min_gamma, min_epsilon])\n",
    "ub = np.array([2**exp_max_C, 2**exp_max_gamma, max_epsilon])\n",
    "\n",
    "start = time.time()\n",
    "xopt, fopt = pso(funcao, lb, ub, swarmsize=11, maxiter=11)\n",
    "time_elapsed = time.time() - start\n",
    "\n",
    "C_opt = str(xopt[0])\n",
    "gamma_opt = str(xopt[1])\n",
    "epsilon_opt = str(xopt[2])\n",
    "print(\"Tempo de execução PSO: {:.3f} s\".format(time_elapsed))\n",
    "print(\"Melhores parâmetros: 'C': {0}, 'gamma': {1}, 'epsilon': {2}\".format(C_opt,\n",
    "                                                                           gamma_opt,\n",
    "                                                                           epsilon_opt))\n",
    "print(\"RMSE: \", str(fopt))"
   ]
  },
  {
   "cell_type": "markdown",
   "metadata": {},
   "source": [
    "## Simulated annealing\n",
    "<ul>\n",
    "<li>mantem um ponto (estado) x; </li>\n",
    "\n",
    "<li>verifica um estado “vizinho” y (pode ser um ponto aleatório no espaço todo ou apenas em volta do x);</li>\n",
    "\n",
    "<li>se f(y) é menor do que f(x)então y é o novo estado;</li>\n",
    "\n",
    "<li>senão aceita yy como o novo estado com probabilidade P(f(y)-f(x),T), onde T é a \"temperatura;</li>\n",
    "\n",
    "<li>uma função comum para P é P = e^{-(f(y)-f(x))/T}P=e^{−(f(y)−f(x))/T};</li>\n",
    " \n",
    "<li>T alta: aumenta a probabilidade de aceitar o ponto. Se T é infinito P = e^0 = 1;</li>\n",
    "\n",
    "<li>T baixa: diminui a probabilidade. Com T=0 a probabilidade é 0;</li>\n",
    "\n",
    "<li>T começa alta e vai diminuindo com o tempo - cooling schedule;</li>\n",
    "\n",
    "<li>exploration no começo, e exploitation no final;</li>\n",
    "</ul>"
   ]
  },
  {
   "cell_type": "code",
   "execution_count": 16,
   "metadata": {},
   "outputs": [
    {
     "name": "stderr",
     "output_type": "stream",
     "text": [
      " Temperature        Energy    Accept   Improve     Elapsed   Remaining\n",
      "     2.50000          8.13   100.00%     0.00%     0:00:35     0:00:00"
     ]
    },
    {
     "name": "stdout",
     "output_type": "stream",
     "text": [
      "Tempo de execução Simulated Anneling: 34.821 s\n",
      "Melhores parâmetros: 'C': 17644.155559829433, 'gamma': 4.8541623897673706e-05, 'epsilon': 0.8190117619976423\n",
      "RMSE: 4.304367131249085\n"
     ]
    }
   ],
   "source": [
    "class SimAnn(Annealer):\n",
    "\n",
    "    def move(self):\n",
    "        self.state[0] = 2**np.random.uniform(low = exp_min_C, high = exp_max_C)\n",
    "        self.state[1] = 2**np.random.uniform(low = exp_min_gamma, high = exp_max_gamma)\n",
    "        self.state[2] = np.random.uniform(min_epsilon, max_epsilon)\n",
    "    \n",
    "    def energy(self):\n",
    "        svr = SVR(kernel='rbf', C=self.state[0], gamma=self.state[1], epsilon=self.state[2])\n",
    "        rmse = make_scorer(mean_squared_error, squared=False, greater_is_better=False)\n",
    "        scores = cross_val_score(svr, X, y, cv=5, scoring=rmse)#'neg_root_mean_squared_error')\n",
    "        rmse_mean = -np.mean(scores)\n",
    "        \n",
    "        return rmse_mean\n",
    "\n",
    "C = 2**np.random.uniform(low = exp_min_C, high = exp_max_C)\n",
    "gamma = 2**np.random.uniform(low = exp_min_gamma, high = exp_max_gamma)\n",
    "epsilon = np.random.uniform(min_epsilon, max_epsilon)\n",
    "init_state = [C, gamma, epsilon]\n",
    "sa = SimAnn(init_state)\n",
    "sa.steps = 125\n",
    "start = time.time()\n",
    "best_params, rmse = sa.anneal()\n",
    "time_elapsed = time.time() - start\n",
    "print(\"Tempo de execução Simulated Anneling: {:.3f} s\".format(time_elapsed))\n",
    "print(\"Melhores parâmetros: 'C': {0}, 'gamma': {1}, 'epsilon': {2}\".format(best_params[0],\n",
    "                                                                           best_params[1],\n",
    "                                                                           best_params[2]))\n",
    "print('RMSE: ' + str(rmse))"
   ]
  },
  {
   "cell_type": "markdown",
   "metadata": {},
   "source": [
    "## CMA-ES"
   ]
  },
  {
   "cell_type": "markdown",
   "metadata": {},
   "source": [
    "A implementação do algoritmo de otimização CMA-ES foi feita via biblioteca optunza. A implementação é encapsulada em um sampler default fornecido pela própria biblioteca, assim não sendo necessário a implementação de uma classe sampler específica, somente a função objetivo.\n",
    "\n",
    "Utilize 125 chamadas da função."
   ]
  },
  {
   "cell_type": "code",
   "execution_count": null,
   "metadata": {},
   "outputs": [],
   "source": [
    "def objective(trial):\n",
    "    c = trial.suggest_loguniform('c', 2**exp_min_C,  2**exp_max_C)\n",
    "    gamma = trial.suggest_loguniform('gamma', 2**exp_min_gamma,  2**exp_max_gamma)  \n",
    "    epsilon = trial.suggest_uniform('epsilon', min_epsilon,  max_epsilon)\n",
    "    \n",
    "    svr  = SVR(kernel='rbf', C=c, gamma=gamma, epsilon=epsilon)\n",
    "    scores = cross_val_score(svr, X, y, scoring = 'neg_mean_squared_error', cv=5)\n",
    "    rmse =  np.sqrt(np.mean(np.absolute(scores)))   \n",
    "    return rmse\n",
    "\n",
    "\n",
    "sampler = optuna.samplers.CmaEsSampler()\n",
    "cmaes = optuna.create_study(sampler=sampler)\n",
    "start = time.time()\n",
    "cmaes.optimize(objective, n_trials=125)\n",
    "time_elapsed = time.time() - start"
   ]
  },
  {
   "cell_type": "code",
   "execution_count": 18,
   "metadata": {},
   "outputs": [
    {
     "name": "stdout",
     "output_type": "stream",
     "text": [
      "Tempo de execução CMA-ES: 18.199 s\n",
      "Melhores parâmetros: {'c': 2216.197086488184, 'gamma': 6.610965699443206e-05, 'epsilon': 0.3284615721209558}\n",
      "RMSE: 4.2324142272666485\n"
     ]
    }
   ],
   "source": [
    "print(\"Tempo de execução CMA-ES: {:.3f} s\".format(time_elapsed))\n",
    "print('Melhores parâmetros:',cmaes.best_params)\n",
    "print('RMSE:',cmaes.best_value)"
   ]
  }
 ],
 "metadata": {
  "kernelspec": {
   "display_name": "Python 3",
   "language": "python",
   "name": "python3"
  },
  "language_info": {
   "codemirror_mode": {
    "name": "ipython",
    "version": 3
   },
   "file_extension": ".py",
   "mimetype": "text/x-python",
   "name": "python",
   "nbconvert_exporter": "python",
   "pygments_lexer": "ipython3",
   "version": "3.8.5"
  }
 },
 "nbformat": 4,
 "nbformat_minor": 4
}
