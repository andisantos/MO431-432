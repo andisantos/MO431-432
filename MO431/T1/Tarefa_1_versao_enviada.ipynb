{
 "cells": [
  {
   "cell_type": "markdown",
   "metadata": {},
   "source": [
    "# Tarefa 1"
   ]
  },
  {
   "cell_type": "markdown",
   "metadata": {},
   "source": [
    "<b>Alunos:</b> Andreza(164213), Gil(225323) e Yan(118982)"
   ]
  },
  {
   "cell_type": "markdown",
   "metadata": {},
   "source": [
    "## Importando as bibliotecas"
   ]
  },
  {
   "cell_type": "code",
   "execution_count": 1,
   "metadata": {},
   "outputs": [],
   "source": [
    "import time\n",
    "import numpy as np\n",
    "import matplotlib.pyplot as plt\n",
    "from sklearn.preprocessing import StandardScaler\n",
    "plt.rcParams['figure.figsize'] = [12, 8]"
   ]
  },
  {
   "cell_type": "markdown",
   "metadata": {},
   "source": [
    "## Ler arquivo dados.npy\n",
    " <ul> \n",
    "    <li>Arquivo de 10500 linhas e 784 colunas, mas cada linha é uma matriz 28x28</li>\n",
    "    </ul>"
   ]
  },
  {
   "cell_type": "code",
   "execution_count": 2,
   "metadata": {},
   "outputs": [
    {
     "data": {
      "text/plain": [
       "(10500, 784)"
      ]
     },
     "execution_count": 2,
     "metadata": {},
     "output_type": "execute_result"
    }
   ],
   "source": [
    "X = np.load(\"dados.npy\")\n",
    "X.shape"
   ]
  },
  {
   "cell_type": "markdown",
   "metadata": {},
   "source": [
    "Se formos traduzir esta matriz, diríamos que ela apresenta em suas colunas o total de dimensões de cada imagem, e um total de 10500 imagens."
   ]
  },
  {
   "cell_type": "markdown",
   "metadata": {},
   "source": [
    "## Imprima a imagem dos 3 primeiros dígitos\n",
    " <ul> \n",
    "    <li>Passo 1: cada linha da matriz precisa ser transformada em outra matriz 28x28;</li>\n",
    "    <li>Passo 2: codificação das cores para cinza;</li>\n",
    "    <li>Passo 3: imprimir as 3 primeiras imagens;</li>\n",
    "    </ul>"
   ]
  },
  {
   "cell_type": "code",
   "execution_count": 3,
   "metadata": {},
   "outputs": [
    {
     "data": {
      "image/png": "[encoded data removed]",
      "text/plain": [
       "<Figure size 576x576 with 3 Axes>"
      ]
     },
     "metadata": {
      "needs_background": "light"
     },
     "output_type": "display_data"
    }
   ],
   "source": [
    "fig=plt.figure(figsize=(8, 8))\n",
    "for i in range(0, 3):\n",
    "    img = np.reshape(X[i], (28,28))\n",
    "    fig.add_subplot(1, 3, i+1)\n",
    "    img=plt.imshow(img)\n",
    "    plt.axis('off')\n",
    "    img.set_cmap('gray')\n",
    "plt.show()"
   ]
  },
  {
   "cell_type": "markdown",
   "metadata": {},
   "source": [
    "## Faça a fatoração SVD da matrix\n",
    " <ul> \n",
    "    <li>3.1: normalizar os dados para média O e desvio-padrão diferente de 1;</li>\n",
    "    <li>3.2: fazer fatoração full_matrix e compacta;</li>\n",
    "    <li>3.3: verificar o tamanho das matrizes;</li>\n",
    "    </ul>\n",
    "    \n",
    "###  Normalização"
   ]
  },
  {
   "cell_type": "code",
   "execution_count": 4,
   "metadata": {},
   "outputs": [
    {
     "data": {
      "text/plain": [
       "(10500, 784)"
      ]
     },
     "execution_count": 4,
     "metadata": {},
     "output_type": "execute_result"
    }
   ],
   "source": [
    "scaler = StandardScaler(with_std=False)\n",
    "Xmz=scaler.fit_transform(X)\n",
    "Xmz.shape"
   ]
  },
  {
   "cell_type": "markdown",
   "metadata": {},
   "source": [
    "### SVD  Matriz Full"
   ]
  },
  {
   "cell_type": "code",
   "execution_count": 5,
   "metadata": {},
   "outputs": [
    {
     "name": "stdout",
     "output_type": "stream",
     "text": [
      "Tempo de execução SVD full matrix: 166.914 seconds\n",
      "(10500, 10500) (784, 784) (784, 784)\n"
     ]
    }
   ],
   "source": [
    "# Fatoração SVD full matrix\n",
    "start = time.time()\n",
    "U, S, VT = np.linalg.svd(Xmz, full_matrices=True)\n",
    "S = np.diag(S)\n",
    "time_elapsed = time.time() - start\n",
    "print(\"Tempo de execução SVD full matrix: {:.3f} seconds\".format(time_elapsed))\n",
    "print(U.shape, S.shape, VT.shape)"
   ]
  },
  {
   "cell_type": "markdown",
   "metadata": {},
   "source": [
    "### SVD Matriz Compacta"
   ]
  },
  {
   "cell_type": "code",
   "execution_count": 6,
   "metadata": {},
   "outputs": [
    {
     "name": "stdout",
     "output_type": "stream",
     "text": [
      "Tempo de execução SVD compacto: 18.040 seconds\n",
      "(10500, 784) (784, 784) (784, 784)\n"
     ]
    }
   ],
   "source": [
    "# Fatoração SVD compacta\n",
    "start = time.time()\n",
    "U, S, VT = np.linalg.svd(Xmz, full_matrices=False)\n",
    "S = np.diag(S)\n",
    "time_elapsed = time.time() - start\n",
    "print(\"Tempo de execução SVD compacto: {:.3f} seconds\".format(time_elapsed))\n",
    "print(U.shape, S.shape, VT.shape)"
   ]
  },
  {
   "cell_type": "markdown",
   "metadata": {},
   "source": [
    "## SVD truncado\n",
    " <ul> \n",
    "    <li>Usar a redução para 100 dimensões;</li>\n",
    "    <li>4.1 Computar a matriz projetada. Será (10500, 100). Imprimir as dimensões;</li>\n",
    "    <li>4.2 Computar a matriz reconstruída.Será (10500,784). Imprimir as dimensões;</li>\n",
    "    </ul>\n",
    "\n",
    "### Matriz Projetada"
   ]
  },
  {
   "cell_type": "markdown",
   "metadata": {},
   "source": [
    "Dado que os dados projetados são representados pela multiplicação das matrizes Ur e Drxr, então selecionamos as r colunas da matriz U e as r linhas e colunas da matriz Sigma"
   ]
  },
  {
   "cell_type": "code",
   "execution_count": 7,
   "metadata": {},
   "outputs": [
    {
     "data": {
      "text/plain": [
       "(10500, 100)"
      ]
     },
     "execution_count": 7,
     "metadata": {},
     "output_type": "execute_result"
    }
   ],
   "source": [
    "r=100\n",
    "Aproj = U[:,:r] @ S[:r,:r]\n",
    "Aproj.shape"
   ]
  },
  {
   "cell_type": "markdown",
   "metadata": {},
   "source": [
    "### Matriz Reconstruída"
   ]
  },
  {
   "cell_type": "markdown",
   "metadata": {},
   "source": [
    "Já a matriz reconstruída será obtida multiplicando-se a matriz projetada pelas primeiras r linhas da matriz VT da seguinte forma"
   ]
  },
  {
   "cell_type": "code",
   "execution_count": 8,
   "metadata": {},
   "outputs": [
    {
     "data": {
      "text/plain": [
       "(10500, 784)"
      ]
     },
     "execution_count": 8,
     "metadata": {},
     "output_type": "execute_result"
    }
   ],
   "source": [
    "Arec = U[:,:r] @ S[:r,:r] @ VT[:r,]\n",
    "Arec.shape"
   ]
  },
  {
   "cell_type": "markdown",
   "metadata": {},
   "source": [
    "## Imprima a imagem reconstruída dos 3 primeiros dígitos\n",
    " <ul> \n",
    "    <li>Compare com as imagens impressas acima</li>\n",
    "    </ul>"
   ]
  },
  {
   "cell_type": "code",
   "execution_count": 63,
   "metadata": {},
   "outputs": [
    {
     "data": {
      "image/png": "[encoded data removed]",
      "text/plain": [
       "<Figure size 576x576 with 3 Axes>"
      ]
     },
     "metadata": {
      "needs_background": "light"
     },
     "output_type": "display_data"
    }
   ],
   "source": [
    "fig=plt.figure(figsize=(8, 8))\n",
    "for i in range(0,3):\n",
    "    A = Arec[i].reshape((28,28))\n",
    "    fig.add_subplot(1, 3, i+1)\n",
    "    img = plt.imshow(A,cmap='gray')\n",
    "    plt.axis('off')\n",
    "plt.show()"
   ]
  },
  {
   "cell_type": "markdown",
   "metadata": {},
   "source": [
    "* Ao comparar com as imagens impressas anteriormente, podemos perceber que informações foram perdidas, reduzindo a nitidez dos dígitos e alterando a cor do fundo, porém ainda conseguimos visualizar e identificar os dígitos de forma correta."
   ]
  },
  {
   "cell_type": "markdown",
   "metadata": {},
   "source": [
    "## Imprima os 3 primeiros eigen-dígitos"
   ]
  },
  {
   "cell_type": "code",
   "execution_count": 64,
   "metadata": {},
   "outputs": [
    {
     "data": {
      "image/png": "[encoded data removed]",
      "text/plain": [
       "<Figure size 576x576 with 3 Axes>"
      ]
     },
     "metadata": {
      "needs_background": "light"
     },
     "output_type": "display_data"
    }
   ],
   "source": [
    "fig=plt.figure(figsize=(8, 8))\n",
    "for i in range(0,3):\n",
    "    A = VT[i].reshape((28,28))\n",
    "    fig.add_subplot(1, 3, i+1)\n",
    "    img = plt.imshow(A,cmap='gray')\n",
    "    plt.axis('off')\n",
    "plt.show()"
   ]
  },
  {
   "cell_type": "markdown",
   "metadata": {},
   "source": [
    "## Decidindo o número de dimensões\n",
    " <ul> \n",
    "    <li>7.1 Quantas dimensões usando a regra de singular values maior que 1?</li>\n",
    "    <li>7.2 Quantas dimensões manter para capturar 80% da variância dos dados?</li>\n",
    "    <li>7.3 Quantas dimensões manter para capturar 95% da variância dos dados?</li>\n",
    "    </ul>\n",
    "    \n",
    "### Para Singular Values > 1"
   ]
  },
  {
   "cell_type": "code",
   "execution_count": 54,
   "metadata": {},
   "outputs": [
    {
     "name": "stdout",
     "output_type": "stream",
     "text": [
      "Necessitamos 671 dimensões\n"
     ]
    }
   ],
   "source": [
    "print('Necessitamos {} dimensões'.format(S[S>1].shape[0]))"
   ]
  },
  {
   "cell_type": "markdown",
   "metadata": {},
   "source": [
    "### Para 80% da variância"
   ]
  },
  {
   "cell_type": "code",
   "execution_count": 55,
   "metadata": {},
   "outputs": [
    {
     "name": "stdout",
     "output_type": "stream",
     "text": [
      "Necessitamos 234 dimensões\n"
     ]
    }
   ],
   "source": [
    "i=0\n",
    "while np.cumsum(np.diag(S)/np.sum(np.diag(S)))[i]<0.8:\n",
    "    i=i+1\n",
    "print('Necessitamos {} dimensões'.format(i))"
   ]
  },
  {
   "cell_type": "markdown",
   "metadata": {},
   "source": [
    "### Para 95% da variância"
   ]
  },
  {
   "cell_type": "code",
   "execution_count": 56,
   "metadata": {},
   "outputs": [
    {
     "name": "stdout",
     "output_type": "stream",
     "text": [
      "Necessitamos 425 dimensões \n",
      "\n"
     ]
    }
   ],
   "source": [
    "i=0\n",
    "while np.cumsum(np.diag(S)/np.sum(np.diag(S)))[i]<0.95:\n",
    "    i=i+1\n",
    "print('Necessitamos {} dimensões \\n'.format(i))"
   ]
  },
  {
   "cell_type": "markdown",
   "metadata": {},
   "source": [
    "## Extra: Gráfico das dimensões necessárias para as % de variâncias capturadas"
   ]
  },
  {
   "cell_type": "code",
   "execution_count": 47,
   "metadata": {},
   "outputs": [
    {
     "data": {
      "image/png": "[encoded data removed]",
      "text/plain": [
       "<Figure size 864x576 with 1 Axes>"
      ]
     },
     "metadata": {
      "needs_background": "light"
     },
     "output_type": "display_data"
    }
   ],
   "source": [
    "plt.figure(1)\n",
    "plt.plot(np.cumsum(np.diag(S)/np.sum(np.diag(S))))\n",
    "plt.title('Valores Singulares: soma cumulativa')\n",
    "plt.xlabel('número de dimensões')\n",
    "plt.ylabel('% da variância capturada')\n",
    "plt.show()"
   ]
  }
 ],
 "metadata": {
  "kernelspec": {
   "display_name": "Python 3",
   "language": "python",
   "name": "python3"
  },
  "language_info": {
   "codemirror_mode": {
    "name": "ipython",
    "version": 3
   },
   "file_extension": ".py",
   "mimetype": "text/x-python",
   "name": "python",
   "nbconvert_exporter": "python",
   "pygments_lexer": "ipython3",
   "version": "3.8.5"
  }
 },
 "nbformat": 4,
 "nbformat_minor": 4
}
