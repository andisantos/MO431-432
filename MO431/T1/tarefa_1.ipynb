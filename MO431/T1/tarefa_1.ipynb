{
 "cells": [
  {
   "cell_type": "markdown",
   "metadata": {},
   "source": [
    "# Tafera 1\n",
    "<b>Alunos:</b> Andreza(), Gil() e Yan(118982)"
   ]
  },
  {
   "cell_type": "markdown",
   "metadata": {},
   "source": [
    "### Importando as bibliotecas"
   ]
  },
  {
   "cell_type": "code",
   "execution_count": 6,
   "metadata": {},
   "outputs": [],
   "source": [
    "import time\n",
    "import numpy as np\n",
    "import matplotlib.pyplot as plt\n",
    "plt.rcParams['figure.figsize'] = [12, 8]"
   ]
  },
  {
   "cell_type": "markdown",
   "metadata": {},
   "source": [
    "### 1- Ler arquivo dados.npy\n",
    " <ul> \n",
    "    <li>Arquivo de 10500 linhas e 784 colunas, mas cada linha é uma matriz 28x28</li>\n",
    "    </ul>"
   ]
  },
  {
   "cell_type": "code",
   "execution_count": 7,
   "metadata": {},
   "outputs": [],
   "source": [
    "X = np.load(\"dados.npy\")"
   ]
  },
  {
   "cell_type": "markdown",
   "metadata": {},
   "source": [
    "### 2- Imprima a imagem dos 3 primeiros dígitos\n",
    " <ul> \n",
    "    <li>Passo 1: cada linha da matriz precisa ser transformada em outra matriz 28x28;</li>\n",
    "    <li>Passo 2: codificação das cores para cinza;</li>\n",
    "    <li>Passo 3: imprimir as 3 primeiras imagens;</li>\n",
    "    </ul>"
   ]
  },
  {
   "cell_type": "code",
   "execution_count": 8,
   "metadata": {},
   "outputs": [
    {
     "data": {
      "image/png": "[encoded data removed]",
      "text/plain": [
       "<Figure size 576x576 with 3 Axes>"
      ]
     },
     "metadata": {
      "needs_background": "light"
     },
     "output_type": "display_data"
    }
   ],
   "source": [
    "fig=plt.figure(figsize=(8, 8))\n",
    "for i in range(0, 3):\n",
    "    img = np.reshape(X[i], (28,28))\n",
    "    fig.add_subplot(1, 3, i+1)\n",
    "    img=plt.imshow(img)\n",
    "    plt.axis('off')\n",
    "    img.set_cmap('gray')\n",
    "plt.show()"
   ]
  },
  {
   "cell_type": "markdown",
   "metadata": {},
   "source": [
    "### 3- Faça a fatoração svd da matrix\n",
    " <ul> \n",
    "    <li>Passo 1: normalizar os dados para média O e desvio-padrão diferente de 1;</li>\n",
    "    <li>Passo 2: fazer fatoração full_matrix e compacta;</li>\n",
    "    <li>Passo 3: verificar o tamanho das matrizes;</li>\n",
    "    </ul>"
   ]
  },
  {
   "cell_type": "code",
   "execution_count": 103,
   "metadata": {},
   "outputs": [],
   "source": [
    "# Vetor com média zero\n",
    "X_mean_zero = X - np.mean(X[:])"
   ]
  },
  {
   "cell_type": "code",
   "execution_count": 13,
   "metadata": {},
   "outputs": [
    {
     "name": "stdout",
     "output_type": "stream",
     "text": [
      "Tempo de execução SVD full matrix: 21.022 seconds\n",
      "(10500, 10500) (784, 784) (784, 784)\n"
     ]
    }
   ],
   "source": [
    "# Fatoração SVD full matrix\n",
    "start = time.time()\n",
    "u, s, vh = np.linalg.svd(X_mean_zero, full_matrices=True, compute_uv=True)\n",
    "s=np.diag(s)\n",
    "time_elapsed = time.time() - start\n",
    "print(\"Tempo de execução SVD full matrix: {:.3f} seconds\".format(time_elapsed))\n",
    "print(u.shape, s.shape, vh.shape)"
   ]
  },
  {
   "cell_type": "code",
   "execution_count": 14,
   "metadata": {},
   "outputs": [
    {
     "name": "stdout",
     "output_type": "stream",
     "text": [
      "Tempo de execução SVD compacto: 1.837 seconds\n",
      "(10500, 784) (784, 784) (784, 784)\n"
     ]
    }
   ],
   "source": [
    "# Fatoração SVD compacta\n",
    "start = time.time()\n",
    "u_red, s_red, vh_red = np.linalg.svd(X_mean_zero, full_matrices=False, compute_uv=True)\n",
    "s_red=np.diag(s_red)\n",
    "time_elapsed = time.time() - start\n",
    "print(\"Tempo de execução SVD compacto: {:.3f} seconds\".format(time_elapsed))\n",
    "print(u_red.shape, s_red.shape, vh_red.shape)"
   ]
  },
  {
   "cell_type": "markdown",
   "metadata": {},
   "source": [
    "### 4- SVD truncado\n",
    " <ul> \n",
    "    <li>Usar a redução para 100 dimensões;</li>\n",
    "    <li>Computar a matriz projetada. Será 10500 por 100. Apenas imprimir as dimensões;</li>\n",
    "    <li>Computar a matriz reconstruída.Será 10500 por 784. Apenas imprimir as dimensões;</li>\n",
    "    </ul>"
   ]
  },
  {
   "cell_type": "code",
   "execution_count": 15,
   "metadata": {},
   "outputs": [],
   "source": [
    "from sklearn.decomposition import TruncatedSVD"
   ]
  },
  {
   "cell_type": "code",
   "execution_count": 16,
   "metadata": {},
   "outputs": [
    {
     "name": "stdout",
     "output_type": "stream",
     "text": [
      "Tempo de execução SVD truncado: 0.936 seconds\n",
      "(100, 10500)\n"
     ]
    }
   ],
   "source": [
    "# 4.1\n",
    "truncated_svd = TruncatedSVD(n_components=100)\n",
    "start = time.time()\n",
    "truncated_svd.fit(X_mean_zero.T)\n",
    "time_elapsed = time.time() - start\n",
    "print(\"Tempo de execução SVD truncado: {:.3f} seconds\".format(time_elapsed))\n",
    "print(truncated_svd.components_.shape)"
   ]
  },
  {
   "cell_type": "markdown",
   "metadata": {},
   "source": [
    "### 5- Imprima a imagem reconstruída dos 3 primeiros dígitos\n",
    " <ul> \n",
    "    <li>Compare com as imagens impressas acima</li>\n",
    "    </ul>"
   ]
  },
  {
   "cell_type": "code",
   "execution_count": 109,
   "metadata": {},
   "outputs": [
    {
     "data": {
      "image/png": "[encoded data removed]",
      "text/plain": [
       "<Figure size 576x576 with 3 Axes>"
      ]
     },
     "metadata": {
      "needs_background": "light"
     },
     "output_type": "display_data"
    },
    {
     "data": {
      "image/png": "[encoded data removed]",
      "text/plain": [
       "<Figure size 576x576 with 3 Axes>"
      ]
     },
     "metadata": {
      "needs_background": "light"
     },
     "output_type": "display_data"
    },
    {
     "data": {
      "image/png": "[encoded data removed]",
      "text/plain": [
       "<Figure size 576x576 with 3 Axes>"
      ]
     },
     "metadata": {
      "needs_background": "light"
     },
     "output_type": "display_data"
    },
    {
     "data": {
      "image/png": "[encoded data removed]",
      "text/plain": [
       "<Figure size 576x576 with 3 Axes>"
      ]
     },
     "metadata": {
      "needs_background": "light"
     },
     "output_type": "display_data"
    },
    {
     "data": {
      "image/png": "[encoded data removed]",
      "text/plain": [
       "<Figure size 576x576 with 3 Axes>"
      ]
     },
     "metadata": {
      "needs_background": "light"
     },
     "output_type": "display_data"
    },
    {
     "data": {
      "image/png": "[encoded data removed]",
      "text/plain": [
       "<Figure size 576x576 with 3 Axes>"
      ]
     },
     "metadata": {
      "needs_background": "light"
     },
     "output_type": "display_data"
    }
   ],
   "source": [
    "for r in (1,3,5,10,15,20):\n",
    "    fig=plt.figure(figsize=(8, 8))\n",
    "    for i in range(0,3):    \n",
    "        A = X[i].reshape((28,28))\n",
    "        U,S,VT = np.linalg.svd(A,full_matrices=False)\n",
    "        S = np.diag(S)\n",
    "        Aaprox=U[:,:r] @ S[0:r,:r] @ VT[:r,:]\n",
    "        fig.add_subplot(1, 3, i+1)\n",
    "        img = plt.imshow(Aaprox)\n",
    "        img.set_cmap('gray')\n",
    "        plt.axis('off')\n",
    "        plt.title('r = '+str(r))\n",
    "    plt.show()"
   ]
  },
  {
   "cell_type": "markdown",
   "metadata": {},
   "source": [
    "### 6- Imprima os 3 primeiros eigen-dígitos"
   ]
  },
  {
   "cell_type": "code",
   "execution_count": 77,
   "metadata": {},
   "outputs": [
    {
     "name": "stdout",
     "output_type": "stream",
     "text": [
      "Eigen-dígito 1: 1722.8675688947421\n",
      "Eigen-dígito 2: 950.5553926422807\n",
      "Eigen-dígito 3: 819.8773880412709\n"
     ]
    }
   ],
   "source": [
    "for i in range(0,3):\n",
    "    print('Eigen-dígito {}: '.format(i+1) + str(S[i][i]))"
   ]
  },
  {
   "cell_type": "markdown",
   "metadata": {},
   "source": [
    "### 7- Decidindo o número de dimensões\n",
    " <ul> \n",
    "    <li>Quantas dimensões usando a regra de singular values maior que 1?</li>\n",
    "    <li>Quantas dimensões manter para capturar 80% da variância dos dados?</li>\n",
    "    <li>Quantas dimensões manter para capturar 95% da variância dos dados?</li>\n",
    "    </ul>"
   ]
  },
  {
   "cell_type": "markdown",
   "metadata": {},
   "source": [
    "Se for para cada linha da matriz, que representa uma imagem, temos:"
   ]
  },
  {
   "cell_type": "code",
   "execution_count": 141,
   "metadata": {},
   "outputs": [
    {
     "name": "stdout",
     "output_type": "stream",
     "text": [
      "Imagem 0\n",
      "Para capturar valores singulares maiores que um, necessitamos de 19 dimensões\n",
      "Para capturar 80% da variância dos dados necessitamos de 5 dimensões\n",
      "Para capturar 95% da variância dos dados necessitamos de 11 dimensões \n",
      "\n",
      "Imagem 1\n",
      "Para capturar valores singulares maiores que um, necessitamos de 16 dimensões\n",
      "Para capturar 80% da variância dos dados necessitamos de 4 dimensões\n",
      "Para capturar 95% da variância dos dados necessitamos de 8 dimensões \n",
      "\n",
      "Imagem 2\n",
      "Para capturar valores singulares maiores que um, necessitamos de 17 dimensões\n",
      "Para capturar 80% da variância dos dados necessitamos de 5 dimensões\n",
      "Para capturar 95% da variância dos dados necessitamos de 10 dimensões \n",
      "\n",
      "Imagem 3\n",
      "Para capturar valores singulares maiores que um, necessitamos de 12 dimensões\n",
      "Para capturar 80% da variância dos dados necessitamos de 3 dimensões\n",
      "Para capturar 95% da variância dos dados necessitamos de 7 dimensões \n",
      "\n",
      "Imagem 4\n",
      "Para capturar valores singulares maiores que um, necessitamos de 12 dimensões\n",
      "Para capturar 80% da variância dos dados necessitamos de 4 dimensões\n",
      "Para capturar 95% da variância dos dados necessitamos de 8 dimensões \n",
      "\n"
     ]
    }
   ],
   "source": [
    "for j in range(0,5):\n",
    "    print('Imagem {}'.format(j))\n",
    "    A = X[j].reshape((28,28))\n",
    "    U,S,VT = np.linalg.svd(A,full_matrices=False)\n",
    "    S = np.diag(S)\n",
    "    i=0\n",
    "    while S[i][i]>1:\n",
    "        i=i+1\n",
    "    print('Para capturar valores singulares maiores que um, necessitamos de {} dimensões'.format(i))\n",
    "    i=0\n",
    "    while np.cumsum(np.diag(S)/np.sum(np.diag(S)))[i]<0.8:\n",
    "        i=i+1\n",
    "    print('Para capturar 80% da variância dos dados necessitamos de {} dimensões'.format(i))\n",
    "\n",
    "    i=0\n",
    "    while np.cumsum(np.diag(S)/np.sum(np.diag(S)))[i]<0.95:\n",
    "        i=i+1\n",
    "    print('Para capturar 95% da variância dos dados necessitamos de {} dimensões \\n'.format(i))"
   ]
  },
  {
   "cell_type": "code",
   "execution_count": 104,
   "metadata": {},
   "outputs": [
    {
     "data": {
      "image/png": "[encoded data removed]",
      "text/plain": [
       "<Figure size 864x576 with 1 Axes>"
      ]
     },
     "metadata": {
      "needs_background": "light"
     },
     "output_type": "display_data"
    }
   ],
   "source": [
    "plt.figure(1)\n",
    "plt.plot(np.cumsum(np.diag(S)/np.sum(np.diag(S))))\n",
    "plt.title('Valores Singulares: soma cumulativa')\n",
    "plt.xlabel('número de dimensões')\n",
    "plt.ylabel('% da variância capturada')\n",
    "plt.show()"
   ]
  },
  {
   "cell_type": "code",
   "execution_count": null,
   "metadata": {},
   "outputs": [],
   "source": []
  }
 ],
 "metadata": {
  "kernelspec": {
   "display_name": "Python 3",
   "language": "python",
   "name": "python3"
  },
  "language_info": {
   "codemirror_mode": {
    "name": "ipython",
    "version": 3
   },
   "file_extension": ".py",
   "mimetype": "text/x-python",
   "name": "python",
   "nbconvert_exporter": "python",
   "pygments_lexer": "ipython3",
   "version": "3.8.5"
  }
 },
 "nbformat": 4,
 "nbformat_minor": 4
}
