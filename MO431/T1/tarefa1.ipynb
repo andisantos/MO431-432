{
 "cells": [
  {
   "cell_type": "markdown",
   "id": "3a80888e",
   "metadata": {},
   "source": [
    "# MO431A - Tarefa 1"
   ]
  },
  {
   "cell_type": "markdown",
   "id": "ddac4550",
   "metadata": {},
   "source": [
    "Importanto bibliotecas necessárias."
   ]
  },
  {
   "cell_type": "code",
   "execution_count": 30,
   "id": "f9df9ea5",
   "metadata": {},
   "outputs": [],
   "source": [
    "import numpy as np\n",
    "import matplotlib.pyplot as plt\n",
    "from sklearn.decomposition import TruncatedSVD"
   ]
  },
  {
   "cell_type": "markdown",
   "id": "ec560a5c",
   "metadata": {},
   "source": [
    "## 1 Importando a matriz do arquivo dados.npy para X"
   ]
  },
  {
   "cell_type": "code",
   "execution_count": 31,
   "id": "20f970ea",
   "metadata": {},
   "outputs": [],
   "source": [
    "X = np.load('dados.npy')"
   ]
  },
  {
   "cell_type": "markdown",
   "id": "23ff6719",
   "metadata": {},
   "source": [
    "## 2 Imprimindo as imagens dos 3 primeiros dígitos"
   ]
  },
  {
   "cell_type": "code",
   "execution_count": 32,
   "id": "26364cb3",
   "metadata": {},
   "outputs": [
    {
     "data": {
      "image/png": "[encoded data removed]",
      "text/plain": [
       "<Figure size 432x288 with 3 Axes>"
      ]
     },
     "metadata": {
      "needs_background": "light"
     },
     "output_type": "display_data"
    }
   ],
   "source": [
    "for i in range(3):\n",
    "    imagem = X[i]\n",
    "    imagem = np.reshape(imagem, (28, 28))\n",
    "    plt.subplot(1, 3, i+1)\n",
    "    plt.imshow(imagem, 'gray')\n",
    "    plt.axis('off')\n",
    "plt.show()"
   ]
  },
  {
   "cell_type": "markdown",
   "id": "a91f2ef5",
   "metadata": {},
   "source": [
    "## 3 Aplicando fatoração SVD em X"
   ]
  },
  {
   "cell_type": "markdown",
   "id": "412d0527",
   "metadata": {},
   "source": [
    "* **Normalizando**"
   ]
  },
  {
   "cell_type": "code",
   "execution_count": 33,
   "id": "61669263",
   "metadata": {},
   "outputs": [],
   "source": [
    "Xnorm = X - np.mean(X[:])"
   ]
  },
  {
   "cell_type": "markdown",
   "id": "bf3ca3b4",
   "metadata": {},
   "source": [
    "* **Aplicando em full matrix**"
   ]
  },
  {
   "cell_type": "code",
   "execution_count": 34,
   "id": "a592e3b6",
   "metadata": {},
   "outputs": [
    {
     "name": "stdout",
     "output_type": "stream",
     "text": [
      "Tamanho das matrizes: U= (10500, 10500), D= (784,), Vt = (784, 784).\n"
     ]
    }
   ],
   "source": [
    "U, D, Vt = np.linalg.svd(Xnorm, full_matrices=True)\n",
    "print(f'Tamanho das matrizes: U= {U.shape}, D= {D.shape}, Vt = {Vt.shape}.')"
   ]
  },
  {
   "cell_type": "markdown",
   "id": "4c260ad9",
   "metadata": {},
   "source": [
    "* **Aplicando em compacta**"
   ]
  },
  {
   "cell_type": "code",
   "execution_count": 35,
   "id": "1a48d324",
   "metadata": {},
   "outputs": [
    {
     "name": "stdout",
     "output_type": "stream",
     "text": [
      "Tamanho das matrizes: U= (10500, 784), D= (784,), Vt = (784, 784).\n"
     ]
    }
   ],
   "source": [
    "Uc, Dc, Vtc = np.linalg.svd(Xnorm, full_matrices=False)\n",
    "print(f'Tamanho das matrizes: U= {Uc.shape}, D= {Dc.shape}, Vt = {Vtc.shape}.')"
   ]
  },
  {
   "cell_type": "markdown",
   "id": "60047043",
   "metadata": {},
   "source": [
    "## 4 Aplicando SVD truncado"
   ]
  },
  {
   "cell_type": "markdown",
   "id": "10bf3fd5",
   "metadata": {},
   "source": [
    "A função considera dados nas colunas, portanto é preciso utilizar a matriz transposta de X para calcular o SVD truncado, e depois utilizar a tranposta de X do SVD truncado."
   ]
  },
  {
   "cell_type": "code",
   "execution_count": 36,
   "id": "272d64b9",
   "metadata": {
    "scrolled": true
   },
   "outputs": [
    {
     "name": "stdout",
     "output_type": "stream",
     "text": [
      "Tamanho da matriz projetada = (10500, 100).\n"
     ]
    }
   ],
   "source": [
    "#Xnormt = Xnorm.T\n",
    "UDtrunc = TruncatedSVD(n_components=100)\n",
    "Proj = UDtrunc.fit_transform(Xnorm)\n",
    "#Proj = UDtrunct.components_.T\n",
    "print(f'Tamanho da matriz projetada = {Proj.shape}.')"
   ]
  },
  {
   "cell_type": "code",
   "execution_count": 37,
   "id": "168306ee",
   "metadata": {},
   "outputs": [
    {
     "name": "stdout",
     "output_type": "stream",
     "text": [
      "Tamanho da matriz reconstruída = (10500, 784).\n"
     ]
    }
   ],
   "source": [
    "Xrec = Proj @ UDtrunc.components_\n",
    "print(f'Tamanho da matriz reconstruída = {Xrec.shape}.')"
   ]
  },
  {
   "cell_type": "code",
   "execution_count": 38,
   "id": "5897dc5c",
   "metadata": {},
   "outputs": [
    {
     "data": {
      "image/png": "[encoded data removed]",
      "text/plain": [
       "<Figure size 432x288 with 3 Axes>"
      ]
     },
     "metadata": {
      "needs_background": "light"
     },
     "output_type": "display_data"
    }
   ],
   "source": [
    "for i in range(3):\n",
    "    imagem = Xrec[i]\n",
    "    imagem = np.reshape(imagem, (28, 28))\n",
    "    plt.subplot(1, 3, i+1)\n",
    "    plt.imshow(imagem, 'gray')\n",
    "    plt.axis('off')\n",
    "plt.show()"
   ]
  },
  {
   "cell_type": "code",
   "execution_count": null,
   "id": "3ad5c56f",
   "metadata": {},
   "outputs": [],
   "source": []
  }
 ],
 "metadata": {
  "kernelspec": {
   "display_name": "Python 3",
   "language": "python",
   "name": "python3"
  },
  "language_info": {
   "codemirror_mode": {
    "name": "ipython",
    "version": 3
   },
   "file_extension": ".py",
   "mimetype": "text/x-python",
   "name": "python",
   "nbconvert_exporter": "python",
   "pygments_lexer": "ipython3",
   "version": "3.7.10"
  }
 },
 "nbformat": 4,
 "nbformat_minor": 5
}
