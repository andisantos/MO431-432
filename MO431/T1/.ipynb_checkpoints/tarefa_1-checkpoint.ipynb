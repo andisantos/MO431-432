{
 "cells": [
  {
   "cell_type": "code",
   "execution_count": 1,
   "metadata": {},
   "outputs": [],
   "source": [
    "import time\n",
    "import numpy as np\n",
    "import matplotlib.pyplot as plt\n",
    "plt.rcParams['figure.figsize'] = [12, 8]"
   ]
  },
  {
   "cell_type": "markdown",
   "metadata": {},
   "source": [
    "### 1. Carregamento do conjunto de dados:"
   ]
  },
  {
   "cell_type": "code",
   "execution_count": 2,
   "metadata": {},
   "outputs": [],
   "source": [
    "X = np.load(\"dados.npy\")"
   ]
  },
  {
   "cell_type": "markdown",
   "metadata": {},
   "source": [
    "### 2. Três primeiras imagens do conjunto de dados:"
   ]
  },
  {
   "cell_type": "code",
   "execution_count": 3,
   "metadata": {},
   "outputs": [
    {
     "data": {
      "image/png": "[encoded data removed]",
      "text/plain": [
       "<Figure size 576x576 with 3 Axes>"
      ]
     },
     "metadata": {
      "needs_background": "light"
     },
     "output_type": "display_data"
    }
   ],
   "source": [
    "fig=plt.figure(figsize=(8, 8))\n",
    "for i in range(0, 3):\n",
    "    img = np.reshape(X[i], (28,28))\n",
    "    fig.add_subplot(1, 3, i+1)\n",
    "    plt.imshow(img)\n",
    "    plt.axis('off')\n",
    "plt.show()"
   ]
  },
  {
   "cell_type": "markdown",
   "metadata": {},
   "source": [
    "### 3. Fatoração SVD (Singular Value Decomposition):"
   ]
  },
  {
   "cell_type": "code",
   "execution_count": 4,
   "metadata": {},
   "outputs": [],
   "source": [
    "# Vetor com média zero\n",
    "X_mean_zero = X - np.mean(X[:])"
   ]
  },
  {
   "cell_type": "code",
   "execution_count": 5,
   "metadata": {},
   "outputs": [
    {
     "name": "stdout",
     "output_type": "stream",
     "text": [
      "Tempo de execução SVD full matrix: 179.286 seconds\n"
     ]
    }
   ],
   "source": [
    "# Fatoração SVD full matrix\n",
    "start = time.time()\n",
    "u, s, vh = np.linalg.svd(X_mean_zero, full_matrices=True, compute_uv=True)\n",
    "time_elapsed = time.time() - start\n",
    "print(\"Tempo de execução SVD full matrix: {:.3f} seconds\".format(time_elapsed))"
   ]
  },
  {
   "cell_type": "code",
   "execution_count": 6,
   "metadata": {},
   "outputs": [
    {
     "name": "stdout",
     "output_type": "stream",
     "text": [
      "(10500, 10500) (784,) (784, 784)\n"
     ]
    }
   ],
   "source": [
    "print(u.shape, s.shape, vh.shape)"
   ]
  },
  {
   "cell_type": "code",
   "execution_count": 7,
   "metadata": {},
   "outputs": [
    {
     "name": "stdout",
     "output_type": "stream",
     "text": [
      "Tempo de execução SVD compacto: 19.218 seconds\n"
     ]
    }
   ],
   "source": [
    "# Fatoração SVD compacta\n",
    "start = time.time()\n",
    "u_red, s_red, vh_red = np.linalg.svd(X_mean_zero, full_matrices=False, compute_uv=True)\n",
    "time_elapsed = time.time() - start\n",
    "print(\"Tempo de execução SVD compacto: {:.3f} seconds\".format(time_elapsed))"
   ]
  },
  {
   "cell_type": "code",
   "execution_count": 8,
   "metadata": {},
   "outputs": [
    {
     "name": "stdout",
     "output_type": "stream",
     "text": [
      "(10500, 784) (784,) (784, 784)\n"
     ]
    }
   ],
   "source": [
    "print(u_red.shape, s_red.shape, vh_red.shape)"
   ]
  },
  {
   "cell_type": "markdown",
   "metadata": {},
   "source": [
    "### 4. SVD Truncado"
   ]
  },
  {
   "cell_type": "code",
   "execution_count": 10,
   "metadata": {},
   "outputs": [],
   "source": [
    "from sklearn.decomposition import TruncatedSVD"
   ]
  },
  {
   "cell_type": "code",
   "execution_count": 27,
   "metadata": {},
   "outputs": [
    {
     "name": "stdout",
     "output_type": "stream",
     "text": [
      "Tempo de execução SVD truncado: 16.845 seconds\n",
      "(100, 10500)\n"
     ]
    }
   ],
   "source": [
    "# 4.1\n",
    "truncated_svd = TruncatedSVD(n_components=100)\n",
    "start = time.time()\n",
    "truncated_svd.fit(X_mean_zero.T)\n",
    "time_elapsed = time.time() - start\n",
    "print(\"Tempo de execução SVD truncado: {:.3f} seconds\".format(time_elapsed))\n",
    "print(truncated_svd.components_.shape)"
   ]
  }
 ],
 "metadata": {
  "kernelspec": {
   "display_name": "Python 3",
   "language": "python",
   "name": "python3"
  },
  "language_info": {
   "codemirror_mode": {
    "name": "ipython",
    "version": 3
   },
   "file_extension": ".py",
   "mimetype": "text/x-python",
   "name": "python",
   "nbconvert_exporter": "python",
   "pygments_lexer": "ipython3",
   "version": "3.8.5"
  }
 },
 "nbformat": 4,
 "nbformat_minor": 4
}
