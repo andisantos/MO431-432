{
 "cells": [
  {
   "cell_type": "code",
   "execution_count": null,
   "metadata": {},
   "outputs": [],
   "source": [
    "import time\n",
    "import numpy as np\n",
    "import matplotlib.pyplot as plt\n",
    "plt.rcParams['figure.figsize'] = [12, 8]"
   ]
  },
  {
   "cell_type": "markdown",
   "metadata": {},
   "source": [
    "### 3- Faça a fatoração svd da matrix\n",
    "\n",
    "Passo 1: normalizar os dados para média O e desvio-padrão diferente de 1;\n",
    "\n",
    "Passo 2: fazer fatoração full_matrix e compacta;\n",
    "\n",
    "Passo 3: verificar o tamanho das matrizes;"
   ]
  },
  {
   "cell_type": "code",
   "execution_count": null,
   "metadata": {},
   "outputs": [],
   "source": [
    "1- Ler arquivo dados.npy\n",
    "Arquivo de 10500 linhas e 784 colunas, mas cada linha é uma matriz 28x28"
   ]
  },
  {
   "cell_type": "code",
   "execution_count": null,
   "metadata": {},
   "outputs": [],
   "source": [
    "X = np.load(\"dados.npy\")"
   ]
  },
  {
   "cell_type": "markdown",
   "metadata": {},
   "source": [
    "### 2- Imprima a imagem dos 3 primeiros dígitos\n",
    "\n",
    "Passo 1: cada linha da matriz precisa ser transformada em outra matriz 28x28;\n",
    "\n",
    "Passo 2: codificação das cores para cinza;\n",
    "\n",
    "Passo 3: imprimir as 3 primeiras imagens;"
   ]
  },
  {
   "cell_type": "code",
   "execution_count": null,
   "metadata": {},
   "outputs": [],
   "source": [
    "fig=plt.figure(figsize=(8, 8))\n",
    "for i in range(0, 3):\n",
    "    img = np.reshape(X[i], (28,28))\n",
    "    fig.add_subplot(1, 3, i+1)\n",
    "    img=plt.imshow(img)\n",
    "    plt.axis('off')\n",
    "    img.set_cmap('gray')\n",
    "plt.show()"
   ]
  },
  {
   "cell_type": "code",
   "execution_count": null,
   "metadata": {},
   "outputs": [],
   "source": []
  },
  {
   "cell_type": "code",
   "execution_count": null,
   "metadata": {},
   "outputs": [],
   "source": []
  },
  {
   "cell_type": "code",
   "execution_count": null,
   "metadata": {},
   "outputs": [],
   "source": [
    "# Vetor com média zero\n",
    "X_mean_zero = X - np.mean(X[:])"
   ]
  },
  {
   "cell_type": "code",
   "execution_count": null,
   "metadata": {},
   "outputs": [],
   "source": [
    "# Fatoração SVD full matrix\n",
    "start = time.time()\n",
    "u, s, vh = np.linalg.svd(X_mean_zero, full_matrices=True, compute_uv=True)\n",
    "s=np.diag(s)\n",
    "time_elapsed = time.time() - start\n",
    "print(\"Tempo de execução SVD full matrix: {:.3f} seconds\".format(time_elapsed))\n",
    "print(u.shape, s.shape, vh.shape)"
   ]
  },
  {
   "cell_type": "code",
   "execution_count": null,
   "metadata": {},
   "outputs": [],
   "source": [
    "# Fatoração SVD compacta\n",
    "start = time.time()\n",
    "u_red, s_red, vh_red = np.linalg.svd(X_mean_zero, full_matrices=False, compute_uv=True)\n",
    "s_red=np.diag(s_red)\n",
    "time_elapsed = time.time() - start\n",
    "print(\"Tempo de execução SVD compacto: {:.3f} seconds\".format(time_elapsed))\n",
    "print(u_red.shape, s_red.shape, vh_red.shape)"
   ]
  },
  {
   "cell_type": "markdown",
   "metadata": {},
   "source": [
    "### 4- SVD truncado\n",
    "\n",
    "Usar a redução para 100 dimensões;\n",
    "\n",
    "Computar a matriz projetada. Será 10500 por 100. Apenas imprimir as dimensões;\n",
    "\n",
    "Computar a matriz reconstruída.Será 10500 por 784. Apenas imprimir as dimensões;\n"
   ]
  },
  {
   "cell_type": "code",
   "execution_count": null,
   "metadata": {},
   "outputs": [],
   "source": [
    "from sklearn.decomposition import TruncatedSVD"
   ]
  },
  {
   "cell_type": "code",
   "execution_count": null,
   "metadata": {},
   "outputs": [],
   "source": [
    "# 4.1\n",
    "truncated_svd = TruncatedSVD(n_components=100)\n",
    "start = time.time()\n",
    "truncated_svd.fit(X_mean_zero.T)\n",
    "time_elapsed = time.time() - start\n",
    "print(\"Tempo de execução SVD truncado: {:.3f} seconds\".format(time_elapsed))\n",
    "print(truncated_svd.components_.shape)"
   ]
  },
  {
   "cell_type": "code",
   "execution_count": null,
   "metadata": {},
   "outputs": [],
   "source": []
  }
 ],
 "metadata": {
  "kernelspec": {
   "display_name": "Python 3",
   "language": "python",
   "name": "python3"
  },
  "language_info": {
   "codemirror_mode": {
    "name": "ipython",
    "version": 3
   },
   "file_extension": ".py",
   "mimetype": "text/x-python",
   "name": "python",
   "nbconvert_exporter": "python",
   "pygments_lexer": "ipython3",
   "version": "3.8.5"
  }
 },
 "nbformat": 4,
 "nbformat_minor": 4
}
