{
 "cells": [
  {
   "cell_type": "markdown",
   "id": "3ed91164",
   "metadata": {},
   "source": [
    "# Tarefa 2"
   ]
  },
  {
   "cell_type": "markdown",
   "id": "b34b06b6",
   "metadata": {},
   "source": [
    "Minimizar a função de 2 dimensões:\n",
    "\n",
    "**f(x1,x2) = (1-x1)² + 100(x2-x1²)²**\n",
    "\n",
    "> **Valor inicial:** Assumir [0,0]\n",
    "\n",
    "> **teste de convergência:** tolerância -> tol = |f(xnovo) - f(xvelho)|\n",
    "    parar quando a tolerância for menor que 1e-5\n",
    "    \n",
    "> **número máximo de passos:** interrompa a computação depois de 50.000 passos"
   ]
  },
  {
   "cell_type": "markdown",
   "id": "9617b1d7",
   "metadata": {},
   "source": [
    "## Implementação da descida do gradiente com gradiente explicito"
   ]
  },
  {
   "cell_type": "code",
   "execution_count": 38,
   "id": "bc57e9a2",
   "metadata": {},
   "outputs": [],
   "source": [
    "# Implementação do cálculo da função Rosenbrock, dados x1 e x2\n",
    "def rosenbrock(x1,x2):\n",
    "    rb = (1-x1)**2+100*(x2-x1**2)**2\n",
    "    return rb\n",
    "\n",
    "# Implementação do cálculo do gradiente da função Rosenbrock, dados x1 e x2\n",
    "def grad(x1,x2):\n",
    "    derx1=-400*x1*(x2-x1**2)-2*(1-x1)\n",
    "    derx2=200*x1*(x2-x1**2)\n",
    "    return derx1,derx2\n",
    "\n",
    "# Implementação do cálculo da descida do gradiente, dados x1, x2, learning rate,\n",
    "#  taxa de atualização do learning rate e número de passos limite\n",
    "def gd(x1, x2, lr, lr_tax, np_lim):\n",
    "    f_xv = rosenbrock(x1,x2)\n",
    "    i = 0\n",
    "    while i<np_lim:\n",
    "        dx1, dx2 = grad(x1,x2)\n",
    "        x1 = x1 - lr*dx1\n",
    "        x2 = x2 - lr*dx2\n",
    "        f_xn = rosenbrock(x1,x2)\n",
    "        tol = abs(f_xn - f_xv)\n",
    "        if tol < 1e-5:\n",
    "            #print(f'i = {i}')\n",
    "            break\n",
    "        f_xv = f_xn\n",
    "        lr = lr*lr_tax\n",
    "        i = i + 1\n",
    "    print(f'f(x) = {f_xn}')\n",
    "    print(f'número de atualizações de x = {i+1}')\n",
    "    print(f'x1 = {x1}')\n",
    "    print(f'x2 = {x2}')\n",
    "\n",
    "# Atendendo às condições definidas para o problema\n",
    "x1 = 0 # x1 inicial\n",
    "x2 = 0 # x2 inicial\n",
    "np_lim = 5e4 # número de passos limite"
   ]
  },
  {
   "cell_type": "markdown",
   "id": "5125d810",
   "metadata": {},
   "source": [
    "### Para learning rate de 1e-3"
   ]
  },
  {
   "cell_type": "code",
   "execution_count": 39,
   "id": "ecec8244",
   "metadata": {},
   "outputs": [
    {
     "name": "stdout",
     "output_type": "stream",
     "text": [
      "f(x) = 0.011444540455492737\n",
      "número de atualizações de x = 3812\n",
      "x1 = 0.8931231497222869\n",
      "x2 = 0.7972012071069313\n"
     ]
    }
   ],
   "source": [
    "lr = 1e-3\n",
    "lr_tax = 1 # learning rate se mantem igual\n",
    "gd(x1,x2,lr,lr_tax,np)"
   ]
  },
  {
   "cell_type": "markdown",
   "id": "a8834822",
   "metadata": {},
   "source": [
    "### Para learning rate de 1e-4"
   ]
  },
  {
   "cell_type": "code",
   "execution_count": 40,
   "id": "b6ec6905",
   "metadata": {},
   "outputs": [
    {
     "name": "stdout",
     "output_type": "stream",
     "text": [
      "f(x) = 0.09454872909799016\n",
      "número de atualizações de x = 15691\n",
      "x1 = 0.6929447601409896\n",
      "x2 = 0.47854207631285134\n"
     ]
    }
   ],
   "source": [
    "lr = 1e-4\n",
    "lr_tax = 1 # learning rate se mantem igual\n",
    "gd(x1,x2,lr,lr_tax,np)"
   ]
  },
  {
   "cell_type": "markdown",
   "id": "41908bd7",
   "metadata": {},
   "source": [
    "### Para learning rate de 1e-5"
   ]
  },
  {
   "cell_type": "code",
   "execution_count": null,
   "id": "ba3087ad",
   "metadata": {},
   "outputs": [],
   "source": []
  },
  {
   "cell_type": "markdown",
   "id": "bec3b2b6",
   "metadata": {},
   "source": [
    "### Política de redução do learning rate"
   ]
  },
  {
   "cell_type": "code",
   "execution_count": 41,
   "id": "11131e48",
   "metadata": {},
   "outputs": [
    {
     "name": "stdout",
     "output_type": "stream",
     "text": [
      "f(x) = 0.010498277197953135\n",
      "número de atualizações de x = 1521\n",
      "x1 = 0.8976361170812861\n",
      "x2 = 0.8053043625208375\n"
     ]
    }
   ],
   "source": [
    "lr = 5e-3\n",
    "lr_tax = 0.999 # learning rate é atualizado lr = lr * lr_tax\n",
    "gd(x1,x2,lr,lr_tax,np)"
   ]
  },
  {
   "cell_type": "markdown",
   "id": "2bacfadc",
   "metadata": {},
   "source": [
    "## Usando o tensorflow para calcular o gradiente"
   ]
  }
 ],
 "metadata": {
  "kernelspec": {
   "display_name": "Python 3",
   "language": "python",
   "name": "python3"
  },
  "language_info": {
   "codemirror_mode": {
    "name": "ipython",
    "version": 3
   },
   "file_extension": ".py",
   "mimetype": "text/x-python",
   "name": "python",
   "nbconvert_exporter": "python",
   "pygments_lexer": "ipython3",
   "version": "3.7.10"
  }
 },
 "nbformat": 4,
 "nbformat_minor": 5
}
