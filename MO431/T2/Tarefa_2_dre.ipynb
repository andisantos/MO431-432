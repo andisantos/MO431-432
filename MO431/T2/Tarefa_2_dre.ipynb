{
 "cells": [
  {
   "cell_type": "markdown",
   "metadata": {},
   "source": [
    "# Tarefa 2"
   ]
  },
  {
   "cell_type": "code",
   "execution_count": 88,
   "metadata": {},
   "outputs": [],
   "source": [
    "import numpy as np\n",
    "import matplotlib.pyplot as plt"
   ]
  },
  {
   "cell_type": "markdown",
   "metadata": {},
   "source": [
    "## Definindo a função Rosenbrock 2D a ser otimizada e a função que calcula o gradiente "
   ]
  },
  {
   "cell_type": "code",
   "execution_count": 84,
   "metadata": {},
   "outputs": [],
   "source": [
    "def rosenbrock_2d(x: np.array) -> float:\n",
    "    x1 = x[0]\n",
    "    x2 = x[1]\n",
    "    return np.power((1 - x1), 2) + 100*np.power((x2 - x1**2), 2)\n",
    "\n",
    "def calc_gradient(x: np.array) -> list:\n",
    "    x1 = x[0]\n",
    "    x2 = x[1]\n",
    "    dx1 = -400*x1*x2 + 400*np.power(x1, 3) + 2*x1 - 2\n",
    "    dx2 = 200*x2 - 200*np.power(x1, 2)\n",
    "    return [dx1, dx2]"
   ]
  },
  {
   "cell_type": "markdown",
   "metadata": {},
   "source": [
    "## 1. Descida do gradiente explítica "
   ]
  },
  {
   "cell_type": "code",
   "execution_count": 98,
   "metadata": {},
   "outputs": [],
   "source": [
    "def gradient_descent(lr: float, lr_decay:float) -> tuple:\n",
    " \n",
    "    # Variavel para salvar valores de f\n",
    "    function_values = []\n",
    "    \n",
    "    # Ponto inicial\n",
    "    current_x = [0, 0]\n",
    "    # Salva valor de f no ponto inicial\n",
    "    previous_f = rosenbrock_2d(current_x)\n",
    "    function_values.append(previous_f)\n",
    "    \n",
    "    step = 0\n",
    "    while step < 5e4:\n",
    "        step += 1\n",
    "        # Calcula gradientes e aplica\n",
    "        # descida do gradiente nos pontos\n",
    "        gradients = calc_gradient(current_x)\n",
    "        current_x -= lr*np.asarray(gradients)\n",
    "        \n",
    "        # Calcula valor da função no novo ponto\n",
    "        current_f = rosenbrock_2d(current_x)\n",
    "        function_values.append(current_f)     \n",
    "        # Checagem da tolerancia\n",
    "        tol_value = np.absolute(current_f - previous_f)\n",
    "        if tol_value < 1e-5:\n",
    "            break\n",
    "        previous_f = current_f\n",
    "        lr *= lr_decay\n",
    "\n",
    "    # Retorna todos os valores assumidos pela função\n",
    "    # e o ponto final\n",
    "    print(\"Ultimo valor de f:\", current_f)\n",
    "    print(\"Ultimo ponto x1 = {0} e x2 = {1}\".format(current_x[0], current_x[1]))\n",
    "    print(\"Número de passos:\", step)\n",
    "    \n",
    "    return [function_values, current_x, step]"
   ]
  },
  {
   "cell_type": "markdown",
   "metadata": {},
   "source": [
    "# Descida do Gradiente com learning rate 1e-3"
   ]
  },
  {
   "cell_type": "code",
   "execution_count": 99,
   "metadata": {},
   "outputs": [
    {
     "name": "stdout",
     "output_type": "stream",
     "text": [
      "Ultimo valor de f: 0.010552817956188867\n",
      "Ultimo ponto x1 = 0.8973659319527167 e x2 = 0.8048289691500664\n",
      "Número de passos: 3096\n"
     ]
    }
   ],
   "source": [
    "lr = 1e-3\n",
    "lr_decay = 1\n",
    "func_values, last_x, last_step = gradient_descent(lr, lr_decay)"
   ]
  },
  {
   "cell_type": "code",
   "execution_count": 107,
   "metadata": {},
   "outputs": [
    {
     "data": {
      "text/plain": [
       "Text(0, 0.5, 'Rosenbrock 2D')"
      ]
     },
     "execution_count": 107,
     "metadata": {},
     "output_type": "execute_result"
    },
    {
     "data": {
      "image/png": "[encoded data removed]",
      "text/plain": [
       "<Figure size 432x288 with 1 Axes>"
      ]
     },
     "metadata": {
      "needs_background": "light"
     },
     "output_type": "display_data"
    }
   ],
   "source": [
    "plt.plot(func_values)\n",
    "plt.title(\"Descida do gradiente para lr = 1e-3\")\n",
    "plt.xlabel(\"Steps\")\n",
    "plt.ylabel(\"Rosenbrock 2D\")"
   ]
  },
  {
   "cell_type": "markdown",
   "metadata": {},
   "source": [
    "# Descida do Gradiente com learning rate 1e-3"
   ]
  },
  {
   "cell_type": "code",
   "execution_count": 87,
   "metadata": {},
   "outputs": [
    {
     "name": "stdout",
     "output_type": "stream",
     "text": [
      "Ultimo valor de f: 0.07731336295746939\n",
      "Ultimo ponto x1 = 0.7222519131907607 e x2 = 0.5203464298142022\n",
      "Número de passos: 12384\n"
     ]
    }
   ],
   "source": [
    "lr = 1e-4\n",
    "lr_decay = 1\n",
    "func_values, last_x = gradient_descent(lr, lr_decay)"
   ]
  },
  {
   "cell_type": "code",
   "execution_count": 109,
   "metadata": {},
   "outputs": [
    {
     "data": {
      "text/plain": [
       "Text(0, 0.5, 'Rosenbrock 2D')"
      ]
     },
     "execution_count": 109,
     "metadata": {},
     "output_type": "execute_result"
    },
    {
     "data": {
      "image/png": "[encoded data removed]",
      "text/plain": [
       "<Figure size 432x288 with 1 Axes>"
      ]
     },
     "metadata": {
      "needs_background": "light"
     },
     "output_type": "display_data"
    }
   ],
   "source": [
    "plt.plot(func_values)\n",
    "plt.title(\"Descida do gradiente para lr = 1e-4\")\n",
    "plt.xlabel(\"Steps\")\n",
    "plt.ylabel(\"Rosenbrock 2D\")"
   ]
  }
 ],
 "metadata": {
  "kernelspec": {
   "display_name": "Python 3",
   "language": "python",
   "name": "python3"
  },
  "language_info": {
   "codemirror_mode": {
    "name": "ipython",
    "version": 3
   },
   "file_extension": ".py",
   "mimetype": "text/x-python",
   "name": "python",
   "nbconvert_exporter": "python",
   "pygments_lexer": "ipython3",
   "version": "3.8.5"
  }
 },
 "nbformat": 4,
 "nbformat_minor": 4
}
