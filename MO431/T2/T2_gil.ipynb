{
 "cells": [
  {
   "cell_type": "markdown",
   "id": "3ed91164",
   "metadata": {},
   "source": [
    "# Tarefa 2"
   ]
  },
  {
   "cell_type": "markdown",
   "id": "b34b06b6",
   "metadata": {},
   "source": [
    "Minimizar a função de 2 dimensões:\n",
    "\n",
    "**f(x1,x2) = (1-x1)² + 100(x2-x1²)²**\n",
    "\n",
    "> **Valor inicial:** Assumir [0,0]\n",
    "\n",
    "> **teste de convergência:** tolerância -> tol = |f(xnovo) - f(xvelho)|\n",
    "    parar quando a tolerância for menor que 1e-5\n",
    "    \n",
    "> **número máximo de passos:** interrompa a computação depois de 50.000 passos"
   ]
  },
  {
   "cell_type": "markdown",
   "id": "9617b1d7",
   "metadata": {},
   "source": [
    "## Implementação da descida do gradiente com gradiente explicito"
   ]
  },
  {
   "cell_type": "code",
   "execution_count": 16,
   "id": "bc57e9a2",
   "metadata": {},
   "outputs": [],
   "source": [
    "import matplotlib.pyplot as plt\n",
    "\n",
    "# Implementação do cálculo da função Rosenbrock, dados x1 e x2\n",
    "def rosenbrock(x1,x2):\n",
    "    rb = (1-x1)**2+100*(x2-x1**2)**2\n",
    "    return rb\n",
    "\n",
    "# Implementação do cálculo do gradiente da função Rosenbrock, dados x1 e x2\n",
    "def grad(x1,x2):\n",
    "    derx1=-400*x1*(x2-x1**2)-2*(1-x1)\n",
    "    derx2=200*(x2-x1**2)\n",
    "    return derx1,derx2\n",
    "\n",
    "# Implementação do cálculo da descida do gradiente, dados x1, x2, learning rate,\n",
    "#  taxa de atualização do learning rate e número de passos limite\n",
    "def gd(x1, x2, lr, lr_tax, np_lim):\n",
    "    fx = list()\n",
    "    f_xv = rosenbrock(x1,x2)\n",
    "    i = 0\n",
    "    fx.append(f_xv)\n",
    "    while i<np_lim:\n",
    "        dx1, dx2 = grad(x1,x2)\n",
    "        x1 = x1 - lr*dx1\n",
    "        x2 = x2 - lr*dx2\n",
    "        f_xn = rosenbrock(x1,x2)\n",
    "        fx.append(f_xn)\n",
    "        tol = abs(f_xn - f_xv)\n",
    "        if tol < 1e-5:\n",
    "            #print(f'i = {i}')\n",
    "            break\n",
    "        f_xv = f_xn\n",
    "        lr = lr*lr_tax\n",
    "        i = i + 1\n",
    "    print(f'f(x) = {f_xn}')\n",
    "    print(f'número de atualizações de x = {i+1}')\n",
    "    print(f'x1 = {x1}')\n",
    "    print(f'x2 = {x2}')\n",
    "    plt.plot(fx)\n",
    "\n",
    "# Atendendo às condições definidas para o problema\n",
    "x1 = 0 # x1 inicial\n",
    "x2 = 0 # x2 inicial\n",
    "np_lim = 5e4 # número de passos limite"
   ]
  },
  {
   "cell_type": "markdown",
   "id": "5125d810",
   "metadata": {},
   "source": [
    "### Para learning rate de 1e-3"
   ]
  },
  {
   "cell_type": "code",
   "execution_count": 17,
   "id": "ecec8244",
   "metadata": {},
   "outputs": [
    {
     "name": "stdout",
     "output_type": "stream",
     "text": [
      "f(x) = 0.01055281795618874\n",
      "número de atualizações de x = 3096\n",
      "x1 = 0.8973659319527174\n",
      "x2 = 0.8048289691500675\n"
     ]
    },
    {
     "data": {
      "image/png": "[encoded data removed]",
      "text/plain": [
       "<Figure size 432x288 with 1 Axes>"
      ]
     },
     "metadata": {
      "needs_background": "light"
     },
     "output_type": "display_data"
    }
   ],
   "source": [
    "lr = 1e-3\n",
    "lr_tax = 1 # learning rate se mantem igual\n",
    "gd(x1,x2,lr,lr_tax,np_lim)"
   ]
  },
  {
   "cell_type": "markdown",
   "id": "a8834822",
   "metadata": {},
   "source": [
    "### Para learning rate de 1e-4"
   ]
  },
  {
   "cell_type": "code",
   "execution_count": 18,
   "id": "b6ec6905",
   "metadata": {},
   "outputs": [
    {
     "name": "stdout",
     "output_type": "stream",
     "text": [
      "f(x) = 0.07731336295746909\n",
      "número de atualizações de x = 12384\n",
      "x1 = 0.7222519131907612\n",
      "x2 = 0.520346429814203\n"
     ]
    },
    {
     "data": {
      "image/png": "[encoded data removed]",
      "text/plain": [
       "<Figure size 432x288 with 1 Axes>"
      ]
     },
     "metadata": {
      "needs_background": "light"
     },
     "output_type": "display_data"
    }
   ],
   "source": [
    "lr = 1e-4\n",
    "lr_tax = 1 # learning rate se mantem igual\n",
    "gd(x1,x2,lr,lr_tax,np_lim)"
   ]
  },
  {
   "cell_type": "markdown",
   "id": "41908bd7",
   "metadata": {},
   "source": [
    "### Para learning rate de 1e-5"
   ]
  },
  {
   "cell_type": "code",
   "execution_count": null,
   "id": "ba3087ad",
   "metadata": {},
   "outputs": [],
   "source": []
  },
  {
   "cell_type": "markdown",
   "id": "bec3b2b6",
   "metadata": {},
   "source": [
    "### Política de redução do learning rate"
   ]
  },
  {
   "cell_type": "code",
   "execution_count": 19,
   "id": "11131e48",
   "metadata": {},
   "outputs": [
    {
     "name": "stdout",
     "output_type": "stream",
     "text": [
      "f(x) = 0.009252005608539797\n",
      "número de atualizações de x = 1467\n",
      "x1 = 0.9038989188815175\n",
      "x2 = 0.8166259741242387\n"
     ]
    },
    {
     "data": {
      "image/png": "[encoded data removed]",
      "text/plain": [
       "<Figure size 432x288 with 1 Axes>"
      ]
     },
     "metadata": {
      "needs_background": "light"
     },
     "output_type": "display_data"
    }
   ],
   "source": [
    "lr = 5e-3\n",
    "lr_tax = 0.999 # learning rate é atualizado lr = lr * lr_tax\n",
    "gd(x1,x2,lr,lr_tax,np_lim)"
   ]
  },
  {
   "cell_type": "markdown",
   "id": "2bacfadc",
   "metadata": {},
   "source": [
    "## Usando o tensorflow para calcular o gradiente"
   ]
  },
  {
   "cell_type": "code",
   "execution_count": 20,
   "id": "8b6e5ec0",
   "metadata": {},
   "outputs": [
    {
     "ename": "SystemError",
     "evalue": "<built-in function TFE_Py_TapeWatch> returned a result with an error set",
     "output_type": "error",
     "traceback": [
      "\u001b[1;31m---------------------------------------------------------------------------\u001b[0m",
      "\u001b[1;31mAttributeError\u001b[0m                            Traceback (most recent call last)",
      "\u001b[1;31mAttributeError\u001b[0m: 'RefVariable' object has no attribute '_id'",
      "\nThe above exception was the direct cause of the following exception:\n",
      "\u001b[1;31mSystemError\u001b[0m                               Traceback (most recent call last)",
      "\u001b[1;32m<ipython-input-20-c1d6f700349b>\u001b[0m in \u001b[0;36m<module>\u001b[1;34m\u001b[0m\n\u001b[0;32m     15\u001b[0m \u001b[0mx2_\u001b[0m \u001b[1;33m=\u001b[0m \u001b[0mtf\u001b[0m\u001b[1;33m.\u001b[0m\u001b[0mVariable\u001b[0m\u001b[1;33m(\u001b[0m\u001b[0mfloat\u001b[0m\u001b[1;33m(\u001b[0m\u001b[0mx2\u001b[0m\u001b[1;33m)\u001b[0m\u001b[1;33m,\u001b[0m \u001b[0mname\u001b[0m\u001b[1;33m=\u001b[0m\u001b[1;34m'x2_'\u001b[0m\u001b[1;33m,\u001b[0m \u001b[0mdtype\u001b[0m\u001b[1;33m=\u001b[0m\u001b[0mtf\u001b[0m\u001b[1;33m.\u001b[0m\u001b[0mfloat32\u001b[0m\u001b[1;33m,\u001b[0m \u001b[0mtrainable\u001b[0m\u001b[1;33m=\u001b[0m\u001b[1;32mTrue\u001b[0m\u001b[1;33m)\u001b[0m\u001b[1;33m\u001b[0m\u001b[1;33m\u001b[0m\u001b[0m\n\u001b[0;32m     16\u001b[0m \u001b[1;32mwith\u001b[0m \u001b[0mtf\u001b[0m\u001b[1;33m.\u001b[0m\u001b[0mGradientTape\u001b[0m\u001b[1;33m(\u001b[0m\u001b[0mpersistent\u001b[0m\u001b[1;33m=\u001b[0m\u001b[1;32mTrue\u001b[0m\u001b[1;33m)\u001b[0m \u001b[1;32mas\u001b[0m \u001b[0mtape\u001b[0m\u001b[1;33m:\u001b[0m\u001b[1;33m\u001b[0m\u001b[1;33m\u001b[0m\u001b[0m\n\u001b[1;32m---> 17\u001b[1;33m     \u001b[0mtape\u001b[0m\u001b[1;33m.\u001b[0m\u001b[0mwatch\u001b[0m\u001b[1;33m(\u001b[0m\u001b[0mx1_\u001b[0m\u001b[1;33m)\u001b[0m\u001b[1;33m\u001b[0m\u001b[1;33m\u001b[0m\u001b[0m\n\u001b[0m\u001b[0;32m     18\u001b[0m     \u001b[0mtape\u001b[0m\u001b[1;33m.\u001b[0m\u001b[0mwatch\u001b[0m\u001b[1;33m(\u001b[0m\u001b[0mx2_\u001b[0m\u001b[1;33m)\u001b[0m\u001b[1;33m\u001b[0m\u001b[1;33m\u001b[0m\u001b[0m\n\u001b[0;32m     19\u001b[0m     \u001b[0my\u001b[0m \u001b[1;33m=\u001b[0m \u001b[1;33m(\u001b[0m\u001b[1;36m1\u001b[0m\u001b[1;33m-\u001b[0m\u001b[0mx1_\u001b[0m\u001b[1;33m)\u001b[0m\u001b[1;33m**\u001b[0m\u001b[1;36m2\u001b[0m\u001b[1;33m+\u001b[0m\u001b[1;36m100\u001b[0m\u001b[1;33m*\u001b[0m\u001b[1;33m(\u001b[0m\u001b[0mx2_\u001b[0m\u001b[1;33m-\u001b[0m\u001b[0mx1_\u001b[0m\u001b[1;33m**\u001b[0m\u001b[1;36m2\u001b[0m\u001b[1;33m)\u001b[0m\u001b[1;33m**\u001b[0m\u001b[1;36m2\u001b[0m\u001b[1;33m\u001b[0m\u001b[1;33m\u001b[0m\u001b[0m\n",
      "\u001b[1;32mC:\\ProgramData\\Anaconda3\\lib\\site-packages\\tensorflow\\python\\eager\\backprop.py\u001b[0m in \u001b[0;36mwatch\u001b[1;34m(self, tensor)\u001b[0m\n\u001b[0;32m    825\u001b[0m         \u001b[0mtape\u001b[0m\u001b[1;33m.\u001b[0m\u001b[0mwatch_variable\u001b[0m\u001b[1;33m(\u001b[0m\u001b[0mself\u001b[0m\u001b[1;33m.\u001b[0m\u001b[0m_tape\u001b[0m\u001b[1;33m,\u001b[0m \u001b[0mt\u001b[0m\u001b[1;33m)\u001b[0m\u001b[1;33m\u001b[0m\u001b[1;33m\u001b[0m\u001b[0m\n\u001b[0;32m    826\u001b[0m       \u001b[1;32melse\u001b[0m\u001b[1;33m:\u001b[0m\u001b[1;33m\u001b[0m\u001b[1;33m\u001b[0m\u001b[0m\n\u001b[1;32m--> 827\u001b[1;33m         \u001b[0mtape\u001b[0m\u001b[1;33m.\u001b[0m\u001b[0mwatch\u001b[0m\u001b[1;33m(\u001b[0m\u001b[0mself\u001b[0m\u001b[1;33m.\u001b[0m\u001b[0m_tape\u001b[0m\u001b[1;33m,\u001b[0m \u001b[0mt\u001b[0m\u001b[1;33m)\u001b[0m\u001b[1;33m\u001b[0m\u001b[1;33m\u001b[0m\u001b[0m\n\u001b[0m\u001b[0;32m    828\u001b[0m \u001b[1;33m\u001b[0m\u001b[0m\n\u001b[0;32m    829\u001b[0m   \u001b[1;33m@\u001b[0m\u001b[0mtf_contextlib\u001b[0m\u001b[1;33m.\u001b[0m\u001b[0mcontextmanager\u001b[0m\u001b[1;33m\u001b[0m\u001b[1;33m\u001b[0m\u001b[0m\n",
      "\u001b[1;32mC:\\ProgramData\\Anaconda3\\lib\\site-packages\\tensorflow\\python\\eager\\tape.py\u001b[0m in \u001b[0;36mwatch\u001b[1;34m(tape, tensor)\u001b[0m\n\u001b[0;32m     57\u001b[0m \u001b[1;32mdef\u001b[0m \u001b[0mwatch\u001b[0m\u001b[1;33m(\u001b[0m\u001b[0mtape\u001b[0m\u001b[1;33m,\u001b[0m \u001b[0mtensor\u001b[0m\u001b[1;33m)\u001b[0m\u001b[1;33m:\u001b[0m\u001b[1;33m\u001b[0m\u001b[1;33m\u001b[0m\u001b[0m\n\u001b[0;32m     58\u001b[0m   \u001b[1;34m\"\"\"Marks this tensor to be watched by the given tape.\"\"\"\u001b[0m\u001b[1;33m\u001b[0m\u001b[1;33m\u001b[0m\u001b[0m\n\u001b[1;32m---> 59\u001b[1;33m   \u001b[0mpywrap_tensorflow\u001b[0m\u001b[1;33m.\u001b[0m\u001b[0mTFE_Py_TapeWatch\u001b[0m\u001b[1;33m(\u001b[0m\u001b[0mtape\u001b[0m\u001b[1;33m.\u001b[0m\u001b[0m_tape\u001b[0m\u001b[1;33m,\u001b[0m \u001b[0mtensor\u001b[0m\u001b[1;33m)\u001b[0m  \u001b[1;31m# pylint: disable=protected-access\u001b[0m\u001b[1;33m\u001b[0m\u001b[1;33m\u001b[0m\u001b[0m\n\u001b[0m\u001b[0;32m     60\u001b[0m \u001b[1;33m\u001b[0m\u001b[0m\n\u001b[0;32m     61\u001b[0m \u001b[1;33m\u001b[0m\u001b[0m\n",
      "\u001b[1;31mSystemError\u001b[0m: <built-in function TFE_Py_TapeWatch> returned a result with an error set"
     ]
    }
   ],
   "source": [
    "import numpy as np\n",
    "import matplotlib.pyplot as plt\n",
    "\n",
    "import tensorflow as tf\n",
    "\n",
    "# Implementação do cálculo da função Rosenbrock, dados x1 e x2\n",
    "def rosenbrock(x1,x2):\n",
    "    rb = (1-x1)**2+100*(x2-x1**2)**2\n",
    "    return rb\n",
    "\n",
    "# Atendendo às condições definidas para o problema\n",
    "x1 = 0. # x1 inicial\n",
    "x2 = 0. # x2 inicial \n",
    "x1_ = tf.Variable(float(x1), name='x1_', dtype=tf.float32, trainable=True)\n",
    "x2_ = tf.Variable(float(x2), name='x2_', dtype=tf.float32, trainable=True)\n",
    "with tf.GradientTape(persistent=True) as tape:\n",
    "    tape.watch(x1_)\n",
    "    tape.watch(x2_)\n",
    "    y = (1-x1_)**2+100*(x2_-x1_**2)**2\n",
    "lr = 5e-3\n",
    "lr_tax = 0.999 # learning rate é atualizado lr = lr * lr_tax\n",
    "fx = list()\n",
    "f_xv = rosenbrock(x1,x2)\n",
    "i = 0\n",
    "fx.append(f_xv)\n",
    "while i<np_lim:\n",
    "    dx1 = tape.gradient(y, x1_).numpy()\n",
    "    dx2 = tape.gradient(y, x2_).numpy()\n",
    "    x1 = x1 - lr*dx1\n",
    "    x2 = x2 - lr*dx2\n",
    "    f_xn = rosenbrock(x1,x2)\n",
    "    fx.append(f_xn)\n",
    "    tol = abs(f_xn - f_xv)\n",
    "    if tol < 1e-5:\n",
    "        #print(f'i = {i}')\n",
    "        break\n",
    "    f_xv = f_xn\n",
    "    lr = lr*lr_tax\n",
    "    i = i + 1\n",
    "print(f'f(x) = {f_xn}')\n",
    "print(f'número de atualizações de x = {i+1}')\n",
    "print(f'x1 = {x1}')\n",
    "print(f'x2 = {x2}')\n",
    "plt.plot(fx) \n"
   ]
  },
  {
   "cell_type": "code",
   "execution_count": null,
   "id": "bce64372",
   "metadata": {},
   "outputs": [],
   "source": []
  }
 ],
 "metadata": {
  "kernelspec": {
   "display_name": "Python 3",
   "language": "python",
   "name": "python3"
  },
  "language_info": {
   "codemirror_mode": {
    "name": "ipython",
    "version": 3
   },
   "file_extension": ".py",
   "mimetype": "text/x-python",
   "name": "python",
   "nbconvert_exporter": "python",
   "pygments_lexer": "ipython3",
   "version": "3.7.10"
  }
 },
 "nbformat": 4,
 "nbformat_minor": 5
}
