{
 "cells": [
  {
   "cell_type": "markdown",
   "metadata": {},
   "source": [
    "# Tarefa 2"
   ]
  },
  {
   "cell_type": "markdown",
   "metadata": {},
   "source": [
    "Minimizar a função de 2 dimensões:\n",
    "\n",
    "**f(x1,x2) = (1-x1)² + 100(x2-x1²)²**\n",
    "\n",
    "> **Valor inicial:** Assumir [0,0]\n",
    "\n",
    "> **teste de convergência:** tolerância -> tol = |f(xnovo) - f(xvelho)|\n",
    "    parar quando a tolerância for menor que 1e-5\n",
    "    \n",
    "> **número máximo de passos:** interrompa a computação depois de 50.000 passos"
   ]
  },
  {
   "cell_type": "markdown",
   "metadata": {},
   "source": [
    "## Implementação da descida do gradiente com gradiente explicito"
   ]
  },
  {
   "cell_type": "code",
   "execution_count": 1,
   "metadata": {},
   "outputs": [],
   "source": [
    "import matplotlib.pyplot as plt\n",
    "\n",
    "# Implementação do cálculo da função Rosenbrock, dados x1 e x2\n",
    "def rosenbrock(x1,x2):\n",
    "    rb = (1-x1)**2+100*(x2-x1**2)**2\n",
    "    return rb\n",
    "\n",
    "# Implementação do cálculo do gradiente da função Rosenbrock, dados x1 e x2\n",
    "def grad(x1,x2):\n",
    "    derx1=-400*x1*(x2-x1**2)-2*(1-x1)\n",
    "    derx2=200*(x2-x1**2)\n",
    "    return derx1,derx2\n",
    "\n",
    "# Implementação do cálculo da descida do gradiente, dados x1, x2, learning rate,\n",
    "#  taxa de atualização do learning rate e número de passos limite\n",
    "def gd(x1, x2, lr, lr_tax, np_lim):\n",
    "    fx = list()\n",
    "    f_xv = rosenbrock(x1,x2)\n",
    "    i = 0\n",
    "    fx.append(f_xv)\n",
    "    while i<np_lim:\n",
    "        dx1, dx2 = grad(x1,x2)\n",
    "        x1 = x1 - lr*dx1\n",
    "        x2 = x2 - lr*dx2\n",
    "        f_xn = rosenbrock(x1,x2)\n",
    "        fx.append(f_xn)\n",
    "        tol = abs(f_xn - f_xv)\n",
    "        if tol < 1e-5:\n",
    "            #print(f'i = {i}')\n",
    "            break\n",
    "        f_xv = f_xn\n",
    "        lr = lr*lr_tax\n",
    "        i = i + 1\n",
    "    print(f'f(x) = {f_xn}')\n",
    "    print(f'número de atualizações de x = {i+1}')\n",
    "    print(f'x1 = {x1}')\n",
    "    print(f'x2 = {x2}')\n",
    "    plt.plot(fx)\n",
    "\n",
    "# Atendendo às condições definidas para o problema\n",
    "x1 = 0 # x1 inicial\n",
    "x2 = 0 # x2 inicial\n",
    "np_lim = 5e4 # número de passos limite"
   ]
  },
  {
   "cell_type": "markdown",
   "metadata": {},
   "source": [
    "### Para learning rate de 1e-3"
   ]
  },
  {
   "cell_type": "code",
   "execution_count": 2,
   "metadata": {},
   "outputs": [
    {
     "name": "stdout",
     "output_type": "stream",
     "text": [
      "f(x) = 0.01055281795618874\n",
      "número de atualizações de x = 3096\n",
      "x1 = 0.8973659319527174\n",
      "x2 = 0.8048289691500675\n"
     ]
    },
    {
     "data": {
      "image/png": "[encoded data removed]",
      "text/plain": [
       "<Figure size 432x288 with 1 Axes>"
      ]
     },
     "metadata": {
      "needs_background": "light"
     },
     "output_type": "display_data"
    }
   ],
   "source": [
    "lr = 1e-3\n",
    "lr_tax = 1 # learning rate se mantem igual\n",
    "gd(x1,x2,lr,lr_tax,np_lim)"
   ]
  },
  {
   "cell_type": "markdown",
   "metadata": {},
   "source": [
    "### Para learning rate de 1e-4"
   ]
  },
  {
   "cell_type": "code",
   "execution_count": 3,
   "metadata": {},
   "outputs": [
    {
     "name": "stdout",
     "output_type": "stream",
     "text": [
      "f(x) = 0.07731336295746909\n",
      "número de atualizações de x = 12384\n",
      "x1 = 0.7222519131907612\n",
      "x2 = 0.520346429814203\n"
     ]
    },
    {
     "data": {
      "image/png": "[encoded data removed]",
      "text/plain": [
       "<Figure size 432x288 with 1 Axes>"
      ]
     },
     "metadata": {
      "needs_background": "light"
     },
     "output_type": "display_data"
    }
   ],
   "source": [
    "lr = 1e-4\n",
    "lr_tax = 1 # learning rate se mantem igual\n",
    "gd(x1,x2,lr,lr_tax,np_lim)"
   ]
  },
  {
   "cell_type": "markdown",
   "metadata": {},
   "source": [
    "### Para learning rate de 1e-5"
   ]
  },
  {
   "cell_type": "code",
   "execution_count": null,
   "metadata": {},
   "outputs": [],
   "source": []
  },
  {
   "cell_type": "markdown",
   "metadata": {},
   "source": [
    "### Política de redução do learning rate"
   ]
  },
  {
   "cell_type": "code",
   "execution_count": 4,
   "metadata": {},
   "outputs": [
    {
     "name": "stdout",
     "output_type": "stream",
     "text": [
      "f(x) = 0.009252005608804341\n",
      "número de atualizações de x = 1467\n",
      "x1 = 0.9038989188801437\n",
      "x2 = 0.8166259741217491\n"
     ]
    },
    {
     "data": {
      "image/png": "[encoded data removed]",
      "text/plain": [
       "<Figure size 432x288 with 1 Axes>"
      ]
     },
     "metadata": {
      "needs_background": "light"
     },
     "output_type": "display_data"
    }
   ],
   "source": [
    "lr = 5e-3\n",
    "lr_tax = 0.999 # learning rate é atualizado lr = lr * lr_tax\n",
    "gd(x1,x2,lr,lr_tax,np_lim)"
   ]
  },
  {
   "cell_type": "markdown",
   "metadata": {},
   "source": [
    "## Usando o tensorflow para calcular o gradiente"
   ]
  },
  {
   "cell_type": "code",
   "execution_count": 10,
   "metadata": {},
   "outputs": [
    {
     "name": "stdout",
     "output_type": "stream",
     "text": [
      "f(x) = 0.010552817833288833\n",
      "número de atualizações de x = 3096\n",
      "x1 = 0.8973659159988171\n",
      "x2 = 0.8048289794258862\n"
     ]
    },
    {
     "data": {
      "text/plain": [
       "[<matplotlib.lines.Line2D at 0x7f56e81eb310>]"
      ]
     },
     "execution_count": 10,
     "metadata": {},
     "output_type": "execute_result"
    },
    {
     "data": {
      "image/png": "[encoded data removed]",
      "text/plain": [
       "<Figure size 432x288 with 1 Axes>"
      ]
     },
     "metadata": {
      "needs_background": "light"
     },
     "output_type": "display_data"
    }
   ],
   "source": [
    "import numpy as np\n",
    "import matplotlib.pyplot as plt\n",
    "\n",
    "import tensorflow as tf\n",
    "\n",
    "# Implementação do cálculo da função Rosenbrock, dados x1 e x2\n",
    "def rosenbrock(x1,x2):\n",
    "    rb = (1-x1)**2+100*(x2-x1**2)**2\n",
    "    return rb\n",
    "\n",
    "# Atendendo às condições definidas para o problema\n",
    "x1 = 0 # x1 inicial\n",
    "x2 = 0 # x2 inicial \n",
    "\n",
    "lr = 1e-3\n",
    "lr_tax = 0.999 # learning rate é atualizado lr = lr * lr_tax\n",
    "fx = list()\n",
    "f_xv = rosenbrock(x1,x2)\n",
    "i = 0\n",
    "fx.append(f_xv)\n",
    "while i<np_lim:\n",
    "    x1_ = tf.Variable(float(x1), name='x1_', dtype=tf.float32, trainable=True)\n",
    "    x2_ = tf.Variable(float(x2), name='x2_', dtype=tf.float32, trainable=True)\n",
    "    with tf.GradientTape(persistent=True) as tape:\n",
    "        tape.watch(x1_)\n",
    "        tape.watch(x2_)\n",
    "        y = (1-x1_)**2+100*(x2_-x1_**2)**2\n",
    "    dx1 = tape.gradient(y, x1_).numpy()\n",
    "    dx2 = tape.gradient(y, x2_).numpy()\n",
    "    x1 = x1 - lr*dx1\n",
    "    x2 = x2 - lr*dx2\n",
    "    f_xn = rosenbrock(x1,x2)\n",
    "    fx.append(f_xn)\n",
    "    tol = abs(f_xn - f_xv)\n",
    "    if tol < 1e-5:\n",
    "        #print(f'i = {i}')\n",
    "        break\n",
    "    f_xv = f_xn\n",
    "#     lr = lr*lr_tax\n",
    "    i = i + 1\n",
    "print(f'f(x) = {f_xn}')\n",
    "print(f'número de atualizações de x = {i+1}')\n",
    "print(f'x1 = {x1}')\n",
    "print(f'x2 = {x2}')\n",
    "plt.plot(fx) \n"
   ]
  },
  {
   "cell_type": "code",
   "execution_count": null,
   "metadata": {},
   "outputs": [],
   "source": []
  }
 ],
 "metadata": {
  "kernelspec": {
   "display_name": "Python 3",
   "language": "python",
   "name": "python3"
  },
  "language_info": {
   "codemirror_mode": {
    "name": "ipython",
    "version": 3
   },
   "file_extension": ".py",
   "mimetype": "text/x-python",
   "name": "python",
   "nbconvert_exporter": "python",
   "pygments_lexer": "ipython3",
   "version": "3.8.5"
  }
 },
 "nbformat": 4,
 "nbformat_minor": 5
}
